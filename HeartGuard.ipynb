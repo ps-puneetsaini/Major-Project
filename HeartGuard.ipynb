{
  "nbformat": 4,
  "nbformat_minor": 0,
  "metadata": {
    "colab": {
      "provenance": [],
      "authorship_tag": "ABX9TyMds6cQU4WlVe2NSM+dv0vS",
      "include_colab_link": true
    },
    "kernelspec": {
      "name": "python3",
      "display_name": "Python 3"
    },
    "language_info": {
      "name": "python"
    }
  },
  "cells": [
    {
      "cell_type": "markdown",
      "metadata": {
        "id": "view-in-github",
        "colab_type": "text"
      },
      "source": [
        "<a href=\"https://colab.research.google.com/github/ps-puneetsaini/Major-Project/blob/main/HeartGuard.ipynb\" target=\"_parent\"><img src=\"https://colab.research.google.com/assets/colab-badge.svg\" alt=\"Open In Colab\"/></a>"
      ]
    },
    {
      "cell_type": "code",
      "source": [
        "import pandas as pd\n",
        "\n",
        "df = pd.read_csv(\"heart_2022_with_nans.csv\")\n",
        "\n",
        "num_rows, num_columns = df.shape\n",
        "\n",
        "print(f\"Number of rows: {num_rows}\")\n",
        "print(f\"Number of columns: {num_columns}\")\n"
      ],
      "metadata": {
        "id": "BRXb5r2PbIg9",
        "colab": {
          "base_uri": "https://localhost:8080/"
        },
        "outputId": "d9887584-829a-40af-b980-58d0040f6e18"
      },
      "execution_count": 2,
      "outputs": [
        {
          "output_type": "stream",
          "name": "stdout",
          "text": [
            "Number of rows: 444766\n",
            "Number of columns: 32\n"
          ]
        }
      ]
    },
    {
      "cell_type": "code",
      "source": [
        "import numpy as np\n",
        "import pandas as pd\n",
        "from sklearn.preprocessing import StandardScaler, LabelEncoder\n",
        "from sklearn.model_selection import train_test_split\n",
        "from scipy import stats\n",
        "\n",
        "file_path = \"heart_2022_with_nans.csv\"\n",
        "df = pd.read_csv(\"heart_2022_with_nans.csv\")\n",
        "\n",
        "print(df.info())\n",
        "print(df.describe())\n",
        "print(df.head())\n",
        "\n"
      ],
      "metadata": {
        "id": "civFj9f62Zmm",
        "outputId": "11ee316d-b198-477e-fd43-f3481cdf09ad",
        "colab": {
          "base_uri": "https://localhost:8080/"
        }
      },
      "execution_count": 3,
      "outputs": [
        {
          "output_type": "stream",
          "name": "stdout",
          "text": [
            "<class 'pandas.core.frame.DataFrame'>\n",
            "RangeIndex: 444766 entries, 0 to 444765\n",
            "Data columns (total 32 columns):\n",
            " #   Column                 Non-Null Count   Dtype  \n",
            "---  ------                 --------------   -----  \n",
            " 0   Sex                    444766 non-null  int64  \n",
            " 1   GeneralHealth          444766 non-null  int64  \n",
            " 2   PhysicalHealthDays     444766 non-null  float64\n",
            " 3   MentalHealthDays       444766 non-null  float64\n",
            " 4   LastCheckupTime        444766 non-null  object \n",
            " 5   PhysicalActivities     444766 non-null  int64  \n",
            " 6   SleepHours             444766 non-null  float64\n",
            " 7   HadHeartAttack         444766 non-null  int64  \n",
            " 8   HadAngina              444766 non-null  int64  \n",
            " 9   HadStroke              444766 non-null  int64  \n",
            " 10  HadAsthma              444766 non-null  int64  \n",
            " 11  HadSkinCancer          444766 non-null  int64  \n",
            " 12  HadCOPD                444766 non-null  int64  \n",
            " 13  HadDepressiveDisorder  444766 non-null  int64  \n",
            " 14  HadKidneyDisease       444766 non-null  int64  \n",
            " 15  HadArthritis           444766 non-null  int64  \n",
            " 16  HadDiabetes            444766 non-null  object \n",
            " 17  DifficultyErrands      444766 non-null  int64  \n",
            " 18  SmokerStatus           444766 non-null  int64  \n",
            " 19  ECigaretteUsage        444766 non-null  int64  \n",
            " 20  ChestScan              444766 non-null  int64  \n",
            " 21  RaceEthnicityCategory  444766 non-null  int64  \n",
            " 22  AgeCategory            444766 non-null  object \n",
            " 23  HeightInMeters         444766 non-null  float64\n",
            " 24  WeightInKilograms      444766 non-null  float64\n",
            " 25  BMI                    444766 non-null  float64\n",
            " 26  AlcoholDrinkers        444766 non-null  int64  \n",
            " 27  HIVTesting             444766 non-null  int64  \n",
            " 28  FluVaxLast12           444766 non-null  int64  \n",
            " 29  PneumoVaxEver          444766 non-null  int64  \n",
            " 30  HighRiskLastYear       444766 non-null  int64  \n",
            " 31  CovidPos               444766 non-null  object \n",
            "dtypes: float64(6), int64(22), object(4)\n",
            "memory usage: 108.6+ MB\n",
            "None\n",
            "                 Sex  GeneralHealth  PhysicalHealthDays  MentalHealthDays  \\\n",
            "count  444766.000000  444766.000000       444766.000000     444766.000000   \n",
            "mean        0.470043       2.258340            4.244610          4.296893   \n",
            "std         0.499102       1.450052            8.610533          8.327182   \n",
            "min         0.000000       0.000000            0.000000          0.000000   \n",
            "25%         0.000000       1.000000            0.000000          0.000000   \n",
            "50%         0.000000       2.000000            0.000000          0.000000   \n",
            "75%         1.000000       4.000000            3.000000          4.000000   \n",
            "max         1.000000       4.000000           30.000000         30.000000   \n",
            "\n",
            "       PhysicalActivities     SleepHours  HadHeartAttack      HadAngina  \\\n",
            "count       444766.000000  444766.000000   444766.000000  444766.000000   \n",
            "mean             0.760620       7.022504        0.056452       0.059697   \n",
            "std              0.426705       1.493660        0.230793       0.236924   \n",
            "min              0.000000       1.000000        0.000000       0.000000   \n",
            "25%              1.000000       6.000000        0.000000       0.000000   \n",
            "50%              1.000000       7.000000        0.000000       0.000000   \n",
            "75%              1.000000       8.000000        0.000000       0.000000   \n",
            "max              1.000000      24.000000        1.000000       1.000000   \n",
            "\n",
            "           HadStroke      HadAsthma  ...      ChestScan  \\\n",
            "count  444766.000000  444766.000000  ...  444766.000000   \n",
            "mean        0.043254       0.149944  ...       0.372911   \n",
            "std         0.203429       0.357017  ...       0.483579   \n",
            "min         0.000000       0.000000  ...       0.000000   \n",
            "25%         0.000000       0.000000  ...       0.000000   \n",
            "50%         0.000000       0.000000  ...       0.000000   \n",
            "75%         0.000000       0.000000  ...       1.000000   \n",
            "max         1.000000       1.000000  ...       1.000000   \n",
            "\n",
            "       RaceEthnicityCategory  HeightInMeters  WeightInKilograms  \\\n",
            "count          444766.000000   444766.000000      444766.000000   \n",
            "mean                3.297853        1.702520          82.855872   \n",
            "std                 1.336765        0.103713          20.428642   \n",
            "min                 0.000000        0.910000          22.680000   \n",
            "25%                 4.000000        1.630000          68.040000   \n",
            "50%                 4.000000        1.700000          80.740000   \n",
            "75%                 4.000000        1.780000          91.630000   \n",
            "max                 4.000000        2.410000         292.570000   \n",
            "\n",
            "                 BMI  AlcoholDrinkers     HIVTesting   FluVaxLast12  \\\n",
            "count  444766.000000    444766.000000  444766.000000  444766.000000   \n",
            "mean       28.411238         0.578073       0.290225       0.575620   \n",
            "std         6.196872         0.493868       0.453866       0.494249   \n",
            "min        12.020000         0.000000       0.000000       0.000000   \n",
            "25%        24.410000         0.000000       0.000000       0.000000   \n",
            "50%        27.440000         1.000000       0.000000       1.000000   \n",
            "75%        31.010000         1.000000       1.000000       1.000000   \n",
            "max        99.640000         1.000000       1.000000       1.000000   \n",
            "\n",
            "       PneumoVaxEver  HighRiskLastYear  \n",
            "count  444766.000000     444766.000000  \n",
            "mean        0.342827          0.038638  \n",
            "std         0.474655          0.192732  \n",
            "min         0.000000          0.000000  \n",
            "25%         0.000000          0.000000  \n",
            "50%         0.000000          0.000000  \n",
            "75%         1.000000          0.000000  \n",
            "max         1.000000          1.000000  \n",
            "\n",
            "[8 rows x 28 columns]\n",
            "   Sex  GeneralHealth  PhysicalHealthDays  MentalHealthDays  \\\n",
            "0    0              4                 0.0               0.0   \n",
            "1    0              0                 0.0               0.0   \n",
            "2    0              4                 2.0               3.0   \n",
            "3    0              0                 0.0               0.0   \n",
            "4    0              1                 2.0               0.0   \n",
            "\n",
            "                                     LastCheckupTime  PhysicalActivities  \\\n",
            "0  Within past year (anytime less than 12 months ...                   0   \n",
            "1  Within past year (anytime less than 12 months ...                   0   \n",
            "2  Within past year (anytime less than 12 months ...                   1   \n",
            "3  Within past year (anytime less than 12 months ...                   1   \n",
            "4  Within past year (anytime less than 12 months ...                   1   \n",
            "\n",
            "   SleepHours  HadHeartAttack  HadAngina  HadStroke  ...      AgeCategory  \\\n",
            "0         8.0               0          0          0  ...  Age 80 or older   \n",
            "1         6.0               0          0          0  ...  Age 80 or older   \n",
            "2         5.0               0          0          0  ...     Age 55 to 59   \n",
            "3         7.0               0          0          0  ...     Age 65 to 69   \n",
            "4         9.0               0          0          0  ...     Age 40 to 44   \n",
            "\n",
            "   HeightInMeters  WeightInKilograms    BMI  AlcoholDrinkers  HIVTesting  \\\n",
            "0            1.70              80.74  27.44                0           0   \n",
            "1            1.60              68.04  26.57                0           0   \n",
            "2            1.57              63.50  25.61                0           0   \n",
            "3            1.65              63.50  23.30                0           0   \n",
            "4            1.57              53.98  21.77                1           0   \n",
            "\n",
            "  FluVaxLast12  PneumoVaxEver  HighRiskLastYear  CovidPos  \n",
            "0            1              0                 0         0  \n",
            "1            0              0                 0         0  \n",
            "2            0              0                 0         1  \n",
            "3            1              1                 0         0  \n",
            "4            0              1                 0         0  \n",
            "\n",
            "[5 rows x 32 columns]\n"
          ]
        }
      ]
    }
  ]
}