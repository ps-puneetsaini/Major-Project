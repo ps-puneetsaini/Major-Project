{
  "nbformat": 4,
  "nbformat_minor": 0,
  "metadata": {
    "colab": {
      "provenance": [],
      "authorship_tag": "ABX9TyNy9GwlDoAI82AomFHNbmTa",
      "include_colab_link": true
    },
    "kernelspec": {
      "name": "python3",
      "display_name": "Python 3"
    },
    "language_info": {
      "name": "python"
    }
  },
  "cells": [
    {
      "cell_type": "markdown",
      "metadata": {
        "id": "view-in-github",
        "colab_type": "text"
      },
      "source": [
        "<a href=\"https://colab.research.google.com/github/ps-puneetsaini/Major-Project/blob/main/HeartGuard.ipynb\" target=\"_parent\"><img src=\"https://colab.research.google.com/assets/colab-badge.svg\" alt=\"Open In Colab\"/></a>"
      ]
    },
    {
      "cell_type": "code",
      "source": [
        "import pandas as pd\n",
        "\n",
        "df = pd.read_csv(\"heart_2022_with_nans.csv\")\n",
        "\n",
        "num_rows, num_columns = df.shape\n",
        "\n",
        "print(f\"Number of rows: {num_rows}\")\n",
        "print(f\"Number of columns: {num_columns}\")\n"
      ],
      "metadata": {
        "id": "BRXb5r2PbIg9",
        "colab": {
          "base_uri": "https://localhost:8080/"
        },
        "outputId": "a4e5ee4d-6986-41b6-e7ca-ace2ad880811"
      },
      "execution_count": 12,
      "outputs": [
        {
          "output_type": "stream",
          "name": "stdout",
          "text": [
            "Number of rows: 445132\n",
            "Number of columns: 40\n"
          ]
        }
      ]
    },
    {
      "cell_type": "code",
      "source": [
        "import numpy as np\n",
        "import pandas as pd\n",
        "from sklearn.preprocessing import StandardScaler, LabelEncoder\n",
        "from sklearn.model_selection import train_test_split\n",
        "from scipy import stats\n",
        "\n",
        "file_path = \"heart_2022_with_nans.csv\"\n",
        "df = pd.read_csv(\"heart_2022_with_nans.csv\")\n",
        "\n",
        "print(df.info())\n",
        "print(df.describe())\n",
        "print(df.head())\n",
        "\n"
      ],
      "metadata": {
        "id": "civFj9f62Zmm",
        "outputId": "6ff41d1e-638b-4148-d240-5447f2caa105",
        "colab": {
          "base_uri": "https://localhost:8080/"
        },
        "collapsed": true
      },
      "execution_count": 13,
      "outputs": [
        {
          "output_type": "stream",
          "name": "stdout",
          "text": [
            "<class 'pandas.core.frame.DataFrame'>\n",
            "RangeIndex: 445132 entries, 0 to 445131\n",
            "Data columns (total 40 columns):\n",
            " #   Column                     Non-Null Count   Dtype  \n",
            "---  ------                     --------------   -----  \n",
            " 0   State                      445132 non-null  object \n",
            " 1   Sex                        445132 non-null  object \n",
            " 2   GeneralHealth              443934 non-null  object \n",
            " 3   PhysicalHealthDays         434205 non-null  float64\n",
            " 4   MentalHealthDays           436065 non-null  float64\n",
            " 5   LastCheckupTime            436824 non-null  object \n",
            " 6   PhysicalActivities         444039 non-null  object \n",
            " 7   SleepHours                 439679 non-null  float64\n",
            " 8   RemovedTeeth               433772 non-null  object \n",
            " 9   HadHeartAttack             442067 non-null  object \n",
            " 10  HadAngina                  440727 non-null  object \n",
            " 11  HadStroke                  443575 non-null  object \n",
            " 12  HadAsthma                  443359 non-null  object \n",
            " 13  HadSkinCancer              441989 non-null  object \n",
            " 14  HadCOPD                    442913 non-null  object \n",
            " 15  HadDepressiveDisorder      442320 non-null  object \n",
            " 16  HadKidneyDisease           443206 non-null  object \n",
            " 17  HadArthritis               442499 non-null  object \n",
            " 18  HadDiabetes                444045 non-null  object \n",
            " 19  DeafOrHardOfHearing        424485 non-null  object \n",
            " 20  BlindOrVisionDifficulty    423568 non-null  object \n",
            " 21  DifficultyConcentrating    420892 non-null  object \n",
            " 22  DifficultyWalking          421120 non-null  object \n",
            " 23  DifficultyDressingBathing  421217 non-null  object \n",
            " 24  DifficultyErrands          419476 non-null  object \n",
            " 25  SmokerStatus               409670 non-null  object \n",
            " 26  ECigaretteUsage            409472 non-null  object \n",
            " 27  ChestScan                  389086 non-null  object \n",
            " 28  RaceEthnicityCategory      431075 non-null  object \n",
            " 29  AgeCategory                436053 non-null  object \n",
            " 30  HeightInMeters             416480 non-null  float64\n",
            " 31  WeightInKilograms          403054 non-null  float64\n",
            " 32  BMI                        396326 non-null  float64\n",
            " 33  AlcoholDrinkers            398558 non-null  object \n",
            " 34  HIVTesting                 379005 non-null  object \n",
            " 35  FluVaxLast12               398011 non-null  object \n",
            " 36  PneumoVaxEver              368092 non-null  object \n",
            " 37  TetanusLast10Tdap          362616 non-null  object \n",
            " 38  HighRiskLastYear           394509 non-null  object \n",
            " 39  CovidPos                   394368 non-null  object \n",
            "dtypes: float64(6), object(34)\n",
            "memory usage: 135.8+ MB\n",
            "None\n",
            "       PhysicalHealthDays  MentalHealthDays     SleepHours  HeightInMeters  \\\n",
            "count       434205.000000     436065.000000  439679.000000   416480.000000   \n",
            "mean             4.347919          4.382649       7.022983        1.702691   \n",
            "std              8.688912          8.387475       1.502425        0.107177   \n",
            "min              0.000000          0.000000       1.000000        0.910000   \n",
            "25%              0.000000          0.000000       6.000000        1.630000   \n",
            "50%              0.000000          0.000000       7.000000        1.700000   \n",
            "75%              3.000000          5.000000       8.000000        1.780000   \n",
            "max             30.000000         30.000000      24.000000        2.410000   \n",
            "\n",
            "       WeightInKilograms            BMI  \n",
            "count      403054.000000  396326.000000  \n",
            "mean           83.074470      28.529842  \n",
            "std            21.448173       6.554889  \n",
            "min            22.680000      12.020000  \n",
            "25%            68.040000      24.130000  \n",
            "50%            80.740000      27.440000  \n",
            "75%            95.250000      31.750000  \n",
            "max           292.570000      99.640000  \n",
            "     State     Sex GeneralHealth  PhysicalHealthDays  MentalHealthDays  \\\n",
            "0  Alabama  Female     Very good                 0.0               0.0   \n",
            "1  Alabama  Female     Excellent                 0.0               0.0   \n",
            "2  Alabama  Female     Very good                 2.0               3.0   \n",
            "3  Alabama  Female     Excellent                 0.0               0.0   \n",
            "4  Alabama  Female          Fair                 2.0               0.0   \n",
            "\n",
            "                                     LastCheckupTime PhysicalActivities  \\\n",
            "0  Within past year (anytime less than 12 months ...                 No   \n",
            "1                                                NaN                 No   \n",
            "2  Within past year (anytime less than 12 months ...                Yes   \n",
            "3  Within past year (anytime less than 12 months ...                Yes   \n",
            "4  Within past year (anytime less than 12 months ...                Yes   \n",
            "\n",
            "   SleepHours RemovedTeeth HadHeartAttack  ... HeightInMeters  \\\n",
            "0         8.0          NaN             No  ...            NaN   \n",
            "1         6.0          NaN             No  ...           1.60   \n",
            "2         5.0          NaN             No  ...           1.57   \n",
            "3         7.0          NaN             No  ...           1.65   \n",
            "4         9.0          NaN             No  ...           1.57   \n",
            "\n",
            "  WeightInKilograms    BMI AlcoholDrinkers HIVTesting FluVaxLast12  \\\n",
            "0               NaN    NaN              No         No          Yes   \n",
            "1             68.04  26.57              No         No           No   \n",
            "2             63.50  25.61              No         No           No   \n",
            "3             63.50  23.30              No         No          Yes   \n",
            "4             53.98  21.77             Yes         No           No   \n",
            "\n",
            "  PneumoVaxEver                                  TetanusLast10Tdap  \\\n",
            "0            No  Yes, received tetanus shot but not sure what type   \n",
            "1            No  No, did not receive any tetanus shot in the pa...   \n",
            "2            No                                                NaN   \n",
            "3           Yes  No, did not receive any tetanus shot in the pa...   \n",
            "4           Yes  No, did not receive any tetanus shot in the pa...   \n",
            "\n",
            "  HighRiskLastYear CovidPos  \n",
            "0               No       No  \n",
            "1               No       No  \n",
            "2               No      Yes  \n",
            "3               No       No  \n",
            "4               No       No  \n",
            "\n",
            "[5 rows x 40 columns]\n"
          ]
        }
      ]
    },
    {
      "cell_type": "code",
      "source": [
        "print(df.isnull().sum())\n",
        "\n"
      ],
      "metadata": {
        "colab": {
          "base_uri": "https://localhost:8080/"
        },
        "id": "tHQ5xkTl3L8t",
        "outputId": "81b0d1b9-20d7-4e8f-b46d-38192d8fa74f"
      },
      "execution_count": 11,
      "outputs": [
        {
          "output_type": "stream",
          "name": "stdout",
          "text": [
            "State                           0\n",
            "Sex                             0\n",
            "GeneralHealth                 144\n",
            "PhysicalHealthDays           1413\n",
            "MentalHealthDays             1203\n",
            "LastCheckupTime              1013\n",
            "PhysicalActivities            138\n",
            "SleepHours                    573\n",
            "RemovedTeeth                 2301\n",
            "HadHeartAttack                393\n",
            "HadAngina                     495\n",
            "HadStroke                     218\n",
            "HadAsthma                     246\n",
            "HadSkinCancer                 386\n",
            "HadCOPD                       280\n",
            "HadDepressiveDisorder         345\n",
            "HadKidneyDisease              243\n",
            "HadArthritis                  305\n",
            "HadDiabetes                   178\n",
            "DeafOrHardOfHearing          2236\n",
            "BlindOrVisionDifficulty      2328\n",
            "DifficultyConcentrating      2666\n",
            "DifficultyWalking            2655\n",
            "DifficultyDressingBathing    2638\n",
            "DifficultyErrands            2866\n",
            "SmokerStatus                 3927\n",
            "ECigaretteUsage              3971\n",
            "ChestScan                    6013\n",
            "RaceEthnicityCategory        1752\n",
            "AgeCategory                   972\n",
            "HeightInMeters               3094\n",
            "WeightInKilograms            4004\n",
            "BMI                          4870\n",
            "AlcoholDrinkers              5082\n",
            "HIVTesting                   7268\n",
            "FluVaxLast12                 5232\n",
            "PneumoVaxEver                8628\n",
            "TetanusLast10Tdap            8962\n",
            "HighRiskLastYear             5679\n",
            "CovidPos                     5715\n",
            "dtype: int64\n"
          ]
        }
      ]
    }
  ]
}