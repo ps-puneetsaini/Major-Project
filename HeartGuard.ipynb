{
  "nbformat": 4,
  "nbformat_minor": 0,
  "metadata": {
    "colab": {
      "provenance": [],
      "authorship_tag": "ABX9TyNy9GwlDoAI82AomFHNbmTa",
      "include_colab_link": true
    },
    "kernelspec": {
      "name": "python3",
      "display_name": "Python 3"
    },
    "language_info": {
      "name": "python"
    }
  },
  "cells": [
    {
      "cell_type": "markdown",
      "metadata": {
        "id": "view-in-github",
        "colab_type": "text"
      },
      "source": [
        "<a href=\"https://colab.research.google.com/github/ps-puneetsaini/Major-Project/blob/main/HeartGuard.ipynb\" target=\"_parent\"><img src=\"https://colab.research.google.com/assets/colab-badge.svg\" alt=\"Open In Colab\"/></a>"
      ]
    },
    {
      "cell_type": "code",
      "source": [
        "import pandas as pd\n",
        "\n",
        "df = pd.read_csv(\"heart_2022_with_nans.csv\")\n",
        "\n",
        "num_rows, num_columns = df.shape\n",
        "\n",
        "print(f\"Number of rows: {num_rows}\")\n",
        "print(f\"Number of columns: {num_columns}\")\n"
      ],
      "metadata": {
        "id": "BRXb5r2PbIg9",
        "colab": {
          "base_uri": "https://localhost:8080/"
        },
        "outputId": "dce32d71-8176-4133-9db9-c5eb6eeb22f8"
      },
      "execution_count": 9,
      "outputs": [
        {
          "output_type": "stream",
          "name": "stdout",
          "text": [
            "Number of rows: 41350\n",
            "Number of columns: 40\n"
          ]
        }
      ]
    },
    {
      "cell_type": "code",
      "source": [
        "import numpy as np\n",
        "import pandas as pd\n",
        "from sklearn.preprocessing import StandardScaler, LabelEncoder\n",
        "from sklearn.model_selection import train_test_split\n",
        "from scipy import stats\n",
        "\n",
        "file_path = \"heart_2022_with_nans.csv\"\n",
        "df = pd.read_csv(\"heart_2022_with_nans.csv\")\n",
        "\n",
        "print(df.info())\n",
        "print(df.describe())\n",
        "print(df.head())\n",
        "\n"
      ],
      "metadata": {
        "id": "civFj9f62Zmm",
        "outputId": "a7fc0190-8700-4be4-bb79-cab30c325687",
        "colab": {
          "base_uri": "https://localhost:8080/"
        }
      },
      "execution_count": 10,
      "outputs": [
        {
          "output_type": "stream",
          "name": "stdout",
          "text": [
            "<class 'pandas.core.frame.DataFrame'>\n",
            "RangeIndex: 44805 entries, 0 to 44804\n",
            "Data columns (total 40 columns):\n",
            " #   Column                     Non-Null Count  Dtype  \n",
            "---  ------                     --------------  -----  \n",
            " 0   State                      44805 non-null  object \n",
            " 1   Sex                        44805 non-null  object \n",
            " 2   GeneralHealth              44661 non-null  object \n",
            " 3   PhysicalHealthDays         43392 non-null  float64\n",
            " 4   MentalHealthDays           43602 non-null  float64\n",
            " 5   LastCheckupTime            43792 non-null  object \n",
            " 6   PhysicalActivities         44667 non-null  object \n",
            " 7   SleepHours                 44232 non-null  float64\n",
            " 8   RemovedTeeth               42504 non-null  object \n",
            " 9   HadHeartAttack             44412 non-null  object \n",
            " 10  HadAngina                  44310 non-null  object \n",
            " 11  HadStroke                  44587 non-null  object \n",
            " 12  HadAsthma                  44559 non-null  object \n",
            " 13  HadSkinCancer              44419 non-null  object \n",
            " 14  HadCOPD                    44525 non-null  object \n",
            " 15  HadDepressiveDisorder      44460 non-null  object \n",
            " 16  HadKidneyDisease           44562 non-null  object \n",
            " 17  HadArthritis               44500 non-null  object \n",
            " 18  HadDiabetes                44627 non-null  object \n",
            " 19  DeafOrHardOfHearing        42569 non-null  object \n",
            " 20  BlindOrVisionDifficulty    42477 non-null  object \n",
            " 21  DifficultyConcentrating    42139 non-null  object \n",
            " 22  DifficultyWalking          42150 non-null  object \n",
            " 23  DifficultyDressingBathing  42167 non-null  object \n",
            " 24  DifficultyErrands          41939 non-null  object \n",
            " 25  SmokerStatus               40878 non-null  object \n",
            " 26  ECigaretteUsage            40834 non-null  object \n",
            " 27  ChestScan                  38792 non-null  object \n",
            " 28  RaceEthnicityCategory      43053 non-null  object \n",
            " 29  AgeCategory                43833 non-null  object \n",
            " 30  HeightInMeters             41711 non-null  float64\n",
            " 31  WeightInKilograms          40801 non-null  float64\n",
            " 32  BMI                        39935 non-null  float64\n",
            " 33  AlcoholDrinkers            39723 non-null  object \n",
            " 34  HIVTesting                 37537 non-null  object \n",
            " 35  FluVaxLast12               39573 non-null  object \n",
            " 36  PneumoVaxEver              36177 non-null  object \n",
            " 37  TetanusLast10Tdap          35843 non-null  object \n",
            " 38  HighRiskLastYear           39126 non-null  object \n",
            " 39  CovidPos                   39090 non-null  object \n",
            "dtypes: float64(6), object(34)\n",
            "memory usage: 13.7+ MB\n",
            "None\n",
            "       PhysicalHealthDays  MentalHealthDays    SleepHours  HeightInMeters  \\\n",
            "count        43392.000000      43602.000000  44232.000000    41711.000000   \n",
            "mean             4.635417          4.649947      7.043001        1.705551   \n",
            "std              8.939584          8.558314      1.520854        0.107140   \n",
            "min              0.000000          0.000000      1.000000        0.910000   \n",
            "25%              0.000000          0.000000      6.000000        1.630000   \n",
            "50%              0.000000          0.000000      7.000000        1.700000   \n",
            "75%              4.000000          5.000000      8.000000        1.780000   \n",
            "max             30.000000         30.000000     24.000000        2.360000   \n",
            "\n",
            "       WeightInKilograms           BMI  \n",
            "count       40801.000000  39935.000000  \n",
            "mean           82.126431     28.122764  \n",
            "std            21.087951      6.387671  \n",
            "min            24.000000     12.210000  \n",
            "25%            68.040000     23.750000  \n",
            "50%            79.380000     27.120000  \n",
            "75%            92.990000     31.190000  \n",
            "max           292.570000     94.660000  \n",
            "     State     Sex GeneralHealth  PhysicalHealthDays  MentalHealthDays  \\\n",
            "0  Alabama  Female     Very good                 0.0               0.0   \n",
            "1  Alabama  Female     Excellent                 0.0               0.0   \n",
            "2  Alabama  Female     Very good                 2.0               3.0   \n",
            "3  Alabama  Female     Excellent                 0.0               0.0   \n",
            "4  Alabama  Female          Fair                 2.0               0.0   \n",
            "\n",
            "                                     LastCheckupTime PhysicalActivities  \\\n",
            "0  Within past year (anytime less than 12 months ...                 No   \n",
            "1                                                NaN                 No   \n",
            "2  Within past year (anytime less than 12 months ...                Yes   \n",
            "3  Within past year (anytime less than 12 months ...                Yes   \n",
            "4  Within past year (anytime less than 12 months ...                Yes   \n",
            "\n",
            "   SleepHours RemovedTeeth HadHeartAttack  ... HeightInMeters  \\\n",
            "0         8.0          NaN             No  ...            NaN   \n",
            "1         6.0          NaN             No  ...           1.60   \n",
            "2         5.0          NaN             No  ...           1.57   \n",
            "3         7.0          NaN             No  ...           1.65   \n",
            "4         9.0          NaN             No  ...           1.57   \n",
            "\n",
            "  WeightInKilograms    BMI AlcoholDrinkers HIVTesting FluVaxLast12  \\\n",
            "0               NaN    NaN              No         No          Yes   \n",
            "1             68.04  26.57              No         No           No   \n",
            "2             63.50  25.61              No         No           No   \n",
            "3             63.50  23.30              No         No          Yes   \n",
            "4             53.98  21.77             Yes         No           No   \n",
            "\n",
            "  PneumoVaxEver                                  TetanusLast10Tdap  \\\n",
            "0            No  Yes, received tetanus shot but not sure what type   \n",
            "1            No  No, did not receive any tetanus shot in the pa...   \n",
            "2            No                                                NaN   \n",
            "3           Yes  No, did not receive any tetanus shot in the pa...   \n",
            "4           Yes  No, did not receive any tetanus shot in the pa...   \n",
            "\n",
            "  HighRiskLastYear CovidPos  \n",
            "0               No       No  \n",
            "1               No       No  \n",
            "2               No      Yes  \n",
            "3               No       No  \n",
            "4               No       No  \n",
            "\n",
            "[5 rows x 40 columns]\n"
          ]
        }
      ]
    },
    {
      "cell_type": "code",
      "source": [
        "print(df.isnull().sum())\n",
        "\n"
      ],
      "metadata": {
        "colab": {
          "base_uri": "https://localhost:8080/"
        },
        "id": "tHQ5xkTl3L8t",
        "outputId": "81b0d1b9-20d7-4e8f-b46d-38192d8fa74f"
      },
      "execution_count": 11,
      "outputs": [
        {
          "output_type": "stream",
          "name": "stdout",
          "text": [
            "State                           0\n",
            "Sex                             0\n",
            "GeneralHealth                 144\n",
            "PhysicalHealthDays           1413\n",
            "MentalHealthDays             1203\n",
            "LastCheckupTime              1013\n",
            "PhysicalActivities            138\n",
            "SleepHours                    573\n",
            "RemovedTeeth                 2301\n",
            "HadHeartAttack                393\n",
            "HadAngina                     495\n",
            "HadStroke                     218\n",
            "HadAsthma                     246\n",
            "HadSkinCancer                 386\n",
            "HadCOPD                       280\n",
            "HadDepressiveDisorder         345\n",
            "HadKidneyDisease              243\n",
            "HadArthritis                  305\n",
            "HadDiabetes                   178\n",
            "DeafOrHardOfHearing          2236\n",
            "BlindOrVisionDifficulty      2328\n",
            "DifficultyConcentrating      2666\n",
            "DifficultyWalking            2655\n",
            "DifficultyDressingBathing    2638\n",
            "DifficultyErrands            2866\n",
            "SmokerStatus                 3927\n",
            "ECigaretteUsage              3971\n",
            "ChestScan                    6013\n",
            "RaceEthnicityCategory        1752\n",
            "AgeCategory                   972\n",
            "HeightInMeters               3094\n",
            "WeightInKilograms            4004\n",
            "BMI                          4870\n",
            "AlcoholDrinkers              5082\n",
            "HIVTesting                   7268\n",
            "FluVaxLast12                 5232\n",
            "PneumoVaxEver                8628\n",
            "TetanusLast10Tdap            8962\n",
            "HighRiskLastYear             5679\n",
            "CovidPos                     5715\n",
            "dtype: int64\n"
          ]
        }
      ]
    }
  ]
}