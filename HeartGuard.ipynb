{
  "nbformat": 4,
  "nbformat_minor": 0,
  "metadata": {
    "colab": {
      "provenance": [],
      "authorship_tag": "ABX9TyNVTFoIBLxy1xLi31dTskdp",
      "include_colab_link": true
    },
    "kernelspec": {
      "name": "python3",
      "display_name": "Python 3"
    },
    "language_info": {
      "name": "python"
    }
  },
  "cells": [
    {
      "cell_type": "markdown",
      "metadata": {
        "id": "view-in-github",
        "colab_type": "text"
      },
      "source": [
        "<a href=\"https://colab.research.google.com/github/ps-puneetsaini/Major-Project/blob/main/HeartGuard.ipynb\" target=\"_parent\"><img src=\"https://colab.research.google.com/assets/colab-badge.svg\" alt=\"Open In Colab\"/></a>"
      ]
    },
    {
      "cell_type": "code",
      "source": [
        "import pandas as pd\n",
        "\n",
        "df = pd.read_csv(\"heart_2022_with_nans.csv\")\n",
        "\n",
        "num_rows, num_columns = df.shape\n",
        "\n",
        "print(f\"Number of rows: {num_rows}\")\n",
        "print(f\"Number of columns: {num_columns}\")\n"
      ],
      "metadata": {
        "id": "BRXb5r2PbIg9",
        "colab": {
          "base_uri": "https://localhost:8080/"
        },
        "outputId": "a4e5ee4d-6986-41b6-e7ca-ace2ad880811"
      },
      "execution_count": 12,
      "outputs": [
        {
          "output_type": "stream",
          "name": "stdout",
          "text": [
            "Number of rows: 445132\n",
            "Number of columns: 40\n"
          ]
        }
      ]
    },
    {
      "cell_type": "code",
      "source": [
        "import numpy as np\n",
        "import pandas as pd\n",
        "from sklearn.preprocessing import StandardScaler, LabelEncoder\n",
        "from sklearn.model_selection import train_test_split\n",
        "from scipy import stats\n",
        "\n",
        "file_path = \"heart_2022_with_nans.csv\"\n",
        "df = pd.read_csv(\"heart_2022_with_nans.csv\")\n",
        "\n",
        "print(df.info())\n",
        "print(df.describe())\n",
        "print(df.head())\n",
        "\n"
      ],
      "metadata": {
        "id": "civFj9f62Zmm",
        "outputId": "6ff41d1e-638b-4148-d240-5447f2caa105",
        "colab": {
          "base_uri": "https://localhost:8080/"
        }
      },
      "execution_count": 13,
      "outputs": [
        {
          "output_type": "stream",
          "name": "stdout",
          "text": [
            "<class 'pandas.core.frame.DataFrame'>\n",
            "RangeIndex: 445132 entries, 0 to 445131\n",
            "Data columns (total 40 columns):\n",
            " #   Column                     Non-Null Count   Dtype  \n",
            "---  ------                     --------------   -----  \n",
            " 0   State                      445132 non-null  object \n",
            " 1   Sex                        445132 non-null  object \n",
            " 2   GeneralHealth              443934 non-null  object \n",
            " 3   PhysicalHealthDays         434205 non-null  float64\n",
            " 4   MentalHealthDays           436065 non-null  float64\n",
            " 5   LastCheckupTime            436824 non-null  object \n",
            " 6   PhysicalActivities         444039 non-null  object \n",
            " 7   SleepHours                 439679 non-null  float64\n",
            " 8   RemovedTeeth               433772 non-null  object \n",
            " 9   HadHeartAttack             442067 non-null  object \n",
            " 10  HadAngina                  440727 non-null  object \n",
            " 11  HadStroke                  443575 non-null  object \n",
            " 12  HadAsthma                  443359 non-null  object \n",
            " 13  HadSkinCancer              441989 non-null  object \n",
            " 14  HadCOPD                    442913 non-null  object \n",
            " 15  HadDepressiveDisorder      442320 non-null  object \n",
            " 16  HadKidneyDisease           443206 non-null  object \n",
            " 17  HadArthritis               442499 non-null  object \n",
            " 18  HadDiabetes                444045 non-null  object \n",
            " 19  DeafOrHardOfHearing        424485 non-null  object \n",
            " 20  BlindOrVisionDifficulty    423568 non-null  object \n",
            " 21  DifficultyConcentrating    420892 non-null  object \n",
            " 22  DifficultyWalking          421120 non-null  object \n",
            " 23  DifficultyDressingBathing  421217 non-null  object \n",
            " 24  DifficultyErrands          419476 non-null  object \n",
            " 25  SmokerStatus               409670 non-null  object \n",
            " 26  ECigaretteUsage            409472 non-null  object \n",
            " 27  ChestScan                  389086 non-null  object \n",
            " 28  RaceEthnicityCategory      431075 non-null  object \n",
            " 29  AgeCategory                436053 non-null  object \n",
            " 30  HeightInMeters             416480 non-null  float64\n",
            " 31  WeightInKilograms          403054 non-null  float64\n",
            " 32  BMI                        396326 non-null  float64\n",
            " 33  AlcoholDrinkers            398558 non-null  object \n",
            " 34  HIVTesting                 379005 non-null  object \n",
            " 35  FluVaxLast12               398011 non-null  object \n",
            " 36  PneumoVaxEver              368092 non-null  object \n",
            " 37  TetanusLast10Tdap          362616 non-null  object \n",
            " 38  HighRiskLastYear           394509 non-null  object \n",
            " 39  CovidPos                   394368 non-null  object \n",
            "dtypes: float64(6), object(34)\n",
            "memory usage: 135.8+ MB\n",
            "None\n",
            "       PhysicalHealthDays  MentalHealthDays     SleepHours  HeightInMeters  \\\n",
            "count       434205.000000     436065.000000  439679.000000   416480.000000   \n",
            "mean             4.347919          4.382649       7.022983        1.702691   \n",
            "std              8.688912          8.387475       1.502425        0.107177   \n",
            "min              0.000000          0.000000       1.000000        0.910000   \n",
            "25%              0.000000          0.000000       6.000000        1.630000   \n",
            "50%              0.000000          0.000000       7.000000        1.700000   \n",
            "75%              3.000000          5.000000       8.000000        1.780000   \n",
            "max             30.000000         30.000000      24.000000        2.410000   \n",
            "\n",
            "       WeightInKilograms            BMI  \n",
            "count      403054.000000  396326.000000  \n",
            "mean           83.074470      28.529842  \n",
            "std            21.448173       6.554889  \n",
            "min            22.680000      12.020000  \n",
            "25%            68.040000      24.130000  \n",
            "50%            80.740000      27.440000  \n",
            "75%            95.250000      31.750000  \n",
            "max           292.570000      99.640000  \n",
            "     State     Sex GeneralHealth  PhysicalHealthDays  MentalHealthDays  \\\n",
            "0  Alabama  Female     Very good                 0.0               0.0   \n",
            "1  Alabama  Female     Excellent                 0.0               0.0   \n",
            "2  Alabama  Female     Very good                 2.0               3.0   \n",
            "3  Alabama  Female     Excellent                 0.0               0.0   \n",
            "4  Alabama  Female          Fair                 2.0               0.0   \n",
            "\n",
            "                                     LastCheckupTime PhysicalActivities  \\\n",
            "0  Within past year (anytime less than 12 months ...                 No   \n",
            "1                                                NaN                 No   \n",
            "2  Within past year (anytime less than 12 months ...                Yes   \n",
            "3  Within past year (anytime less than 12 months ...                Yes   \n",
            "4  Within past year (anytime less than 12 months ...                Yes   \n",
            "\n",
            "   SleepHours RemovedTeeth HadHeartAttack  ... HeightInMeters  \\\n",
            "0         8.0          NaN             No  ...            NaN   \n",
            "1         6.0          NaN             No  ...           1.60   \n",
            "2         5.0          NaN             No  ...           1.57   \n",
            "3         7.0          NaN             No  ...           1.65   \n",
            "4         9.0          NaN             No  ...           1.57   \n",
            "\n",
            "  WeightInKilograms    BMI AlcoholDrinkers HIVTesting FluVaxLast12  \\\n",
            "0               NaN    NaN              No         No          Yes   \n",
            "1             68.04  26.57              No         No           No   \n",
            "2             63.50  25.61              No         No           No   \n",
            "3             63.50  23.30              No         No          Yes   \n",
            "4             53.98  21.77             Yes         No           No   \n",
            "\n",
            "  PneumoVaxEver                                  TetanusLast10Tdap  \\\n",
            "0            No  Yes, received tetanus shot but not sure what type   \n",
            "1            No  No, did not receive any tetanus shot in the pa...   \n",
            "2            No                                                NaN   \n",
            "3           Yes  No, did not receive any tetanus shot in the pa...   \n",
            "4           Yes  No, did not receive any tetanus shot in the pa...   \n",
            "\n",
            "  HighRiskLastYear CovidPos  \n",
            "0               No       No  \n",
            "1               No       No  \n",
            "2               No      Yes  \n",
            "3               No       No  \n",
            "4               No       No  \n",
            "\n",
            "[5 rows x 40 columns]\n"
          ]
        }
      ]
    },
    {
      "cell_type": "code",
      "source": [
        "print(df.isnull().sum())\n",
        "\n"
      ],
      "metadata": {
        "colab": {
          "base_uri": "https://localhost:8080/"
        },
        "id": "tHQ5xkTl3L8t",
        "outputId": "81b0d1b9-20d7-4e8f-b46d-38192d8fa74f"
      },
      "execution_count": 11,
      "outputs": [
        {
          "output_type": "stream",
          "name": "stdout",
          "text": [
            "State                           0\n",
            "Sex                             0\n",
            "GeneralHealth                 144\n",
            "PhysicalHealthDays           1413\n",
            "MentalHealthDays             1203\n",
            "LastCheckupTime              1013\n",
            "PhysicalActivities            138\n",
            "SleepHours                    573\n",
            "RemovedTeeth                 2301\n",
            "HadHeartAttack                393\n",
            "HadAngina                     495\n",
            "HadStroke                     218\n",
            "HadAsthma                     246\n",
            "HadSkinCancer                 386\n",
            "HadCOPD                       280\n",
            "HadDepressiveDisorder         345\n",
            "HadKidneyDisease              243\n",
            "HadArthritis                  305\n",
            "HadDiabetes                   178\n",
            "DeafOrHardOfHearing          2236\n",
            "BlindOrVisionDifficulty      2328\n",
            "DifficultyConcentrating      2666\n",
            "DifficultyWalking            2655\n",
            "DifficultyDressingBathing    2638\n",
            "DifficultyErrands            2866\n",
            "SmokerStatus                 3927\n",
            "ECigaretteUsage              3971\n",
            "ChestScan                    6013\n",
            "RaceEthnicityCategory        1752\n",
            "AgeCategory                   972\n",
            "HeightInMeters               3094\n",
            "WeightInKilograms            4004\n",
            "BMI                          4870\n",
            "AlcoholDrinkers              5082\n",
            "HIVTesting                   7268\n",
            "FluVaxLast12                 5232\n",
            "PneumoVaxEver                8628\n",
            "TetanusLast10Tdap            8962\n",
            "HighRiskLastYear             5679\n",
            "CovidPos                     5715\n",
            "dtype: int64\n"
          ]
        }
      ]
    },
    {
      "cell_type": "code",
      "source": [
        "df['GeneralHealth'].fillna(df['GeneralHealth'].median(), inplace=True)\n"
      ],
      "metadata": {
        "id": "mSjcYm0XM3h2",
        "outputId": "f9b9b57a-75b0-4260-9c2b-2bd5285bbd06",
        "colab": {
          "base_uri": "https://localhost:8080/",
          "height": 287
        }
      },
      "execution_count": 14,
      "outputs": [
        {
          "output_type": "error",
          "ename": "TypeError",
          "evalue": "Cannot convert ['Very good' 'Excellent' 'Very good' ... 'Poor' 'Very good' 'Very good'] to numeric",
          "traceback": [
            "\u001b[0;31m---------------------------------------------------------------------------\u001b[0m",
            "\u001b[0;31mTypeError\u001b[0m                                 Traceback (most recent call last)",
            "\u001b[0;32m<ipython-input-14-45d6a69d87f6>\u001b[0m in \u001b[0;36m<cell line: 0>\u001b[0;34m()\u001b[0m\n\u001b[0;32m----> 1\u001b[0;31m \u001b[0mdf\u001b[0m\u001b[0;34m[\u001b[0m\u001b[0;34m'GeneralHealth'\u001b[0m\u001b[0;34m]\u001b[0m\u001b[0;34m.\u001b[0m\u001b[0mfillna\u001b[0m\u001b[0;34m(\u001b[0m\u001b[0mdf\u001b[0m\u001b[0;34m[\u001b[0m\u001b[0;34m'GeneralHealth'\u001b[0m\u001b[0;34m]\u001b[0m\u001b[0;34m.\u001b[0m\u001b[0mmedian\u001b[0m\u001b[0;34m(\u001b[0m\u001b[0;34m)\u001b[0m\u001b[0;34m,\u001b[0m \u001b[0minplace\u001b[0m\u001b[0;34m=\u001b[0m\u001b[0;32mTrue\u001b[0m\u001b[0;34m)\u001b[0m\u001b[0;34m\u001b[0m\u001b[0;34m\u001b[0m\u001b[0m\n\u001b[0m",
            "\u001b[0;32m/usr/local/lib/python3.11/dist-packages/pandas/core/series.py\u001b[0m in \u001b[0;36mmedian\u001b[0;34m(self, axis, skipna, numeric_only, **kwargs)\u001b[0m\n\u001b[1;32m   6557\u001b[0m         \u001b[0;34m**\u001b[0m\u001b[0mkwargs\u001b[0m\u001b[0;34m,\u001b[0m\u001b[0;34m\u001b[0m\u001b[0;34m\u001b[0m\u001b[0m\n\u001b[1;32m   6558\u001b[0m     ):\n\u001b[0;32m-> 6559\u001b[0;31m         \u001b[0;32mreturn\u001b[0m \u001b[0mNDFrame\u001b[0m\u001b[0;34m.\u001b[0m\u001b[0mmedian\u001b[0m\u001b[0;34m(\u001b[0m\u001b[0mself\u001b[0m\u001b[0;34m,\u001b[0m \u001b[0maxis\u001b[0m\u001b[0;34m,\u001b[0m \u001b[0mskipna\u001b[0m\u001b[0;34m,\u001b[0m \u001b[0mnumeric_only\u001b[0m\u001b[0;34m,\u001b[0m \u001b[0;34m**\u001b[0m\u001b[0mkwargs\u001b[0m\u001b[0;34m)\u001b[0m\u001b[0;34m\u001b[0m\u001b[0;34m\u001b[0m\u001b[0m\n\u001b[0m\u001b[1;32m   6560\u001b[0m \u001b[0;34m\u001b[0m\u001b[0m\n\u001b[1;32m   6561\u001b[0m     \u001b[0;34m@\u001b[0m\u001b[0mdoc\u001b[0m\u001b[0;34m(\u001b[0m\u001b[0mmake_doc\u001b[0m\u001b[0;34m(\u001b[0m\u001b[0;34m\"sem\"\u001b[0m\u001b[0;34m,\u001b[0m \u001b[0mndim\u001b[0m\u001b[0;34m=\u001b[0m\u001b[0;36m1\u001b[0m\u001b[0;34m)\u001b[0m\u001b[0;34m)\u001b[0m\u001b[0;34m\u001b[0m\u001b[0;34m\u001b[0m\u001b[0m\n",
            "\u001b[0;32m/usr/local/lib/python3.11/dist-packages/pandas/core/generic.py\u001b[0m in \u001b[0;36mmedian\u001b[0;34m(self, axis, skipna, numeric_only, **kwargs)\u001b[0m\n\u001b[1;32m  12429\u001b[0m         \u001b[0;34m**\u001b[0m\u001b[0mkwargs\u001b[0m\u001b[0;34m,\u001b[0m\u001b[0;34m\u001b[0m\u001b[0;34m\u001b[0m\u001b[0m\n\u001b[1;32m  12430\u001b[0m     ) -> Series | float:\n\u001b[0;32m> 12431\u001b[0;31m         return self._stat_function(\n\u001b[0m\u001b[1;32m  12432\u001b[0m             \u001b[0;34m\"median\"\u001b[0m\u001b[0;34m,\u001b[0m \u001b[0mnanops\u001b[0m\u001b[0;34m.\u001b[0m\u001b[0mnanmedian\u001b[0m\u001b[0;34m,\u001b[0m \u001b[0maxis\u001b[0m\u001b[0;34m,\u001b[0m \u001b[0mskipna\u001b[0m\u001b[0;34m,\u001b[0m \u001b[0mnumeric_only\u001b[0m\u001b[0;34m,\u001b[0m \u001b[0;34m**\u001b[0m\u001b[0mkwargs\u001b[0m\u001b[0;34m\u001b[0m\u001b[0;34m\u001b[0m\u001b[0m\n\u001b[1;32m  12433\u001b[0m         )\n",
            "\u001b[0;32m/usr/local/lib/python3.11/dist-packages/pandas/core/generic.py\u001b[0m in \u001b[0;36m_stat_function\u001b[0;34m(self, name, func, axis, skipna, numeric_only, **kwargs)\u001b[0m\n\u001b[1;32m  12375\u001b[0m         \u001b[0mvalidate_bool_kwarg\u001b[0m\u001b[0;34m(\u001b[0m\u001b[0mskipna\u001b[0m\u001b[0;34m,\u001b[0m \u001b[0;34m\"skipna\"\u001b[0m\u001b[0;34m,\u001b[0m \u001b[0mnone_allowed\u001b[0m\u001b[0;34m=\u001b[0m\u001b[0;32mFalse\u001b[0m\u001b[0;34m)\u001b[0m\u001b[0;34m\u001b[0m\u001b[0;34m\u001b[0m\u001b[0m\n\u001b[1;32m  12376\u001b[0m \u001b[0;34m\u001b[0m\u001b[0m\n\u001b[0;32m> 12377\u001b[0;31m         return self._reduce(\n\u001b[0m\u001b[1;32m  12378\u001b[0m             \u001b[0mfunc\u001b[0m\u001b[0;34m,\u001b[0m \u001b[0mname\u001b[0m\u001b[0;34m=\u001b[0m\u001b[0mname\u001b[0m\u001b[0;34m,\u001b[0m \u001b[0maxis\u001b[0m\u001b[0;34m=\u001b[0m\u001b[0maxis\u001b[0m\u001b[0;34m,\u001b[0m \u001b[0mskipna\u001b[0m\u001b[0;34m=\u001b[0m\u001b[0mskipna\u001b[0m\u001b[0;34m,\u001b[0m \u001b[0mnumeric_only\u001b[0m\u001b[0;34m=\u001b[0m\u001b[0mnumeric_only\u001b[0m\u001b[0;34m\u001b[0m\u001b[0;34m\u001b[0m\u001b[0m\n\u001b[1;32m  12379\u001b[0m         )\n",
            "\u001b[0;32m/usr/local/lib/python3.11/dist-packages/pandas/core/series.py\u001b[0m in \u001b[0;36m_reduce\u001b[0;34m(self, op, name, axis, skipna, numeric_only, filter_type, **kwds)\u001b[0m\n\u001b[1;32m   6455\u001b[0m                     \u001b[0;34m\"with non-numeric dtypes.\"\u001b[0m\u001b[0;34m\u001b[0m\u001b[0;34m\u001b[0m\u001b[0m\n\u001b[1;32m   6456\u001b[0m                 )\n\u001b[0;32m-> 6457\u001b[0;31m             \u001b[0;32mreturn\u001b[0m \u001b[0mop\u001b[0m\u001b[0;34m(\u001b[0m\u001b[0mdelegate\u001b[0m\u001b[0;34m,\u001b[0m \u001b[0mskipna\u001b[0m\u001b[0;34m=\u001b[0m\u001b[0mskipna\u001b[0m\u001b[0;34m,\u001b[0m \u001b[0;34m**\u001b[0m\u001b[0mkwds\u001b[0m\u001b[0;34m)\u001b[0m\u001b[0;34m\u001b[0m\u001b[0;34m\u001b[0m\u001b[0m\n\u001b[0m\u001b[1;32m   6458\u001b[0m \u001b[0;34m\u001b[0m\u001b[0m\n\u001b[1;32m   6459\u001b[0m     \u001b[0;34m@\u001b[0m\u001b[0mAppender\u001b[0m\u001b[0;34m(\u001b[0m\u001b[0mmake_doc\u001b[0m\u001b[0;34m(\u001b[0m\u001b[0;34m\"any\"\u001b[0m\u001b[0;34m,\u001b[0m \u001b[0mndim\u001b[0m\u001b[0;34m=\u001b[0m\u001b[0;36m1\u001b[0m\u001b[0;34m)\u001b[0m\u001b[0;34m)\u001b[0m\u001b[0;34m\u001b[0m\u001b[0;34m\u001b[0m\u001b[0m\n",
            "\u001b[0;32m/usr/local/lib/python3.11/dist-packages/pandas/core/nanops.py\u001b[0m in \u001b[0;36mf\u001b[0;34m(values, axis, skipna, **kwds)\u001b[0m\n\u001b[1;32m    145\u001b[0m                     \u001b[0mresult\u001b[0m \u001b[0;34m=\u001b[0m \u001b[0malt\u001b[0m\u001b[0;34m(\u001b[0m\u001b[0mvalues\u001b[0m\u001b[0;34m,\u001b[0m \u001b[0maxis\u001b[0m\u001b[0;34m=\u001b[0m\u001b[0maxis\u001b[0m\u001b[0;34m,\u001b[0m \u001b[0mskipna\u001b[0m\u001b[0;34m=\u001b[0m\u001b[0mskipna\u001b[0m\u001b[0;34m,\u001b[0m \u001b[0;34m**\u001b[0m\u001b[0mkwds\u001b[0m\u001b[0;34m)\u001b[0m\u001b[0;34m\u001b[0m\u001b[0;34m\u001b[0m\u001b[0m\n\u001b[1;32m    146\u001b[0m             \u001b[0;32melse\u001b[0m\u001b[0;34m:\u001b[0m\u001b[0;34m\u001b[0m\u001b[0;34m\u001b[0m\u001b[0m\n\u001b[0;32m--> 147\u001b[0;31m                 \u001b[0mresult\u001b[0m \u001b[0;34m=\u001b[0m \u001b[0malt\u001b[0m\u001b[0;34m(\u001b[0m\u001b[0mvalues\u001b[0m\u001b[0;34m,\u001b[0m \u001b[0maxis\u001b[0m\u001b[0;34m=\u001b[0m\u001b[0maxis\u001b[0m\u001b[0;34m,\u001b[0m \u001b[0mskipna\u001b[0m\u001b[0;34m=\u001b[0m\u001b[0mskipna\u001b[0m\u001b[0;34m,\u001b[0m \u001b[0;34m**\u001b[0m\u001b[0mkwds\u001b[0m\u001b[0;34m)\u001b[0m\u001b[0;34m\u001b[0m\u001b[0;34m\u001b[0m\u001b[0m\n\u001b[0m\u001b[1;32m    148\u001b[0m \u001b[0;34m\u001b[0m\u001b[0m\n\u001b[1;32m    149\u001b[0m             \u001b[0;32mreturn\u001b[0m \u001b[0mresult\u001b[0m\u001b[0;34m\u001b[0m\u001b[0;34m\u001b[0m\u001b[0m\n",
            "\u001b[0;32m/usr/local/lib/python3.11/dist-packages/pandas/core/nanops.py\u001b[0m in \u001b[0;36mnanmedian\u001b[0;34m(values, axis, skipna, mask)\u001b[0m\n\u001b[1;32m    785\u001b[0m             \u001b[0minferred\u001b[0m \u001b[0;34m=\u001b[0m \u001b[0mlib\u001b[0m\u001b[0;34m.\u001b[0m\u001b[0minfer_dtype\u001b[0m\u001b[0;34m(\u001b[0m\u001b[0mvalues\u001b[0m\u001b[0;34m)\u001b[0m\u001b[0;34m\u001b[0m\u001b[0;34m\u001b[0m\u001b[0m\n\u001b[1;32m    786\u001b[0m             \u001b[0;32mif\u001b[0m \u001b[0minferred\u001b[0m \u001b[0;32min\u001b[0m \u001b[0;34m[\u001b[0m\u001b[0;34m\"string\"\u001b[0m\u001b[0;34m,\u001b[0m \u001b[0;34m\"mixed\"\u001b[0m\u001b[0;34m]\u001b[0m\u001b[0;34m:\u001b[0m\u001b[0;34m\u001b[0m\u001b[0;34m\u001b[0m\u001b[0m\n\u001b[0;32m--> 787\u001b[0;31m                 \u001b[0;32mraise\u001b[0m \u001b[0mTypeError\u001b[0m\u001b[0;34m(\u001b[0m\u001b[0;34mf\"Cannot convert {values} to numeric\"\u001b[0m\u001b[0;34m)\u001b[0m\u001b[0;34m\u001b[0m\u001b[0;34m\u001b[0m\u001b[0m\n\u001b[0m\u001b[1;32m    788\u001b[0m         \u001b[0;32mtry\u001b[0m\u001b[0;34m:\u001b[0m\u001b[0;34m\u001b[0m\u001b[0;34m\u001b[0m\u001b[0m\n\u001b[1;32m    789\u001b[0m             \u001b[0mvalues\u001b[0m \u001b[0;34m=\u001b[0m \u001b[0mvalues\u001b[0m\u001b[0;34m.\u001b[0m\u001b[0mastype\u001b[0m\u001b[0;34m(\u001b[0m\u001b[0;34m\"f8\"\u001b[0m\u001b[0;34m)\u001b[0m\u001b[0;34m\u001b[0m\u001b[0;34m\u001b[0m\u001b[0m\n",
            "\u001b[0;31mTypeError\u001b[0m: Cannot convert ['Very good' 'Excellent' 'Very good' ... 'Poor' 'Very good' 'Very good'] to numeric"
          ]
        }
      ]
    },
    {
      "cell_type": "code",
      "execution_count": 15,
      "metadata": {
        "id": "a7087dbb",
        "outputId": "09ace21a-7aa0-4e94-c178-733d314402f4",
        "colab": {
          "base_uri": "https://localhost:8080/"
        }
      },
      "outputs": [
        {
          "output_type": "stream",
          "name": "stdout",
          "text": [
            "State                            0\n",
            "Sex                              0\n",
            "GeneralHealth                    0\n",
            "PhysicalHealthDays           10927\n",
            "MentalHealthDays              9067\n",
            "LastCheckupTime               8308\n",
            "PhysicalActivities            1093\n",
            "SleepHours                    5453\n",
            "RemovedTeeth                 11360\n",
            "HadHeartAttack                3065\n",
            "HadAngina                     4405\n",
            "HadStroke                     1557\n",
            "HadAsthma                     1773\n",
            "HadSkinCancer                 3143\n",
            "HadCOPD                       2219\n",
            "HadDepressiveDisorder         2812\n",
            "HadKidneyDisease              1926\n",
            "HadArthritis                  2633\n",
            "HadDiabetes                   1087\n",
            "DeafOrHardOfHearing          20647\n",
            "BlindOrVisionDifficulty      21564\n",
            "DifficultyConcentrating      24240\n",
            "DifficultyWalking            24012\n",
            "DifficultyDressingBathing    23915\n",
            "DifficultyErrands            25656\n",
            "SmokerStatus                 35462\n",
            "ECigaretteUsage              35660\n",
            "ChestScan                    56046\n",
            "RaceEthnicityCategory        14057\n",
            "AgeCategory                   9079\n",
            "HeightInMeters               28652\n",
            "WeightInKilograms            42078\n",
            "BMI                          48806\n",
            "AlcoholDrinkers              46574\n",
            "HIVTesting                   66127\n",
            "FluVaxLast12                 47121\n",
            "PneumoVaxEver                77040\n",
            "TetanusLast10Tdap            82516\n",
            "HighRiskLastYear             50623\n",
            "CovidPos                     50764\n",
            "dtype: int64\n"
          ]
        }
      ],
      "source": [
        "df['GeneralHealth'].fillna(df['GeneralHealth'].mode()[0], inplace=True)\n",
        "print(df.isnull().sum())\n"
      ]
    },
    {
      "cell_type": "code",
      "execution_count": 16,
      "metadata": {
        "collapsed": true,
        "id": "b154fc4a",
        "outputId": "1b33f3d8-8e32-4a12-a764-6ebeabeea46d",
        "colab": {
          "base_uri": "https://localhost:8080/"
        }
      },
      "outputs": [
        {
          "output_type": "stream",
          "name": "stderr",
          "text": [
            "<ipython-input-16-8b0ae53343fb>:1: FutureWarning: A value is trying to be set on a copy of a DataFrame or Series through chained assignment using an inplace method.\n",
            "The behavior will change in pandas 3.0. This inplace method will never work because the intermediate object on which we are setting values always behaves as a copy.\n",
            "\n",
            "For example, when doing 'df[col].method(value, inplace=True)', try using 'df.method({col: value}, inplace=True)' or df[col] = df[col].method(value) instead, to perform the operation inplace on the original object.\n",
            "\n",
            "\n",
            "  df['PhysicalHealthDays'].fillna(df['PhysicalHealthDays'].median(), inplace=True)\n"
          ]
        },
        {
          "output_type": "stream",
          "name": "stdout",
          "text": [
            "State                            0\n",
            "Sex                              0\n",
            "GeneralHealth                    0\n",
            "PhysicalHealthDays               0\n",
            "MentalHealthDays              9067\n",
            "LastCheckupTime               8308\n",
            "PhysicalActivities            1093\n",
            "SleepHours                    5453\n",
            "RemovedTeeth                 11360\n",
            "HadHeartAttack                3065\n",
            "HadAngina                     4405\n",
            "HadStroke                     1557\n",
            "HadAsthma                     1773\n",
            "HadSkinCancer                 3143\n",
            "HadCOPD                       2219\n",
            "HadDepressiveDisorder         2812\n",
            "HadKidneyDisease              1926\n",
            "HadArthritis                  2633\n",
            "HadDiabetes                   1087\n",
            "DeafOrHardOfHearing          20647\n",
            "BlindOrVisionDifficulty      21564\n",
            "DifficultyConcentrating      24240\n",
            "DifficultyWalking            24012\n",
            "DifficultyDressingBathing    23915\n",
            "DifficultyErrands            25656\n",
            "SmokerStatus                 35462\n",
            "ECigaretteUsage              35660\n",
            "ChestScan                    56046\n",
            "RaceEthnicityCategory        14057\n",
            "AgeCategory                   9079\n",
            "HeightInMeters               28652\n",
            "WeightInKilograms            42078\n",
            "BMI                          48806\n",
            "AlcoholDrinkers              46574\n",
            "HIVTesting                   66127\n",
            "FluVaxLast12                 47121\n",
            "PneumoVaxEver                77040\n",
            "TetanusLast10Tdap            82516\n",
            "HighRiskLastYear             50623\n",
            "CovidPos                     50764\n",
            "dtype: int64\n"
          ]
        }
      ],
      "source": [
        "df['PhysicalHealthDays'].fillna(df['PhysicalHealthDays'].median(), inplace=True)\n",
        "print(df.isnull().sum())\n"
      ]
    },
    {
      "cell_type": "code",
      "execution_count": 17,
      "metadata": {
        "collapsed": true,
        "id": "b368dcc4",
        "outputId": "689b7470-48e3-4666-df5c-545f751fe9c5",
        "colab": {
          "base_uri": "https://localhost:8080/"
        }
      },
      "outputs": [
        {
          "output_type": "stream",
          "name": "stderr",
          "text": [
            "<ipython-input-17-db7bf08612df>:1: FutureWarning: A value is trying to be set on a copy of a DataFrame or Series through chained assignment using an inplace method.\n",
            "The behavior will change in pandas 3.0. This inplace method will never work because the intermediate object on which we are setting values always behaves as a copy.\n",
            "\n",
            "For example, when doing 'df[col].method(value, inplace=True)', try using 'df.method({col: value}, inplace=True)' or df[col] = df[col].method(value) instead, to perform the operation inplace on the original object.\n",
            "\n",
            "\n",
            "  df['MentalHealthDays'].fillna(df['MentalHealthDays'].median(), inplace=True)\n"
          ]
        },
        {
          "output_type": "stream",
          "name": "stdout",
          "text": [
            "State                            0\n",
            "Sex                              0\n",
            "GeneralHealth                    0\n",
            "PhysicalHealthDays               0\n",
            "MentalHealthDays                 0\n",
            "LastCheckupTime               8308\n",
            "PhysicalActivities            1093\n",
            "SleepHours                    5453\n",
            "RemovedTeeth                 11360\n",
            "HadHeartAttack                3065\n",
            "HadAngina                     4405\n",
            "HadStroke                     1557\n",
            "HadAsthma                     1773\n",
            "HadSkinCancer                 3143\n",
            "HadCOPD                       2219\n",
            "HadDepressiveDisorder         2812\n",
            "HadKidneyDisease              1926\n",
            "HadArthritis                  2633\n",
            "HadDiabetes                   1087\n",
            "DeafOrHardOfHearing          20647\n",
            "BlindOrVisionDifficulty      21564\n",
            "DifficultyConcentrating      24240\n",
            "DifficultyWalking            24012\n",
            "DifficultyDressingBathing    23915\n",
            "DifficultyErrands            25656\n",
            "SmokerStatus                 35462\n",
            "ECigaretteUsage              35660\n",
            "ChestScan                    56046\n",
            "RaceEthnicityCategory        14057\n",
            "AgeCategory                   9079\n",
            "HeightInMeters               28652\n",
            "WeightInKilograms            42078\n",
            "BMI                          48806\n",
            "AlcoholDrinkers              46574\n",
            "HIVTesting                   66127\n",
            "FluVaxLast12                 47121\n",
            "PneumoVaxEver                77040\n",
            "TetanusLast10Tdap            82516\n",
            "HighRiskLastYear             50623\n",
            "CovidPos                     50764\n",
            "dtype: int64\n"
          ]
        }
      ],
      "source": [
        "df['MentalHealthDays'].fillna(df['MentalHealthDays'].median(), inplace=True)\n",
        "print(df.isnull().sum())"
      ]
    },
    {
      "cell_type": "code",
      "execution_count": 18,
      "metadata": {
        "collapsed": true,
        "id": "8e686771",
        "outputId": "8843e185-46c5-4dec-f586-934d07597f0e",
        "colab": {
          "base_uri": "https://localhost:8080/"
        }
      },
      "outputs": [
        {
          "output_type": "stream",
          "name": "stderr",
          "text": [
            "<ipython-input-18-02a092e6b598>:1: FutureWarning: A value is trying to be set on a copy of a DataFrame or Series through chained assignment using an inplace method.\n",
            "The behavior will change in pandas 3.0. This inplace method will never work because the intermediate object on which we are setting values always behaves as a copy.\n",
            "\n",
            "For example, when doing 'df[col].method(value, inplace=True)', try using 'df.method({col: value}, inplace=True)' or df[col] = df[col].method(value) instead, to perform the operation inplace on the original object.\n",
            "\n",
            "\n",
            "  df['LastCheckupTime'].fillna(df['LastCheckupTime'].mode()[0], inplace=True)\n"
          ]
        },
        {
          "output_type": "stream",
          "name": "stdout",
          "text": [
            "State                            0\n",
            "Sex                              0\n",
            "GeneralHealth                    0\n",
            "PhysicalHealthDays               0\n",
            "MentalHealthDays                 0\n",
            "LastCheckupTime                  0\n",
            "PhysicalActivities            1093\n",
            "SleepHours                    5453\n",
            "RemovedTeeth                 11360\n",
            "HadHeartAttack                3065\n",
            "HadAngina                     4405\n",
            "HadStroke                     1557\n",
            "HadAsthma                     1773\n",
            "HadSkinCancer                 3143\n",
            "HadCOPD                       2219\n",
            "HadDepressiveDisorder         2812\n",
            "HadKidneyDisease              1926\n",
            "HadArthritis                  2633\n",
            "HadDiabetes                   1087\n",
            "DeafOrHardOfHearing          20647\n",
            "BlindOrVisionDifficulty      21564\n",
            "DifficultyConcentrating      24240\n",
            "DifficultyWalking            24012\n",
            "DifficultyDressingBathing    23915\n",
            "DifficultyErrands            25656\n",
            "SmokerStatus                 35462\n",
            "ECigaretteUsage              35660\n",
            "ChestScan                    56046\n",
            "RaceEthnicityCategory        14057\n",
            "AgeCategory                   9079\n",
            "HeightInMeters               28652\n",
            "WeightInKilograms            42078\n",
            "BMI                          48806\n",
            "AlcoholDrinkers              46574\n",
            "HIVTesting                   66127\n",
            "FluVaxLast12                 47121\n",
            "PneumoVaxEver                77040\n",
            "TetanusLast10Tdap            82516\n",
            "HighRiskLastYear             50623\n",
            "CovidPos                     50764\n",
            "dtype: int64\n"
          ]
        }
      ],
      "source": [
        "df['LastCheckupTime'].fillna(df['LastCheckupTime'].mode()[0], inplace=True)\n",
        "print(df.isnull().sum())"
      ]
    },
    {
      "cell_type": "code",
      "execution_count": 19,
      "metadata": {
        "collapsed": true,
        "id": "c2b74641",
        "outputId": "a15d7a01-af6e-4e77-a449-5a81df37383d",
        "colab": {
          "base_uri": "https://localhost:8080/"
        }
      },
      "outputs": [
        {
          "output_type": "stream",
          "name": "stderr",
          "text": [
            "<ipython-input-19-27b54c183e8c>:1: FutureWarning: A value is trying to be set on a copy of a DataFrame or Series through chained assignment using an inplace method.\n",
            "The behavior will change in pandas 3.0. This inplace method will never work because the intermediate object on which we are setting values always behaves as a copy.\n",
            "\n",
            "For example, when doing 'df[col].method(value, inplace=True)', try using 'df.method({col: value}, inplace=True)' or df[col] = df[col].method(value) instead, to perform the operation inplace on the original object.\n",
            "\n",
            "\n",
            "  df['PhysicalActivities'].fillna(df['PhysicalActivities'].mode()[0], inplace=True)\n"
          ]
        },
        {
          "output_type": "stream",
          "name": "stdout",
          "text": [
            "State                            0\n",
            "Sex                              0\n",
            "GeneralHealth                    0\n",
            "PhysicalHealthDays               0\n",
            "MentalHealthDays                 0\n",
            "LastCheckupTime                  0\n",
            "PhysicalActivities               0\n",
            "SleepHours                    5453\n",
            "RemovedTeeth                 11360\n",
            "HadHeartAttack                3065\n",
            "HadAngina                     4405\n",
            "HadStroke                     1557\n",
            "HadAsthma                     1773\n",
            "HadSkinCancer                 3143\n",
            "HadCOPD                       2219\n",
            "HadDepressiveDisorder         2812\n",
            "HadKidneyDisease              1926\n",
            "HadArthritis                  2633\n",
            "HadDiabetes                   1087\n",
            "DeafOrHardOfHearing          20647\n",
            "BlindOrVisionDifficulty      21564\n",
            "DifficultyConcentrating      24240\n",
            "DifficultyWalking            24012\n",
            "DifficultyDressingBathing    23915\n",
            "DifficultyErrands            25656\n",
            "SmokerStatus                 35462\n",
            "ECigaretteUsage              35660\n",
            "ChestScan                    56046\n",
            "RaceEthnicityCategory        14057\n",
            "AgeCategory                   9079\n",
            "HeightInMeters               28652\n",
            "WeightInKilograms            42078\n",
            "BMI                          48806\n",
            "AlcoholDrinkers              46574\n",
            "HIVTesting                   66127\n",
            "FluVaxLast12                 47121\n",
            "PneumoVaxEver                77040\n",
            "TetanusLast10Tdap            82516\n",
            "HighRiskLastYear             50623\n",
            "CovidPos                     50764\n",
            "dtype: int64\n"
          ]
        }
      ],
      "source": [
        "df['PhysicalActivities'].fillna(df['PhysicalActivities'].mode()[0], inplace=True)\n",
        "print(df.isnull().sum())"
      ]
    },
    {
      "cell_type": "code",
      "execution_count": 20,
      "metadata": {
        "collapsed": true,
        "id": "eab31c0f",
        "outputId": "5d1e04a6-102d-4be7-9e62-5966dc78e5e7",
        "colab": {
          "base_uri": "https://localhost:8080/"
        }
      },
      "outputs": [
        {
          "output_type": "stream",
          "name": "stderr",
          "text": [
            "<ipython-input-20-9f77a54a7bbe>:1: FutureWarning: A value is trying to be set on a copy of a DataFrame or Series through chained assignment using an inplace method.\n",
            "The behavior will change in pandas 3.0. This inplace method will never work because the intermediate object on which we are setting values always behaves as a copy.\n",
            "\n",
            "For example, when doing 'df[col].method(value, inplace=True)', try using 'df.method({col: value}, inplace=True)' or df[col] = df[col].method(value) instead, to perform the operation inplace on the original object.\n",
            "\n",
            "\n",
            "  df['SleepHours'].fillna(df['SleepHours'].median(), inplace=True)\n"
          ]
        },
        {
          "output_type": "stream",
          "name": "stdout",
          "text": [
            "State                            0\n",
            "Sex                              0\n",
            "GeneralHealth                    0\n",
            "PhysicalHealthDays               0\n",
            "MentalHealthDays                 0\n",
            "LastCheckupTime                  0\n",
            "PhysicalActivities               0\n",
            "SleepHours                       0\n",
            "RemovedTeeth                 11360\n",
            "HadHeartAttack                3065\n",
            "HadAngina                     4405\n",
            "HadStroke                     1557\n",
            "HadAsthma                     1773\n",
            "HadSkinCancer                 3143\n",
            "HadCOPD                       2219\n",
            "HadDepressiveDisorder         2812\n",
            "HadKidneyDisease              1926\n",
            "HadArthritis                  2633\n",
            "HadDiabetes                   1087\n",
            "DeafOrHardOfHearing          20647\n",
            "BlindOrVisionDifficulty      21564\n",
            "DifficultyConcentrating      24240\n",
            "DifficultyWalking            24012\n",
            "DifficultyDressingBathing    23915\n",
            "DifficultyErrands            25656\n",
            "SmokerStatus                 35462\n",
            "ECigaretteUsage              35660\n",
            "ChestScan                    56046\n",
            "RaceEthnicityCategory        14057\n",
            "AgeCategory                   9079\n",
            "HeightInMeters               28652\n",
            "WeightInKilograms            42078\n",
            "BMI                          48806\n",
            "AlcoholDrinkers              46574\n",
            "HIVTesting                   66127\n",
            "FluVaxLast12                 47121\n",
            "PneumoVaxEver                77040\n",
            "TetanusLast10Tdap            82516\n",
            "HighRiskLastYear             50623\n",
            "CovidPos                     50764\n",
            "dtype: int64\n"
          ]
        }
      ],
      "source": [
        "df['SleepHours'].fillna(df['SleepHours'].median(), inplace=True)\n",
        "print(df.isnull().sum())"
      ]
    },
    {
      "cell_type": "code",
      "execution_count": 21,
      "metadata": {
        "collapsed": true,
        "id": "e41c179b",
        "outputId": "863bfb7a-bb35-457f-d5ec-c30b77e484cf",
        "colab": {
          "base_uri": "https://localhost:8080/"
        }
      },
      "outputs": [
        {
          "output_type": "stream",
          "name": "stderr",
          "text": [
            "<ipython-input-21-e37402567317>:1: FutureWarning: A value is trying to be set on a copy of a DataFrame or Series through chained assignment using an inplace method.\n",
            "The behavior will change in pandas 3.0. This inplace method will never work because the intermediate object on which we are setting values always behaves as a copy.\n",
            "\n",
            "For example, when doing 'df[col].method(value, inplace=True)', try using 'df.method({col: value}, inplace=True)' or df[col] = df[col].method(value) instead, to perform the operation inplace on the original object.\n",
            "\n",
            "\n",
            "  df['RemovedTeeth'].fillna(df['RemovedTeeth'].mode()[0], inplace=True)\n"
          ]
        },
        {
          "output_type": "stream",
          "name": "stdout",
          "text": [
            "State                            0\n",
            "Sex                              0\n",
            "GeneralHealth                    0\n",
            "PhysicalHealthDays               0\n",
            "MentalHealthDays                 0\n",
            "LastCheckupTime                  0\n",
            "PhysicalActivities               0\n",
            "SleepHours                       0\n",
            "RemovedTeeth                     0\n",
            "HadHeartAttack                3065\n",
            "HadAngina                     4405\n",
            "HadStroke                     1557\n",
            "HadAsthma                     1773\n",
            "HadSkinCancer                 3143\n",
            "HadCOPD                       2219\n",
            "HadDepressiveDisorder         2812\n",
            "HadKidneyDisease              1926\n",
            "HadArthritis                  2633\n",
            "HadDiabetes                   1087\n",
            "DeafOrHardOfHearing          20647\n",
            "BlindOrVisionDifficulty      21564\n",
            "DifficultyConcentrating      24240\n",
            "DifficultyWalking            24012\n",
            "DifficultyDressingBathing    23915\n",
            "DifficultyErrands            25656\n",
            "SmokerStatus                 35462\n",
            "ECigaretteUsage              35660\n",
            "ChestScan                    56046\n",
            "RaceEthnicityCategory        14057\n",
            "AgeCategory                   9079\n",
            "HeightInMeters               28652\n",
            "WeightInKilograms            42078\n",
            "BMI                          48806\n",
            "AlcoholDrinkers              46574\n",
            "HIVTesting                   66127\n",
            "FluVaxLast12                 47121\n",
            "PneumoVaxEver                77040\n",
            "TetanusLast10Tdap            82516\n",
            "HighRiskLastYear             50623\n",
            "CovidPos                     50764\n",
            "dtype: int64\n"
          ]
        }
      ],
      "source": [
        "df['RemovedTeeth'].fillna(df['RemovedTeeth'].mode()[0], inplace=True)\n",
        "\n",
        "print(df.isnull().sum())\n"
      ]
    },
    {
      "cell_type": "code",
      "execution_count": 22,
      "metadata": {
        "collapsed": true,
        "id": "69be4e55",
        "outputId": "a63b86d8-13a7-4d4c-bb5a-8bfb4c7787ca",
        "colab": {
          "base_uri": "https://localhost:8080/"
        }
      },
      "outputs": [
        {
          "output_type": "stream",
          "name": "stderr",
          "text": [
            "<ipython-input-22-f1b2f85c33cc>:1: FutureWarning: A value is trying to be set on a copy of a DataFrame or Series through chained assignment using an inplace method.\n",
            "The behavior will change in pandas 3.0. This inplace method will never work because the intermediate object on which we are setting values always behaves as a copy.\n",
            "\n",
            "For example, when doing 'df[col].method(value, inplace=True)', try using 'df.method({col: value}, inplace=True)' or df[col] = df[col].method(value) instead, to perform the operation inplace on the original object.\n",
            "\n",
            "\n",
            "  df['HadHeartAttack'].fillna(df['HadHeartAttack'].mode()[0], inplace=True)\n"
          ]
        },
        {
          "output_type": "stream",
          "name": "stdout",
          "text": [
            "State                            0\n",
            "Sex                              0\n",
            "GeneralHealth                    0\n",
            "PhysicalHealthDays               0\n",
            "MentalHealthDays                 0\n",
            "LastCheckupTime                  0\n",
            "PhysicalActivities               0\n",
            "SleepHours                       0\n",
            "RemovedTeeth                     0\n",
            "HadHeartAttack                   0\n",
            "HadAngina                     4405\n",
            "HadStroke                     1557\n",
            "HadAsthma                     1773\n",
            "HadSkinCancer                 3143\n",
            "HadCOPD                       2219\n",
            "HadDepressiveDisorder         2812\n",
            "HadKidneyDisease              1926\n",
            "HadArthritis                  2633\n",
            "HadDiabetes                   1087\n",
            "DeafOrHardOfHearing          20647\n",
            "BlindOrVisionDifficulty      21564\n",
            "DifficultyConcentrating      24240\n",
            "DifficultyWalking            24012\n",
            "DifficultyDressingBathing    23915\n",
            "DifficultyErrands            25656\n",
            "SmokerStatus                 35462\n",
            "ECigaretteUsage              35660\n",
            "ChestScan                    56046\n",
            "RaceEthnicityCategory        14057\n",
            "AgeCategory                   9079\n",
            "HeightInMeters               28652\n",
            "WeightInKilograms            42078\n",
            "BMI                          48806\n",
            "AlcoholDrinkers              46574\n",
            "HIVTesting                   66127\n",
            "FluVaxLast12                 47121\n",
            "PneumoVaxEver                77040\n",
            "TetanusLast10Tdap            82516\n",
            "HighRiskLastYear             50623\n",
            "CovidPos                     50764\n",
            "dtype: int64\n"
          ]
        }
      ],
      "source": [
        "df['HadHeartAttack'].fillna(df['HadHeartAttack'].mode()[0], inplace=True)\n",
        "print(df.isnull().sum())\n"
      ]
    },
    {
      "cell_type": "code",
      "execution_count": 23,
      "metadata": {
        "collapsed": true,
        "id": "d882c4ae",
        "outputId": "6e1fdb59-d1cb-46e8-f747-7779915a0c51",
        "colab": {
          "base_uri": "https://localhost:8080/"
        }
      },
      "outputs": [
        {
          "output_type": "stream",
          "name": "stderr",
          "text": [
            "<ipython-input-23-3a01fef1e5b8>:1: FutureWarning: A value is trying to be set on a copy of a DataFrame or Series through chained assignment using an inplace method.\n",
            "The behavior will change in pandas 3.0. This inplace method will never work because the intermediate object on which we are setting values always behaves as a copy.\n",
            "\n",
            "For example, when doing 'df[col].method(value, inplace=True)', try using 'df.method({col: value}, inplace=True)' or df[col] = df[col].method(value) instead, to perform the operation inplace on the original object.\n",
            "\n",
            "\n",
            "  df['HadAngina'].fillna(df['HadAngina'].mode()[0], inplace=True)\n"
          ]
        },
        {
          "output_type": "stream",
          "name": "stdout",
          "text": [
            "State                            0\n",
            "Sex                              0\n",
            "GeneralHealth                    0\n",
            "PhysicalHealthDays               0\n",
            "MentalHealthDays                 0\n",
            "LastCheckupTime                  0\n",
            "PhysicalActivities               0\n",
            "SleepHours                       0\n",
            "RemovedTeeth                     0\n",
            "HadHeartAttack                   0\n",
            "HadAngina                        0\n",
            "HadStroke                     1557\n",
            "HadAsthma                     1773\n",
            "HadSkinCancer                 3143\n",
            "HadCOPD                       2219\n",
            "HadDepressiveDisorder         2812\n",
            "HadKidneyDisease              1926\n",
            "HadArthritis                  2633\n",
            "HadDiabetes                   1087\n",
            "DeafOrHardOfHearing          20647\n",
            "BlindOrVisionDifficulty      21564\n",
            "DifficultyConcentrating      24240\n",
            "DifficultyWalking            24012\n",
            "DifficultyDressingBathing    23915\n",
            "DifficultyErrands            25656\n",
            "SmokerStatus                 35462\n",
            "ECigaretteUsage              35660\n",
            "ChestScan                    56046\n",
            "RaceEthnicityCategory        14057\n",
            "AgeCategory                   9079\n",
            "HeightInMeters               28652\n",
            "WeightInKilograms            42078\n",
            "BMI                          48806\n",
            "AlcoholDrinkers              46574\n",
            "HIVTesting                   66127\n",
            "FluVaxLast12                 47121\n",
            "PneumoVaxEver                77040\n",
            "TetanusLast10Tdap            82516\n",
            "HighRiskLastYear             50623\n",
            "CovidPos                     50764\n",
            "dtype: int64\n"
          ]
        }
      ],
      "source": [
        "df['HadAngina'].fillna(df['HadAngina'].mode()[0], inplace=True)\n",
        "print(df.isnull().sum())\n"
      ]
    },
    {
      "cell_type": "code",
      "execution_count": 24,
      "metadata": {
        "collapsed": true,
        "id": "c141aa34",
        "outputId": "bcdaad1b-91ce-437f-e21c-dad3b74f243c",
        "colab": {
          "base_uri": "https://localhost:8080/"
        }
      },
      "outputs": [
        {
          "output_type": "stream",
          "name": "stderr",
          "text": [
            "<ipython-input-24-57b293cbbdef>:1: FutureWarning: A value is trying to be set on a copy of a DataFrame or Series through chained assignment using an inplace method.\n",
            "The behavior will change in pandas 3.0. This inplace method will never work because the intermediate object on which we are setting values always behaves as a copy.\n",
            "\n",
            "For example, when doing 'df[col].method(value, inplace=True)', try using 'df.method({col: value}, inplace=True)' or df[col] = df[col].method(value) instead, to perform the operation inplace on the original object.\n",
            "\n",
            "\n",
            "  df['HadStroke'].fillna(df['HadStroke'].mode()[0], inplace=True)\n"
          ]
        },
        {
          "output_type": "stream",
          "name": "stdout",
          "text": [
            "State                            0\n",
            "Sex                              0\n",
            "GeneralHealth                    0\n",
            "PhysicalHealthDays               0\n",
            "MentalHealthDays                 0\n",
            "LastCheckupTime                  0\n",
            "PhysicalActivities               0\n",
            "SleepHours                       0\n",
            "RemovedTeeth                     0\n",
            "HadHeartAttack                   0\n",
            "HadAngina                        0\n",
            "HadStroke                        0\n",
            "HadAsthma                     1773\n",
            "HadSkinCancer                 3143\n",
            "HadCOPD                       2219\n",
            "HadDepressiveDisorder         2812\n",
            "HadKidneyDisease              1926\n",
            "HadArthritis                  2633\n",
            "HadDiabetes                   1087\n",
            "DeafOrHardOfHearing          20647\n",
            "BlindOrVisionDifficulty      21564\n",
            "DifficultyConcentrating      24240\n",
            "DifficultyWalking            24012\n",
            "DifficultyDressingBathing    23915\n",
            "DifficultyErrands            25656\n",
            "SmokerStatus                 35462\n",
            "ECigaretteUsage              35660\n",
            "ChestScan                    56046\n",
            "RaceEthnicityCategory        14057\n",
            "AgeCategory                   9079\n",
            "HeightInMeters               28652\n",
            "WeightInKilograms            42078\n",
            "BMI                          48806\n",
            "AlcoholDrinkers              46574\n",
            "HIVTesting                   66127\n",
            "FluVaxLast12                 47121\n",
            "PneumoVaxEver                77040\n",
            "TetanusLast10Tdap            82516\n",
            "HighRiskLastYear             50623\n",
            "CovidPos                     50764\n",
            "dtype: int64\n"
          ]
        }
      ],
      "source": [
        "df['HadStroke'].fillna(df['HadStroke'].mode()[0], inplace=True)\n",
        "print(df.isnull().sum())\n",
        "\n"
      ]
    },
    {
      "cell_type": "code",
      "execution_count": 25,
      "metadata": {
        "collapsed": true,
        "id": "ae9b2db5",
        "outputId": "6b922e6f-0870-4a07-cc6b-3343d18fa276",
        "colab": {
          "base_uri": "https://localhost:8080/"
        }
      },
      "outputs": [
        {
          "output_type": "stream",
          "name": "stderr",
          "text": [
            "<ipython-input-25-d72cf9542a5b>:1: FutureWarning: A value is trying to be set on a copy of a DataFrame or Series through chained assignment using an inplace method.\n",
            "The behavior will change in pandas 3.0. This inplace method will never work because the intermediate object on which we are setting values always behaves as a copy.\n",
            "\n",
            "For example, when doing 'df[col].method(value, inplace=True)', try using 'df.method({col: value}, inplace=True)' or df[col] = df[col].method(value) instead, to perform the operation inplace on the original object.\n",
            "\n",
            "\n",
            "  df['HadAsthma'].fillna(df['HadAsthma'].mode()[0], inplace=True)\n"
          ]
        },
        {
          "output_type": "stream",
          "name": "stdout",
          "text": [
            "State                            0\n",
            "Sex                              0\n",
            "GeneralHealth                    0\n",
            "PhysicalHealthDays               0\n",
            "MentalHealthDays                 0\n",
            "LastCheckupTime                  0\n",
            "PhysicalActivities               0\n",
            "SleepHours                       0\n",
            "RemovedTeeth                     0\n",
            "HadHeartAttack                   0\n",
            "HadAngina                        0\n",
            "HadStroke                        0\n",
            "HadAsthma                        0\n",
            "HadSkinCancer                 3143\n",
            "HadCOPD                       2219\n",
            "HadDepressiveDisorder         2812\n",
            "HadKidneyDisease              1926\n",
            "HadArthritis                  2633\n",
            "HadDiabetes                   1087\n",
            "DeafOrHardOfHearing          20647\n",
            "BlindOrVisionDifficulty      21564\n",
            "DifficultyConcentrating      24240\n",
            "DifficultyWalking            24012\n",
            "DifficultyDressingBathing    23915\n",
            "DifficultyErrands            25656\n",
            "SmokerStatus                 35462\n",
            "ECigaretteUsage              35660\n",
            "ChestScan                    56046\n",
            "RaceEthnicityCategory        14057\n",
            "AgeCategory                   9079\n",
            "HeightInMeters               28652\n",
            "WeightInKilograms            42078\n",
            "BMI                          48806\n",
            "AlcoholDrinkers              46574\n",
            "HIVTesting                   66127\n",
            "FluVaxLast12                 47121\n",
            "PneumoVaxEver                77040\n",
            "TetanusLast10Tdap            82516\n",
            "HighRiskLastYear             50623\n",
            "CovidPos                     50764\n",
            "dtype: int64\n"
          ]
        }
      ],
      "source": [
        "df['HadAsthma'].fillna(df['HadAsthma'].mode()[0], inplace=True)\n",
        "print(df.isnull().sum())\n",
        "\n"
      ]
    },
    {
      "cell_type": "code",
      "execution_count": 26,
      "metadata": {
        "collapsed": true,
        "id": "8a389ed9",
        "outputId": "27acee86-3f1f-45dd-9c0f-f9434058f03b",
        "colab": {
          "base_uri": "https://localhost:8080/"
        }
      },
      "outputs": [
        {
          "output_type": "stream",
          "name": "stderr",
          "text": [
            "<ipython-input-26-465aed9f34c0>:1: FutureWarning: A value is trying to be set on a copy of a DataFrame or Series through chained assignment using an inplace method.\n",
            "The behavior will change in pandas 3.0. This inplace method will never work because the intermediate object on which we are setting values always behaves as a copy.\n",
            "\n",
            "For example, when doing 'df[col].method(value, inplace=True)', try using 'df.method({col: value}, inplace=True)' or df[col] = df[col].method(value) instead, to perform the operation inplace on the original object.\n",
            "\n",
            "\n",
            "  df['HadSkinCancer'].fillna(df['HadSkinCancer'].mode()[0], inplace=True)\n"
          ]
        },
        {
          "output_type": "stream",
          "name": "stdout",
          "text": [
            "State                            0\n",
            "Sex                              0\n",
            "GeneralHealth                    0\n",
            "PhysicalHealthDays               0\n",
            "MentalHealthDays                 0\n",
            "LastCheckupTime                  0\n",
            "PhysicalActivities               0\n",
            "SleepHours                       0\n",
            "RemovedTeeth                     0\n",
            "HadHeartAttack                   0\n",
            "HadAngina                        0\n",
            "HadStroke                        0\n",
            "HadAsthma                        0\n",
            "HadSkinCancer                    0\n",
            "HadCOPD                       2219\n",
            "HadDepressiveDisorder         2812\n",
            "HadKidneyDisease              1926\n",
            "HadArthritis                  2633\n",
            "HadDiabetes                   1087\n",
            "DeafOrHardOfHearing          20647\n",
            "BlindOrVisionDifficulty      21564\n",
            "DifficultyConcentrating      24240\n",
            "DifficultyWalking            24012\n",
            "DifficultyDressingBathing    23915\n",
            "DifficultyErrands            25656\n",
            "SmokerStatus                 35462\n",
            "ECigaretteUsage              35660\n",
            "ChestScan                    56046\n",
            "RaceEthnicityCategory        14057\n",
            "AgeCategory                   9079\n",
            "HeightInMeters               28652\n",
            "WeightInKilograms            42078\n",
            "BMI                          48806\n",
            "AlcoholDrinkers              46574\n",
            "HIVTesting                   66127\n",
            "FluVaxLast12                 47121\n",
            "PneumoVaxEver                77040\n",
            "TetanusLast10Tdap            82516\n",
            "HighRiskLastYear             50623\n",
            "CovidPos                     50764\n",
            "dtype: int64\n"
          ]
        }
      ],
      "source": [
        "df['HadSkinCancer'].fillna(df['HadSkinCancer'].mode()[0], inplace=True)\n",
        "print(df.isnull().sum())\n",
        "\n"
      ]
    },
    {
      "cell_type": "code",
      "execution_count": 27,
      "metadata": {
        "collapsed": true,
        "id": "7598f18e",
        "outputId": "f5ec3f31-7497-41a5-bda1-d41385c8733a",
        "colab": {
          "base_uri": "https://localhost:8080/"
        }
      },
      "outputs": [
        {
          "output_type": "stream",
          "name": "stderr",
          "text": [
            "<ipython-input-27-497faa5825ad>:1: FutureWarning: A value is trying to be set on a copy of a DataFrame or Series through chained assignment using an inplace method.\n",
            "The behavior will change in pandas 3.0. This inplace method will never work because the intermediate object on which we are setting values always behaves as a copy.\n",
            "\n",
            "For example, when doing 'df[col].method(value, inplace=True)', try using 'df.method({col: value}, inplace=True)' or df[col] = df[col].method(value) instead, to perform the operation inplace on the original object.\n",
            "\n",
            "\n",
            "  df['HadCOPD'].fillna(df['HadCOPD'].mode()[0], inplace=True)\n"
          ]
        },
        {
          "output_type": "stream",
          "name": "stdout",
          "text": [
            "State                            0\n",
            "Sex                              0\n",
            "GeneralHealth                    0\n",
            "PhysicalHealthDays               0\n",
            "MentalHealthDays                 0\n",
            "LastCheckupTime                  0\n",
            "PhysicalActivities               0\n",
            "SleepHours                       0\n",
            "RemovedTeeth                     0\n",
            "HadHeartAttack                   0\n",
            "HadAngina                        0\n",
            "HadStroke                        0\n",
            "HadAsthma                        0\n",
            "HadSkinCancer                    0\n",
            "HadCOPD                          0\n",
            "HadDepressiveDisorder         2812\n",
            "HadKidneyDisease              1926\n",
            "HadArthritis                  2633\n",
            "HadDiabetes                   1087\n",
            "DeafOrHardOfHearing          20647\n",
            "BlindOrVisionDifficulty      21564\n",
            "DifficultyConcentrating      24240\n",
            "DifficultyWalking            24012\n",
            "DifficultyDressingBathing    23915\n",
            "DifficultyErrands            25656\n",
            "SmokerStatus                 35462\n",
            "ECigaretteUsage              35660\n",
            "ChestScan                    56046\n",
            "RaceEthnicityCategory        14057\n",
            "AgeCategory                   9079\n",
            "HeightInMeters               28652\n",
            "WeightInKilograms            42078\n",
            "BMI                          48806\n",
            "AlcoholDrinkers              46574\n",
            "HIVTesting                   66127\n",
            "FluVaxLast12                 47121\n",
            "PneumoVaxEver                77040\n",
            "TetanusLast10Tdap            82516\n",
            "HighRiskLastYear             50623\n",
            "CovidPos                     50764\n",
            "dtype: int64\n"
          ]
        }
      ],
      "source": [
        "df['HadCOPD'].fillna(df['HadCOPD'].mode()[0], inplace=True)\n",
        "print(df.isnull().sum())\n",
        "\n"
      ]
    },
    {
      "cell_type": "code",
      "execution_count": 28,
      "metadata": {
        "collapsed": true,
        "id": "9ceb9db5",
        "outputId": "fe35780f-5935-41d9-d942-ffd9adf6c152",
        "colab": {
          "base_uri": "https://localhost:8080/"
        }
      },
      "outputs": [
        {
          "output_type": "stream",
          "name": "stderr",
          "text": [
            "<ipython-input-28-c75dd3d0410c>:1: FutureWarning: A value is trying to be set on a copy of a DataFrame or Series through chained assignment using an inplace method.\n",
            "The behavior will change in pandas 3.0. This inplace method will never work because the intermediate object on which we are setting values always behaves as a copy.\n",
            "\n",
            "For example, when doing 'df[col].method(value, inplace=True)', try using 'df.method({col: value}, inplace=True)' or df[col] = df[col].method(value) instead, to perform the operation inplace on the original object.\n",
            "\n",
            "\n",
            "  df['HadDepressiveDisorder'].fillna(df['HadDepressiveDisorder'].mode()[0], inplace=True)\n"
          ]
        },
        {
          "output_type": "stream",
          "name": "stdout",
          "text": [
            "State                            0\n",
            "Sex                              0\n",
            "GeneralHealth                    0\n",
            "PhysicalHealthDays               0\n",
            "MentalHealthDays                 0\n",
            "LastCheckupTime                  0\n",
            "PhysicalActivities               0\n",
            "SleepHours                       0\n",
            "RemovedTeeth                     0\n",
            "HadHeartAttack                   0\n",
            "HadAngina                        0\n",
            "HadStroke                        0\n",
            "HadAsthma                        0\n",
            "HadSkinCancer                    0\n",
            "HadCOPD                          0\n",
            "HadDepressiveDisorder            0\n",
            "HadKidneyDisease              1926\n",
            "HadArthritis                  2633\n",
            "HadDiabetes                   1087\n",
            "DeafOrHardOfHearing          20647\n",
            "BlindOrVisionDifficulty      21564\n",
            "DifficultyConcentrating      24240\n",
            "DifficultyWalking            24012\n",
            "DifficultyDressingBathing    23915\n",
            "DifficultyErrands            25656\n",
            "SmokerStatus                 35462\n",
            "ECigaretteUsage              35660\n",
            "ChestScan                    56046\n",
            "RaceEthnicityCategory        14057\n",
            "AgeCategory                   9079\n",
            "HeightInMeters               28652\n",
            "WeightInKilograms            42078\n",
            "BMI                          48806\n",
            "AlcoholDrinkers              46574\n",
            "HIVTesting                   66127\n",
            "FluVaxLast12                 47121\n",
            "PneumoVaxEver                77040\n",
            "TetanusLast10Tdap            82516\n",
            "HighRiskLastYear             50623\n",
            "CovidPos                     50764\n",
            "dtype: int64\n"
          ]
        }
      ],
      "source": [
        "df['HadDepressiveDisorder'].fillna(df['HadDepressiveDisorder'].mode()[0], inplace=True)\n",
        "print(df.isnull().sum())\n",
        "\n"
      ]
    },
    {
      "cell_type": "code",
      "execution_count": 29,
      "metadata": {
        "collapsed": true,
        "id": "231f3aca",
        "outputId": "679fbe24-aef5-4d8d-f45c-8d05173209d9",
        "colab": {
          "base_uri": "https://localhost:8080/"
        }
      },
      "outputs": [
        {
          "output_type": "stream",
          "name": "stderr",
          "text": [
            "<ipython-input-29-e0d12be4c250>:1: FutureWarning: A value is trying to be set on a copy of a DataFrame or Series through chained assignment using an inplace method.\n",
            "The behavior will change in pandas 3.0. This inplace method will never work because the intermediate object on which we are setting values always behaves as a copy.\n",
            "\n",
            "For example, when doing 'df[col].method(value, inplace=True)', try using 'df.method({col: value}, inplace=True)' or df[col] = df[col].method(value) instead, to perform the operation inplace on the original object.\n",
            "\n",
            "\n",
            "  df['HadKidneyDisease'].fillna(df['HadKidneyDisease'].mode()[0], inplace=True)\n"
          ]
        },
        {
          "output_type": "stream",
          "name": "stdout",
          "text": [
            "State                            0\n",
            "Sex                              0\n",
            "GeneralHealth                    0\n",
            "PhysicalHealthDays               0\n",
            "MentalHealthDays                 0\n",
            "LastCheckupTime                  0\n",
            "PhysicalActivities               0\n",
            "SleepHours                       0\n",
            "RemovedTeeth                     0\n",
            "HadHeartAttack                   0\n",
            "HadAngina                        0\n",
            "HadStroke                        0\n",
            "HadAsthma                        0\n",
            "HadSkinCancer                    0\n",
            "HadCOPD                          0\n",
            "HadDepressiveDisorder            0\n",
            "HadKidneyDisease                 0\n",
            "HadArthritis                  2633\n",
            "HadDiabetes                   1087\n",
            "DeafOrHardOfHearing          20647\n",
            "BlindOrVisionDifficulty      21564\n",
            "DifficultyConcentrating      24240\n",
            "DifficultyWalking            24012\n",
            "DifficultyDressingBathing    23915\n",
            "DifficultyErrands            25656\n",
            "SmokerStatus                 35462\n",
            "ECigaretteUsage              35660\n",
            "ChestScan                    56046\n",
            "RaceEthnicityCategory        14057\n",
            "AgeCategory                   9079\n",
            "HeightInMeters               28652\n",
            "WeightInKilograms            42078\n",
            "BMI                          48806\n",
            "AlcoholDrinkers              46574\n",
            "HIVTesting                   66127\n",
            "FluVaxLast12                 47121\n",
            "PneumoVaxEver                77040\n",
            "TetanusLast10Tdap            82516\n",
            "HighRiskLastYear             50623\n",
            "CovidPos                     50764\n",
            "dtype: int64\n"
          ]
        }
      ],
      "source": [
        "df['HadKidneyDisease'].fillna(df['HadKidneyDisease'].mode()[0], inplace=True)\n",
        "print(df.isnull().sum())"
      ]
    },
    {
      "cell_type": "code",
      "execution_count": 30,
      "metadata": {
        "collapsed": true,
        "id": "0f7130a8",
        "outputId": "8b6f530d-d458-447b-91d4-184d15b907f4",
        "colab": {
          "base_uri": "https://localhost:8080/"
        }
      },
      "outputs": [
        {
          "output_type": "stream",
          "name": "stderr",
          "text": [
            "<ipython-input-30-54ab57ad5a3c>:1: FutureWarning: A value is trying to be set on a copy of a DataFrame or Series through chained assignment using an inplace method.\n",
            "The behavior will change in pandas 3.0. This inplace method will never work because the intermediate object on which we are setting values always behaves as a copy.\n",
            "\n",
            "For example, when doing 'df[col].method(value, inplace=True)', try using 'df.method({col: value}, inplace=True)' or df[col] = df[col].method(value) instead, to perform the operation inplace on the original object.\n",
            "\n",
            "\n",
            "  df['HadArthritis'].fillna(df['HadArthritis'].mode()[0], inplace=True)\n"
          ]
        },
        {
          "output_type": "stream",
          "name": "stdout",
          "text": [
            "State                            0\n",
            "Sex                              0\n",
            "GeneralHealth                    0\n",
            "PhysicalHealthDays               0\n",
            "MentalHealthDays                 0\n",
            "LastCheckupTime                  0\n",
            "PhysicalActivities               0\n",
            "SleepHours                       0\n",
            "RemovedTeeth                     0\n",
            "HadHeartAttack                   0\n",
            "HadAngina                        0\n",
            "HadStroke                        0\n",
            "HadAsthma                        0\n",
            "HadSkinCancer                    0\n",
            "HadCOPD                          0\n",
            "HadDepressiveDisorder            0\n",
            "HadKidneyDisease                 0\n",
            "HadArthritis                     0\n",
            "HadDiabetes                   1087\n",
            "DeafOrHardOfHearing          20647\n",
            "BlindOrVisionDifficulty      21564\n",
            "DifficultyConcentrating      24240\n",
            "DifficultyWalking            24012\n",
            "DifficultyDressingBathing    23915\n",
            "DifficultyErrands            25656\n",
            "SmokerStatus                 35462\n",
            "ECigaretteUsage              35660\n",
            "ChestScan                    56046\n",
            "RaceEthnicityCategory        14057\n",
            "AgeCategory                   9079\n",
            "HeightInMeters               28652\n",
            "WeightInKilograms            42078\n",
            "BMI                          48806\n",
            "AlcoholDrinkers              46574\n",
            "HIVTesting                   66127\n",
            "FluVaxLast12                 47121\n",
            "PneumoVaxEver                77040\n",
            "TetanusLast10Tdap            82516\n",
            "HighRiskLastYear             50623\n",
            "CovidPos                     50764\n",
            "dtype: int64\n"
          ]
        }
      ],
      "source": [
        "df['HadArthritis'].fillna(df['HadArthritis'].mode()[0], inplace=True)\n",
        "print(df.isnull().sum())\n"
      ]
    },
    {
      "cell_type": "code",
      "execution_count": 31,
      "metadata": {
        "collapsed": true,
        "id": "a2170d91",
        "outputId": "704341a6-4244-40ec-c5f4-1eb5fb45e173",
        "colab": {
          "base_uri": "https://localhost:8080/"
        }
      },
      "outputs": [
        {
          "output_type": "stream",
          "name": "stderr",
          "text": [
            "<ipython-input-31-6e862cfdf914>:1: FutureWarning: A value is trying to be set on a copy of a DataFrame or Series through chained assignment using an inplace method.\n",
            "The behavior will change in pandas 3.0. This inplace method will never work because the intermediate object on which we are setting values always behaves as a copy.\n",
            "\n",
            "For example, when doing 'df[col].method(value, inplace=True)', try using 'df.method({col: value}, inplace=True)' or df[col] = df[col].method(value) instead, to perform the operation inplace on the original object.\n",
            "\n",
            "\n",
            "  df['HadDiabetes'].fillna(df['HadDiabetes'].mode()[0], inplace=True)\n"
          ]
        },
        {
          "output_type": "stream",
          "name": "stdout",
          "text": [
            "State                            0\n",
            "Sex                              0\n",
            "GeneralHealth                    0\n",
            "PhysicalHealthDays               0\n",
            "MentalHealthDays                 0\n",
            "LastCheckupTime                  0\n",
            "PhysicalActivities               0\n",
            "SleepHours                       0\n",
            "RemovedTeeth                     0\n",
            "HadHeartAttack                   0\n",
            "HadAngina                        0\n",
            "HadStroke                        0\n",
            "HadAsthma                        0\n",
            "HadSkinCancer                    0\n",
            "HadCOPD                          0\n",
            "HadDepressiveDisorder            0\n",
            "HadKidneyDisease                 0\n",
            "HadArthritis                     0\n",
            "HadDiabetes                      0\n",
            "DeafOrHardOfHearing          20647\n",
            "BlindOrVisionDifficulty      21564\n",
            "DifficultyConcentrating      24240\n",
            "DifficultyWalking            24012\n",
            "DifficultyDressingBathing    23915\n",
            "DifficultyErrands            25656\n",
            "SmokerStatus                 35462\n",
            "ECigaretteUsage              35660\n",
            "ChestScan                    56046\n",
            "RaceEthnicityCategory        14057\n",
            "AgeCategory                   9079\n",
            "HeightInMeters               28652\n",
            "WeightInKilograms            42078\n",
            "BMI                          48806\n",
            "AlcoholDrinkers              46574\n",
            "HIVTesting                   66127\n",
            "FluVaxLast12                 47121\n",
            "PneumoVaxEver                77040\n",
            "TetanusLast10Tdap            82516\n",
            "HighRiskLastYear             50623\n",
            "CovidPos                     50764\n",
            "dtype: int64\n"
          ]
        }
      ],
      "source": [
        "df['HadDiabetes'].fillna(df['HadDiabetes'].mode()[0], inplace=True)\n",
        "print(df.isnull().sum())\n",
        "\n",
        "\n"
      ]
    },
    {
      "cell_type": "code",
      "execution_count": 32,
      "metadata": {
        "collapsed": true,
        "id": "ccecf490",
        "outputId": "fec6f921-ac24-4ee6-ad6d-f434c2a0b81c",
        "colab": {
          "base_uri": "https://localhost:8080/"
        }
      },
      "outputs": [
        {
          "output_type": "stream",
          "name": "stderr",
          "text": [
            "<ipython-input-32-ec4e951dcdc8>:1: FutureWarning: A value is trying to be set on a copy of a DataFrame or Series through chained assignment using an inplace method.\n",
            "The behavior will change in pandas 3.0. This inplace method will never work because the intermediate object on which we are setting values always behaves as a copy.\n",
            "\n",
            "For example, when doing 'df[col].method(value, inplace=True)', try using 'df.method({col: value}, inplace=True)' or df[col] = df[col].method(value) instead, to perform the operation inplace on the original object.\n",
            "\n",
            "\n",
            "  df['DeafOrHardOfHearing'].fillna(df['DeafOrHardOfHearing'].mode()[0], inplace=True)\n"
          ]
        },
        {
          "output_type": "stream",
          "name": "stdout",
          "text": [
            "State                            0\n",
            "Sex                              0\n",
            "GeneralHealth                    0\n",
            "PhysicalHealthDays               0\n",
            "MentalHealthDays                 0\n",
            "LastCheckupTime                  0\n",
            "PhysicalActivities               0\n",
            "SleepHours                       0\n",
            "RemovedTeeth                     0\n",
            "HadHeartAttack                   0\n",
            "HadAngina                        0\n",
            "HadStroke                        0\n",
            "HadAsthma                        0\n",
            "HadSkinCancer                    0\n",
            "HadCOPD                          0\n",
            "HadDepressiveDisorder            0\n",
            "HadKidneyDisease                 0\n",
            "HadArthritis                     0\n",
            "HadDiabetes                      0\n",
            "DeafOrHardOfHearing              0\n",
            "BlindOrVisionDifficulty      21564\n",
            "DifficultyConcentrating      24240\n",
            "DifficultyWalking            24012\n",
            "DifficultyDressingBathing    23915\n",
            "DifficultyErrands            25656\n",
            "SmokerStatus                 35462\n",
            "ECigaretteUsage              35660\n",
            "ChestScan                    56046\n",
            "RaceEthnicityCategory        14057\n",
            "AgeCategory                   9079\n",
            "HeightInMeters               28652\n",
            "WeightInKilograms            42078\n",
            "BMI                          48806\n",
            "AlcoholDrinkers              46574\n",
            "HIVTesting                   66127\n",
            "FluVaxLast12                 47121\n",
            "PneumoVaxEver                77040\n",
            "TetanusLast10Tdap            82516\n",
            "HighRiskLastYear             50623\n",
            "CovidPos                     50764\n",
            "dtype: int64\n"
          ]
        }
      ],
      "source": [
        "df['DeafOrHardOfHearing'].fillna(df['DeafOrHardOfHearing'].mode()[0], inplace=True)\n",
        "print(df.isnull().sum())\n",
        "\n"
      ]
    },
    {
      "cell_type": "code",
      "execution_count": 33,
      "metadata": {
        "collapsed": true,
        "id": "9b42f091",
        "outputId": "06f8a187-6b19-43a9-9884-ccc244d2dfe5",
        "colab": {
          "base_uri": "https://localhost:8080/"
        }
      },
      "outputs": [
        {
          "output_type": "stream",
          "name": "stderr",
          "text": [
            "<ipython-input-33-3f376454cee2>:1: FutureWarning: A value is trying to be set on a copy of a DataFrame or Series through chained assignment using an inplace method.\n",
            "The behavior will change in pandas 3.0. This inplace method will never work because the intermediate object on which we are setting values always behaves as a copy.\n",
            "\n",
            "For example, when doing 'df[col].method(value, inplace=True)', try using 'df.method({col: value}, inplace=True)' or df[col] = df[col].method(value) instead, to perform the operation inplace on the original object.\n",
            "\n",
            "\n",
            "  df['BlindOrVisionDifficulty'].fillna(df['BlindOrVisionDifficulty'].mode()[0], inplace=True)\n"
          ]
        },
        {
          "output_type": "stream",
          "name": "stdout",
          "text": [
            "State                            0\n",
            "Sex                              0\n",
            "GeneralHealth                    0\n",
            "PhysicalHealthDays               0\n",
            "MentalHealthDays                 0\n",
            "LastCheckupTime                  0\n",
            "PhysicalActivities               0\n",
            "SleepHours                       0\n",
            "RemovedTeeth                     0\n",
            "HadHeartAttack                   0\n",
            "HadAngina                        0\n",
            "HadStroke                        0\n",
            "HadAsthma                        0\n",
            "HadSkinCancer                    0\n",
            "HadCOPD                          0\n",
            "HadDepressiveDisorder            0\n",
            "HadKidneyDisease                 0\n",
            "HadArthritis                     0\n",
            "HadDiabetes                      0\n",
            "DeafOrHardOfHearing              0\n",
            "BlindOrVisionDifficulty          0\n",
            "DifficultyConcentrating      24240\n",
            "DifficultyWalking            24012\n",
            "DifficultyDressingBathing    23915\n",
            "DifficultyErrands            25656\n",
            "SmokerStatus                 35462\n",
            "ECigaretteUsage              35660\n",
            "ChestScan                    56046\n",
            "RaceEthnicityCategory        14057\n",
            "AgeCategory                   9079\n",
            "HeightInMeters               28652\n",
            "WeightInKilograms            42078\n",
            "BMI                          48806\n",
            "AlcoholDrinkers              46574\n",
            "HIVTesting                   66127\n",
            "FluVaxLast12                 47121\n",
            "PneumoVaxEver                77040\n",
            "TetanusLast10Tdap            82516\n",
            "HighRiskLastYear             50623\n",
            "CovidPos                     50764\n",
            "dtype: int64\n"
          ]
        }
      ],
      "source": [
        "df['BlindOrVisionDifficulty'].fillna(df['BlindOrVisionDifficulty'].mode()[0], inplace=True)\n",
        "print(df.isnull().sum())\n",
        "\n"
      ]
    },
    {
      "cell_type": "code",
      "execution_count": 34,
      "metadata": {
        "collapsed": true,
        "id": "28aeff04",
        "outputId": "a8b4787d-ed90-4775-ebdb-d034f93b1bb9",
        "colab": {
          "base_uri": "https://localhost:8080/"
        }
      },
      "outputs": [
        {
          "output_type": "stream",
          "name": "stderr",
          "text": [
            "<ipython-input-34-7b7da707ca30>:1: FutureWarning: A value is trying to be set on a copy of a DataFrame or Series through chained assignment using an inplace method.\n",
            "The behavior will change in pandas 3.0. This inplace method will never work because the intermediate object on which we are setting values always behaves as a copy.\n",
            "\n",
            "For example, when doing 'df[col].method(value, inplace=True)', try using 'df.method({col: value}, inplace=True)' or df[col] = df[col].method(value) instead, to perform the operation inplace on the original object.\n",
            "\n",
            "\n",
            "  df['DifficultyConcentrating'].fillna(df['DifficultyConcentrating'].mode()[0], inplace=True)\n"
          ]
        },
        {
          "output_type": "stream",
          "name": "stdout",
          "text": [
            "State                            0\n",
            "Sex                              0\n",
            "GeneralHealth                    0\n",
            "PhysicalHealthDays               0\n",
            "MentalHealthDays                 0\n",
            "LastCheckupTime                  0\n",
            "PhysicalActivities               0\n",
            "SleepHours                       0\n",
            "RemovedTeeth                     0\n",
            "HadHeartAttack                   0\n",
            "HadAngina                        0\n",
            "HadStroke                        0\n",
            "HadAsthma                        0\n",
            "HadSkinCancer                    0\n",
            "HadCOPD                          0\n",
            "HadDepressiveDisorder            0\n",
            "HadKidneyDisease                 0\n",
            "HadArthritis                     0\n",
            "HadDiabetes                      0\n",
            "DeafOrHardOfHearing              0\n",
            "BlindOrVisionDifficulty          0\n",
            "DifficultyConcentrating          0\n",
            "DifficultyWalking            24012\n",
            "DifficultyDressingBathing    23915\n",
            "DifficultyErrands            25656\n",
            "SmokerStatus                 35462\n",
            "ECigaretteUsage              35660\n",
            "ChestScan                    56046\n",
            "RaceEthnicityCategory        14057\n",
            "AgeCategory                   9079\n",
            "HeightInMeters               28652\n",
            "WeightInKilograms            42078\n",
            "BMI                          48806\n",
            "AlcoholDrinkers              46574\n",
            "HIVTesting                   66127\n",
            "FluVaxLast12                 47121\n",
            "PneumoVaxEver                77040\n",
            "TetanusLast10Tdap            82516\n",
            "HighRiskLastYear             50623\n",
            "CovidPos                     50764\n",
            "dtype: int64\n"
          ]
        }
      ],
      "source": [
        "df['DifficultyConcentrating'].fillna(df['DifficultyConcentrating'].mode()[0], inplace=True)\n",
        "print(df.isnull().sum())\n",
        "\n"
      ]
    },
    {
      "cell_type": "code",
      "execution_count": 35,
      "metadata": {
        "collapsed": true,
        "id": "568057c2",
        "outputId": "380517ab-c27e-40db-d2ac-e0dd501fcaaa",
        "colab": {
          "base_uri": "https://localhost:8080/"
        }
      },
      "outputs": [
        {
          "output_type": "stream",
          "name": "stderr",
          "text": [
            "<ipython-input-35-b0a518be3b3a>:1: FutureWarning: A value is trying to be set on a copy of a DataFrame or Series through chained assignment using an inplace method.\n",
            "The behavior will change in pandas 3.0. This inplace method will never work because the intermediate object on which we are setting values always behaves as a copy.\n",
            "\n",
            "For example, when doing 'df[col].method(value, inplace=True)', try using 'df.method({col: value}, inplace=True)' or df[col] = df[col].method(value) instead, to perform the operation inplace on the original object.\n",
            "\n",
            "\n",
            "  df['DifficultyWalking'].fillna(df['DifficultyWalking'].mode()[0], inplace=True)\n"
          ]
        },
        {
          "output_type": "stream",
          "name": "stdout",
          "text": [
            "State                            0\n",
            "Sex                              0\n",
            "GeneralHealth                    0\n",
            "PhysicalHealthDays               0\n",
            "MentalHealthDays                 0\n",
            "LastCheckupTime                  0\n",
            "PhysicalActivities               0\n",
            "SleepHours                       0\n",
            "RemovedTeeth                     0\n",
            "HadHeartAttack                   0\n",
            "HadAngina                        0\n",
            "HadStroke                        0\n",
            "HadAsthma                        0\n",
            "HadSkinCancer                    0\n",
            "HadCOPD                          0\n",
            "HadDepressiveDisorder            0\n",
            "HadKidneyDisease                 0\n",
            "HadArthritis                     0\n",
            "HadDiabetes                      0\n",
            "DeafOrHardOfHearing              0\n",
            "BlindOrVisionDifficulty          0\n",
            "DifficultyConcentrating          0\n",
            "DifficultyWalking                0\n",
            "DifficultyDressingBathing    23915\n",
            "DifficultyErrands            25656\n",
            "SmokerStatus                 35462\n",
            "ECigaretteUsage              35660\n",
            "ChestScan                    56046\n",
            "RaceEthnicityCategory        14057\n",
            "AgeCategory                   9079\n",
            "HeightInMeters               28652\n",
            "WeightInKilograms            42078\n",
            "BMI                          48806\n",
            "AlcoholDrinkers              46574\n",
            "HIVTesting                   66127\n",
            "FluVaxLast12                 47121\n",
            "PneumoVaxEver                77040\n",
            "TetanusLast10Tdap            82516\n",
            "HighRiskLastYear             50623\n",
            "CovidPos                     50764\n",
            "dtype: int64\n"
          ]
        }
      ],
      "source": [
        "df['DifficultyWalking'].fillna(df['DifficultyWalking'].mode()[0], inplace=True)\n",
        "print(df.isnull().sum())\n",
        "\n"
      ]
    },
    {
      "cell_type": "code",
      "execution_count": 36,
      "metadata": {
        "collapsed": true,
        "id": "c1dcd406",
        "outputId": "5ec5073f-14f4-4cdc-f3ec-b4f0d06b43b5",
        "colab": {
          "base_uri": "https://localhost:8080/"
        }
      },
      "outputs": [
        {
          "output_type": "stream",
          "name": "stderr",
          "text": [
            "<ipython-input-36-f06dfca55ce1>:1: FutureWarning: A value is trying to be set on a copy of a DataFrame or Series through chained assignment using an inplace method.\n",
            "The behavior will change in pandas 3.0. This inplace method will never work because the intermediate object on which we are setting values always behaves as a copy.\n",
            "\n",
            "For example, when doing 'df[col].method(value, inplace=True)', try using 'df.method({col: value}, inplace=True)' or df[col] = df[col].method(value) instead, to perform the operation inplace on the original object.\n",
            "\n",
            "\n",
            "  df['DifficultyDressingBathing'].fillna(df['DifficultyDressingBathing'].mode()[0], inplace=True)\n"
          ]
        },
        {
          "output_type": "stream",
          "name": "stdout",
          "text": [
            "State                            0\n",
            "Sex                              0\n",
            "GeneralHealth                    0\n",
            "PhysicalHealthDays               0\n",
            "MentalHealthDays                 0\n",
            "LastCheckupTime                  0\n",
            "PhysicalActivities               0\n",
            "SleepHours                       0\n",
            "RemovedTeeth                     0\n",
            "HadHeartAttack                   0\n",
            "HadAngina                        0\n",
            "HadStroke                        0\n",
            "HadAsthma                        0\n",
            "HadSkinCancer                    0\n",
            "HadCOPD                          0\n",
            "HadDepressiveDisorder            0\n",
            "HadKidneyDisease                 0\n",
            "HadArthritis                     0\n",
            "HadDiabetes                      0\n",
            "DeafOrHardOfHearing              0\n",
            "BlindOrVisionDifficulty          0\n",
            "DifficultyConcentrating          0\n",
            "DifficultyWalking                0\n",
            "DifficultyDressingBathing        0\n",
            "DifficultyErrands            25656\n",
            "SmokerStatus                 35462\n",
            "ECigaretteUsage              35660\n",
            "ChestScan                    56046\n",
            "RaceEthnicityCategory        14057\n",
            "AgeCategory                   9079\n",
            "HeightInMeters               28652\n",
            "WeightInKilograms            42078\n",
            "BMI                          48806\n",
            "AlcoholDrinkers              46574\n",
            "HIVTesting                   66127\n",
            "FluVaxLast12                 47121\n",
            "PneumoVaxEver                77040\n",
            "TetanusLast10Tdap            82516\n",
            "HighRiskLastYear             50623\n",
            "CovidPos                     50764\n",
            "dtype: int64\n"
          ]
        }
      ],
      "source": [
        "df['DifficultyDressingBathing'].fillna(df['DifficultyDressingBathing'].mode()[0], inplace=True)\n",
        "print(df.isnull().sum())\n",
        "\n"
      ]
    },
    {
      "cell_type": "code",
      "execution_count": 37,
      "metadata": {
        "collapsed": true,
        "id": "e28d8b42",
        "outputId": "4ccbc7be-1682-4635-f5a1-d3881e05363f",
        "colab": {
          "base_uri": "https://localhost:8080/"
        }
      },
      "outputs": [
        {
          "output_type": "stream",
          "name": "stderr",
          "text": [
            "<ipython-input-37-76c3c03e52d5>:1: FutureWarning: A value is trying to be set on a copy of a DataFrame or Series through chained assignment using an inplace method.\n",
            "The behavior will change in pandas 3.0. This inplace method will never work because the intermediate object on which we are setting values always behaves as a copy.\n",
            "\n",
            "For example, when doing 'df[col].method(value, inplace=True)', try using 'df.method({col: value}, inplace=True)' or df[col] = df[col].method(value) instead, to perform the operation inplace on the original object.\n",
            "\n",
            "\n",
            "  df['DifficultyErrands'].fillna(df['DifficultyErrands'].mode()[0], inplace=True)\n"
          ]
        },
        {
          "output_type": "stream",
          "name": "stdout",
          "text": [
            "State                            0\n",
            "Sex                              0\n",
            "GeneralHealth                    0\n",
            "PhysicalHealthDays               0\n",
            "MentalHealthDays                 0\n",
            "LastCheckupTime                  0\n",
            "PhysicalActivities               0\n",
            "SleepHours                       0\n",
            "RemovedTeeth                     0\n",
            "HadHeartAttack                   0\n",
            "HadAngina                        0\n",
            "HadStroke                        0\n",
            "HadAsthma                        0\n",
            "HadSkinCancer                    0\n",
            "HadCOPD                          0\n",
            "HadDepressiveDisorder            0\n",
            "HadKidneyDisease                 0\n",
            "HadArthritis                     0\n",
            "HadDiabetes                      0\n",
            "DeafOrHardOfHearing              0\n",
            "BlindOrVisionDifficulty          0\n",
            "DifficultyConcentrating          0\n",
            "DifficultyWalking                0\n",
            "DifficultyDressingBathing        0\n",
            "DifficultyErrands                0\n",
            "SmokerStatus                 35462\n",
            "ECigaretteUsage              35660\n",
            "ChestScan                    56046\n",
            "RaceEthnicityCategory        14057\n",
            "AgeCategory                   9079\n",
            "HeightInMeters               28652\n",
            "WeightInKilograms            42078\n",
            "BMI                          48806\n",
            "AlcoholDrinkers              46574\n",
            "HIVTesting                   66127\n",
            "FluVaxLast12                 47121\n",
            "PneumoVaxEver                77040\n",
            "TetanusLast10Tdap            82516\n",
            "HighRiskLastYear             50623\n",
            "CovidPos                     50764\n",
            "dtype: int64\n"
          ]
        }
      ],
      "source": [
        "df['DifficultyErrands'].fillna(df['DifficultyErrands'].mode()[0], inplace=True)\n",
        "print(df.isnull().sum())\n",
        "\n"
      ]
    },
    {
      "cell_type": "code",
      "execution_count": 38,
      "metadata": {
        "collapsed": true,
        "id": "e0dc3ead",
        "outputId": "8f48b216-a9c5-47ce-c351-378f671e4178",
        "colab": {
          "base_uri": "https://localhost:8080/"
        }
      },
      "outputs": [
        {
          "output_type": "stream",
          "name": "stderr",
          "text": [
            "<ipython-input-38-b6904478bcf9>:1: FutureWarning: A value is trying to be set on a copy of a DataFrame or Series through chained assignment using an inplace method.\n",
            "The behavior will change in pandas 3.0. This inplace method will never work because the intermediate object on which we are setting values always behaves as a copy.\n",
            "\n",
            "For example, when doing 'df[col].method(value, inplace=True)', try using 'df.method({col: value}, inplace=True)' or df[col] = df[col].method(value) instead, to perform the operation inplace on the original object.\n",
            "\n",
            "\n",
            "  df['SmokerStatus'].fillna(df['SmokerStatus'].mode()[0], inplace=True)\n"
          ]
        },
        {
          "output_type": "stream",
          "name": "stdout",
          "text": [
            "State                            0\n",
            "Sex                              0\n",
            "GeneralHealth                    0\n",
            "PhysicalHealthDays               0\n",
            "MentalHealthDays                 0\n",
            "LastCheckupTime                  0\n",
            "PhysicalActivities               0\n",
            "SleepHours                       0\n",
            "RemovedTeeth                     0\n",
            "HadHeartAttack                   0\n",
            "HadAngina                        0\n",
            "HadStroke                        0\n",
            "HadAsthma                        0\n",
            "HadSkinCancer                    0\n",
            "HadCOPD                          0\n",
            "HadDepressiveDisorder            0\n",
            "HadKidneyDisease                 0\n",
            "HadArthritis                     0\n",
            "HadDiabetes                      0\n",
            "DeafOrHardOfHearing              0\n",
            "BlindOrVisionDifficulty          0\n",
            "DifficultyConcentrating          0\n",
            "DifficultyWalking                0\n",
            "DifficultyDressingBathing        0\n",
            "DifficultyErrands                0\n",
            "SmokerStatus                     0\n",
            "ECigaretteUsage              35660\n",
            "ChestScan                    56046\n",
            "RaceEthnicityCategory        14057\n",
            "AgeCategory                   9079\n",
            "HeightInMeters               28652\n",
            "WeightInKilograms            42078\n",
            "BMI                          48806\n",
            "AlcoholDrinkers              46574\n",
            "HIVTesting                   66127\n",
            "FluVaxLast12                 47121\n",
            "PneumoVaxEver                77040\n",
            "TetanusLast10Tdap            82516\n",
            "HighRiskLastYear             50623\n",
            "CovidPos                     50764\n",
            "dtype: int64\n"
          ]
        }
      ],
      "source": [
        "df['SmokerStatus'].fillna(df['SmokerStatus'].mode()[0], inplace=True)\n",
        "print(df.isnull().sum())\n",
        "\n"
      ]
    },
    {
      "cell_type": "code",
      "execution_count": 39,
      "metadata": {
        "collapsed": true,
        "id": "8b2d7919",
        "outputId": "06d5304a-10cb-4065-b067-3d075bb15393",
        "colab": {
          "base_uri": "https://localhost:8080/"
        }
      },
      "outputs": [
        {
          "output_type": "stream",
          "name": "stderr",
          "text": [
            "<ipython-input-39-e0c71b2bc77b>:1: FutureWarning: A value is trying to be set on a copy of a DataFrame or Series through chained assignment using an inplace method.\n",
            "The behavior will change in pandas 3.0. This inplace method will never work because the intermediate object on which we are setting values always behaves as a copy.\n",
            "\n",
            "For example, when doing 'df[col].method(value, inplace=True)', try using 'df.method({col: value}, inplace=True)' or df[col] = df[col].method(value) instead, to perform the operation inplace on the original object.\n",
            "\n",
            "\n",
            "  df['ECigaretteUsage'].fillna(df['ECigaretteUsage'].mode()[0], inplace=True)\n"
          ]
        },
        {
          "output_type": "stream",
          "name": "stdout",
          "text": [
            "State                            0\n",
            "Sex                              0\n",
            "GeneralHealth                    0\n",
            "PhysicalHealthDays               0\n",
            "MentalHealthDays                 0\n",
            "LastCheckupTime                  0\n",
            "PhysicalActivities               0\n",
            "SleepHours                       0\n",
            "RemovedTeeth                     0\n",
            "HadHeartAttack                   0\n",
            "HadAngina                        0\n",
            "HadStroke                        0\n",
            "HadAsthma                        0\n",
            "HadSkinCancer                    0\n",
            "HadCOPD                          0\n",
            "HadDepressiveDisorder            0\n",
            "HadKidneyDisease                 0\n",
            "HadArthritis                     0\n",
            "HadDiabetes                      0\n",
            "DeafOrHardOfHearing              0\n",
            "BlindOrVisionDifficulty          0\n",
            "DifficultyConcentrating          0\n",
            "DifficultyWalking                0\n",
            "DifficultyDressingBathing        0\n",
            "DifficultyErrands                0\n",
            "SmokerStatus                     0\n",
            "ECigaretteUsage                  0\n",
            "ChestScan                    56046\n",
            "RaceEthnicityCategory        14057\n",
            "AgeCategory                   9079\n",
            "HeightInMeters               28652\n",
            "WeightInKilograms            42078\n",
            "BMI                          48806\n",
            "AlcoholDrinkers              46574\n",
            "HIVTesting                   66127\n",
            "FluVaxLast12                 47121\n",
            "PneumoVaxEver                77040\n",
            "TetanusLast10Tdap            82516\n",
            "HighRiskLastYear             50623\n",
            "CovidPos                     50764\n",
            "dtype: int64\n"
          ]
        }
      ],
      "source": [
        "df['ECigaretteUsage'].fillna(df['ECigaretteUsage'].mode()[0], inplace=True)\n",
        "print(df.isnull().sum())\n",
        "\n"
      ]
    },
    {
      "cell_type": "code",
      "execution_count": 40,
      "metadata": {
        "collapsed": true,
        "id": "910e603e",
        "outputId": "aca6b462-1652-4fc3-b7e5-12bac4a68e7b",
        "colab": {
          "base_uri": "https://localhost:8080/"
        }
      },
      "outputs": [
        {
          "output_type": "stream",
          "name": "stderr",
          "text": [
            "<ipython-input-40-14e9686d3d8b>:1: FutureWarning: A value is trying to be set on a copy of a DataFrame or Series through chained assignment using an inplace method.\n",
            "The behavior will change in pandas 3.0. This inplace method will never work because the intermediate object on which we are setting values always behaves as a copy.\n",
            "\n",
            "For example, when doing 'df[col].method(value, inplace=True)', try using 'df.method({col: value}, inplace=True)' or df[col] = df[col].method(value) instead, to perform the operation inplace on the original object.\n",
            "\n",
            "\n",
            "  df['ChestScan'].fillna(df['ChestScan'].mode()[0], inplace=True)\n"
          ]
        },
        {
          "output_type": "stream",
          "name": "stdout",
          "text": [
            "State                            0\n",
            "Sex                              0\n",
            "GeneralHealth                    0\n",
            "PhysicalHealthDays               0\n",
            "MentalHealthDays                 0\n",
            "LastCheckupTime                  0\n",
            "PhysicalActivities               0\n",
            "SleepHours                       0\n",
            "RemovedTeeth                     0\n",
            "HadHeartAttack                   0\n",
            "HadAngina                        0\n",
            "HadStroke                        0\n",
            "HadAsthma                        0\n",
            "HadSkinCancer                    0\n",
            "HadCOPD                          0\n",
            "HadDepressiveDisorder            0\n",
            "HadKidneyDisease                 0\n",
            "HadArthritis                     0\n",
            "HadDiabetes                      0\n",
            "DeafOrHardOfHearing              0\n",
            "BlindOrVisionDifficulty          0\n",
            "DifficultyConcentrating          0\n",
            "DifficultyWalking                0\n",
            "DifficultyDressingBathing        0\n",
            "DifficultyErrands                0\n",
            "SmokerStatus                     0\n",
            "ECigaretteUsage                  0\n",
            "ChestScan                        0\n",
            "RaceEthnicityCategory        14057\n",
            "AgeCategory                   9079\n",
            "HeightInMeters               28652\n",
            "WeightInKilograms            42078\n",
            "BMI                          48806\n",
            "AlcoholDrinkers              46574\n",
            "HIVTesting                   66127\n",
            "FluVaxLast12                 47121\n",
            "PneumoVaxEver                77040\n",
            "TetanusLast10Tdap            82516\n",
            "HighRiskLastYear             50623\n",
            "CovidPos                     50764\n",
            "dtype: int64\n"
          ]
        }
      ],
      "source": [
        "df['ChestScan'].fillna(df['ChestScan'].mode()[0], inplace=True)\n",
        "print(df.isnull().sum())\n",
        "\n"
      ]
    },
    {
      "cell_type": "code",
      "execution_count": 41,
      "metadata": {
        "collapsed": true,
        "id": "99346973",
        "outputId": "8a43f50d-79c2-4848-ae83-4809a4d89509",
        "colab": {
          "base_uri": "https://localhost:8080/"
        }
      },
      "outputs": [
        {
          "output_type": "stream",
          "name": "stderr",
          "text": [
            "<ipython-input-41-910fc73dfec1>:1: FutureWarning: A value is trying to be set on a copy of a DataFrame or Series through chained assignment using an inplace method.\n",
            "The behavior will change in pandas 3.0. This inplace method will never work because the intermediate object on which we are setting values always behaves as a copy.\n",
            "\n",
            "For example, when doing 'df[col].method(value, inplace=True)', try using 'df.method({col: value}, inplace=True)' or df[col] = df[col].method(value) instead, to perform the operation inplace on the original object.\n",
            "\n",
            "\n",
            "  df['RaceEthnicityCategory'].fillna(df['RaceEthnicityCategory'].mode()[0], inplace=True)\n"
          ]
        },
        {
          "output_type": "stream",
          "name": "stdout",
          "text": [
            "State                            0\n",
            "Sex                              0\n",
            "GeneralHealth                    0\n",
            "PhysicalHealthDays               0\n",
            "MentalHealthDays                 0\n",
            "LastCheckupTime                  0\n",
            "PhysicalActivities               0\n",
            "SleepHours                       0\n",
            "RemovedTeeth                     0\n",
            "HadHeartAttack                   0\n",
            "HadAngina                        0\n",
            "HadStroke                        0\n",
            "HadAsthma                        0\n",
            "HadSkinCancer                    0\n",
            "HadCOPD                          0\n",
            "HadDepressiveDisorder            0\n",
            "HadKidneyDisease                 0\n",
            "HadArthritis                     0\n",
            "HadDiabetes                      0\n",
            "DeafOrHardOfHearing              0\n",
            "BlindOrVisionDifficulty          0\n",
            "DifficultyConcentrating          0\n",
            "DifficultyWalking                0\n",
            "DifficultyDressingBathing        0\n",
            "DifficultyErrands                0\n",
            "SmokerStatus                     0\n",
            "ECigaretteUsage                  0\n",
            "ChestScan                        0\n",
            "RaceEthnicityCategory            0\n",
            "AgeCategory                   9079\n",
            "HeightInMeters               28652\n",
            "WeightInKilograms            42078\n",
            "BMI                          48806\n",
            "AlcoholDrinkers              46574\n",
            "HIVTesting                   66127\n",
            "FluVaxLast12                 47121\n",
            "PneumoVaxEver                77040\n",
            "TetanusLast10Tdap            82516\n",
            "HighRiskLastYear             50623\n",
            "CovidPos                     50764\n",
            "dtype: int64\n"
          ]
        }
      ],
      "source": [
        "df['RaceEthnicityCategory'].fillna(df['RaceEthnicityCategory'].mode()[0], inplace=True)\n",
        "print(df.isnull().sum())\n",
        "\n"
      ]
    },
    {
      "cell_type": "code",
      "execution_count": 42,
      "metadata": {
        "collapsed": true,
        "id": "3396976a",
        "outputId": "19801f5e-728a-4d70-b597-d8d623d37627",
        "colab": {
          "base_uri": "https://localhost:8080/"
        }
      },
      "outputs": [
        {
          "output_type": "stream",
          "name": "stderr",
          "text": [
            "<ipython-input-42-e3de7af33ec5>:1: FutureWarning: A value is trying to be set on a copy of a DataFrame or Series through chained assignment using an inplace method.\n",
            "The behavior will change in pandas 3.0. This inplace method will never work because the intermediate object on which we are setting values always behaves as a copy.\n",
            "\n",
            "For example, when doing 'df[col].method(value, inplace=True)', try using 'df.method({col: value}, inplace=True)' or df[col] = df[col].method(value) instead, to perform the operation inplace on the original object.\n",
            "\n",
            "\n",
            "  df['AgeCategory'].fillna(df['AgeCategory'].mode()[0], inplace=True)\n"
          ]
        },
        {
          "output_type": "stream",
          "name": "stdout",
          "text": [
            "State                            0\n",
            "Sex                              0\n",
            "GeneralHealth                    0\n",
            "PhysicalHealthDays               0\n",
            "MentalHealthDays                 0\n",
            "LastCheckupTime                  0\n",
            "PhysicalActivities               0\n",
            "SleepHours                       0\n",
            "RemovedTeeth                     0\n",
            "HadHeartAttack                   0\n",
            "HadAngina                        0\n",
            "HadStroke                        0\n",
            "HadAsthma                        0\n",
            "HadSkinCancer                    0\n",
            "HadCOPD                          0\n",
            "HadDepressiveDisorder            0\n",
            "HadKidneyDisease                 0\n",
            "HadArthritis                     0\n",
            "HadDiabetes                      0\n",
            "DeafOrHardOfHearing              0\n",
            "BlindOrVisionDifficulty          0\n",
            "DifficultyConcentrating          0\n",
            "DifficultyWalking                0\n",
            "DifficultyDressingBathing        0\n",
            "DifficultyErrands                0\n",
            "SmokerStatus                     0\n",
            "ECigaretteUsage                  0\n",
            "ChestScan                        0\n",
            "RaceEthnicityCategory            0\n",
            "AgeCategory                      0\n",
            "HeightInMeters               28652\n",
            "WeightInKilograms            42078\n",
            "BMI                          48806\n",
            "AlcoholDrinkers              46574\n",
            "HIVTesting                   66127\n",
            "FluVaxLast12                 47121\n",
            "PneumoVaxEver                77040\n",
            "TetanusLast10Tdap            82516\n",
            "HighRiskLastYear             50623\n",
            "CovidPos                     50764\n",
            "dtype: int64\n"
          ]
        }
      ],
      "source": [
        "df['AgeCategory'].fillna(df['AgeCategory'].mode()[0], inplace=True)\n",
        "print(df.isnull().sum())\n",
        "\n"
      ]
    },
    {
      "cell_type": "code",
      "execution_count": 43,
      "metadata": {
        "collapsed": true,
        "id": "cfaef709",
        "outputId": "a6132bfc-23b4-4ea4-ddc1-06aaaf9e0520",
        "colab": {
          "base_uri": "https://localhost:8080/"
        }
      },
      "outputs": [
        {
          "output_type": "stream",
          "name": "stderr",
          "text": [
            "<ipython-input-43-457a1f65c541>:1: FutureWarning: A value is trying to be set on a copy of a DataFrame or Series through chained assignment using an inplace method.\n",
            "The behavior will change in pandas 3.0. This inplace method will never work because the intermediate object on which we are setting values always behaves as a copy.\n",
            "\n",
            "For example, when doing 'df[col].method(value, inplace=True)', try using 'df.method({col: value}, inplace=True)' or df[col] = df[col].method(value) instead, to perform the operation inplace on the original object.\n",
            "\n",
            "\n",
            "  df['HeightInMeters'].fillna(df['HeightInMeters'].median(), inplace=True)\n"
          ]
        },
        {
          "output_type": "stream",
          "name": "stdout",
          "text": [
            "State                            0\n",
            "Sex                              0\n",
            "GeneralHealth                    0\n",
            "PhysicalHealthDays               0\n",
            "MentalHealthDays                 0\n",
            "LastCheckupTime                  0\n",
            "PhysicalActivities               0\n",
            "SleepHours                       0\n",
            "RemovedTeeth                     0\n",
            "HadHeartAttack                   0\n",
            "HadAngina                        0\n",
            "HadStroke                        0\n",
            "HadAsthma                        0\n",
            "HadSkinCancer                    0\n",
            "HadCOPD                          0\n",
            "HadDepressiveDisorder            0\n",
            "HadKidneyDisease                 0\n",
            "HadArthritis                     0\n",
            "HadDiabetes                      0\n",
            "DeafOrHardOfHearing              0\n",
            "BlindOrVisionDifficulty          0\n",
            "DifficultyConcentrating          0\n",
            "DifficultyWalking                0\n",
            "DifficultyDressingBathing        0\n",
            "DifficultyErrands                0\n",
            "SmokerStatus                     0\n",
            "ECigaretteUsage                  0\n",
            "ChestScan                        0\n",
            "RaceEthnicityCategory            0\n",
            "AgeCategory                      0\n",
            "HeightInMeters                   0\n",
            "WeightInKilograms            42078\n",
            "BMI                          48806\n",
            "AlcoholDrinkers              46574\n",
            "HIVTesting                   66127\n",
            "FluVaxLast12                 47121\n",
            "PneumoVaxEver                77040\n",
            "TetanusLast10Tdap            82516\n",
            "HighRiskLastYear             50623\n",
            "CovidPos                     50764\n",
            "dtype: int64\n"
          ]
        }
      ],
      "source": [
        "df['HeightInMeters'].fillna(df['HeightInMeters'].median(), inplace=True)\n",
        "print(df.isnull().sum())\n",
        "\n"
      ]
    },
    {
      "cell_type": "code",
      "execution_count": 44,
      "metadata": {
        "collapsed": true,
        "id": "cf98ad5f",
        "outputId": "57dba327-12fc-4b94-ee1a-1914a6327375",
        "colab": {
          "base_uri": "https://localhost:8080/"
        }
      },
      "outputs": [
        {
          "output_type": "stream",
          "name": "stderr",
          "text": [
            "<ipython-input-44-27202bd8b940>:1: FutureWarning: A value is trying to be set on a copy of a DataFrame or Series through chained assignment using an inplace method.\n",
            "The behavior will change in pandas 3.0. This inplace method will never work because the intermediate object on which we are setting values always behaves as a copy.\n",
            "\n",
            "For example, when doing 'df[col].method(value, inplace=True)', try using 'df.method({col: value}, inplace=True)' or df[col] = df[col].method(value) instead, to perform the operation inplace on the original object.\n",
            "\n",
            "\n",
            "  df['WeightInKilograms'].fillna(df['WeightInKilograms'].median(), inplace=True)\n"
          ]
        },
        {
          "output_type": "stream",
          "name": "stdout",
          "text": [
            "State                            0\n",
            "Sex                              0\n",
            "GeneralHealth                    0\n",
            "PhysicalHealthDays               0\n",
            "MentalHealthDays                 0\n",
            "LastCheckupTime                  0\n",
            "PhysicalActivities               0\n",
            "SleepHours                       0\n",
            "RemovedTeeth                     0\n",
            "HadHeartAttack                   0\n",
            "HadAngina                        0\n",
            "HadStroke                        0\n",
            "HadAsthma                        0\n",
            "HadSkinCancer                    0\n",
            "HadCOPD                          0\n",
            "HadDepressiveDisorder            0\n",
            "HadKidneyDisease                 0\n",
            "HadArthritis                     0\n",
            "HadDiabetes                      0\n",
            "DeafOrHardOfHearing              0\n",
            "BlindOrVisionDifficulty          0\n",
            "DifficultyConcentrating          0\n",
            "DifficultyWalking                0\n",
            "DifficultyDressingBathing        0\n",
            "DifficultyErrands                0\n",
            "SmokerStatus                     0\n",
            "ECigaretteUsage                  0\n",
            "ChestScan                        0\n",
            "RaceEthnicityCategory            0\n",
            "AgeCategory                      0\n",
            "HeightInMeters                   0\n",
            "WeightInKilograms                0\n",
            "BMI                          48806\n",
            "AlcoholDrinkers              46574\n",
            "HIVTesting                   66127\n",
            "FluVaxLast12                 47121\n",
            "PneumoVaxEver                77040\n",
            "TetanusLast10Tdap            82516\n",
            "HighRiskLastYear             50623\n",
            "CovidPos                     50764\n",
            "dtype: int64\n"
          ]
        }
      ],
      "source": [
        "df['WeightInKilograms'].fillna(df['WeightInKilograms'].median(), inplace=True)\n",
        "print(df.isnull().sum())\n",
        "\n"
      ]
    },
    {
      "cell_type": "code",
      "execution_count": 45,
      "metadata": {
        "collapsed": true,
        "id": "e6ca5db1",
        "outputId": "c9f476c3-f2cf-486d-c225-ea642186c3e0",
        "colab": {
          "base_uri": "https://localhost:8080/"
        }
      },
      "outputs": [
        {
          "output_type": "stream",
          "name": "stderr",
          "text": [
            "<ipython-input-45-1b1df4463053>:1: FutureWarning: A value is trying to be set on a copy of a DataFrame or Series through chained assignment using an inplace method.\n",
            "The behavior will change in pandas 3.0. This inplace method will never work because the intermediate object on which we are setting values always behaves as a copy.\n",
            "\n",
            "For example, when doing 'df[col].method(value, inplace=True)', try using 'df.method({col: value}, inplace=True)' or df[col] = df[col].method(value) instead, to perform the operation inplace on the original object.\n",
            "\n",
            "\n",
            "  df['BMI'].fillna(df['BMI'].median(), inplace=True)\n"
          ]
        },
        {
          "output_type": "stream",
          "name": "stdout",
          "text": [
            "State                            0\n",
            "Sex                              0\n",
            "GeneralHealth                    0\n",
            "PhysicalHealthDays               0\n",
            "MentalHealthDays                 0\n",
            "LastCheckupTime                  0\n",
            "PhysicalActivities               0\n",
            "SleepHours                       0\n",
            "RemovedTeeth                     0\n",
            "HadHeartAttack                   0\n",
            "HadAngina                        0\n",
            "HadStroke                        0\n",
            "HadAsthma                        0\n",
            "HadSkinCancer                    0\n",
            "HadCOPD                          0\n",
            "HadDepressiveDisorder            0\n",
            "HadKidneyDisease                 0\n",
            "HadArthritis                     0\n",
            "HadDiabetes                      0\n",
            "DeafOrHardOfHearing              0\n",
            "BlindOrVisionDifficulty          0\n",
            "DifficultyConcentrating          0\n",
            "DifficultyWalking                0\n",
            "DifficultyDressingBathing        0\n",
            "DifficultyErrands                0\n",
            "SmokerStatus                     0\n",
            "ECigaretteUsage                  0\n",
            "ChestScan                        0\n",
            "RaceEthnicityCategory            0\n",
            "AgeCategory                      0\n",
            "HeightInMeters                   0\n",
            "WeightInKilograms                0\n",
            "BMI                              0\n",
            "AlcoholDrinkers              46574\n",
            "HIVTesting                   66127\n",
            "FluVaxLast12                 47121\n",
            "PneumoVaxEver                77040\n",
            "TetanusLast10Tdap            82516\n",
            "HighRiskLastYear             50623\n",
            "CovidPos                     50764\n",
            "dtype: int64\n"
          ]
        }
      ],
      "source": [
        "df['BMI'].fillna(df['BMI'].median(), inplace=True)\n",
        "print(df.isnull().sum())"
      ]
    },
    {
      "cell_type": "code",
      "execution_count": 46,
      "metadata": {
        "collapsed": true,
        "id": "bf882107",
        "outputId": "edc06659-a0b6-4d7a-85a5-69a249ddd8ff",
        "colab": {
          "base_uri": "https://localhost:8080/"
        }
      },
      "outputs": [
        {
          "output_type": "stream",
          "name": "stderr",
          "text": [
            "<ipython-input-46-62492357ebdf>:1: FutureWarning: A value is trying to be set on a copy of a DataFrame or Series through chained assignment using an inplace method.\n",
            "The behavior will change in pandas 3.0. This inplace method will never work because the intermediate object on which we are setting values always behaves as a copy.\n",
            "\n",
            "For example, when doing 'df[col].method(value, inplace=True)', try using 'df.method({col: value}, inplace=True)' or df[col] = df[col].method(value) instead, to perform the operation inplace on the original object.\n",
            "\n",
            "\n",
            "  df['AlcoholDrinkers'].fillna(df['AlcoholDrinkers'].mode()[0], inplace=True)\n"
          ]
        },
        {
          "output_type": "stream",
          "name": "stdout",
          "text": [
            "State                            0\n",
            "Sex                              0\n",
            "GeneralHealth                    0\n",
            "PhysicalHealthDays               0\n",
            "MentalHealthDays                 0\n",
            "LastCheckupTime                  0\n",
            "PhysicalActivities               0\n",
            "SleepHours                       0\n",
            "RemovedTeeth                     0\n",
            "HadHeartAttack                   0\n",
            "HadAngina                        0\n",
            "HadStroke                        0\n",
            "HadAsthma                        0\n",
            "HadSkinCancer                    0\n",
            "HadCOPD                          0\n",
            "HadDepressiveDisorder            0\n",
            "HadKidneyDisease                 0\n",
            "HadArthritis                     0\n",
            "HadDiabetes                      0\n",
            "DeafOrHardOfHearing              0\n",
            "BlindOrVisionDifficulty          0\n",
            "DifficultyConcentrating          0\n",
            "DifficultyWalking                0\n",
            "DifficultyDressingBathing        0\n",
            "DifficultyErrands                0\n",
            "SmokerStatus                     0\n",
            "ECigaretteUsage                  0\n",
            "ChestScan                        0\n",
            "RaceEthnicityCategory            0\n",
            "AgeCategory                      0\n",
            "HeightInMeters                   0\n",
            "WeightInKilograms                0\n",
            "BMI                              0\n",
            "AlcoholDrinkers                  0\n",
            "HIVTesting                   66127\n",
            "FluVaxLast12                 47121\n",
            "PneumoVaxEver                77040\n",
            "TetanusLast10Tdap            82516\n",
            "HighRiskLastYear             50623\n",
            "CovidPos                     50764\n",
            "dtype: int64\n"
          ]
        }
      ],
      "source": [
        "df['AlcoholDrinkers'].fillna(df['AlcoholDrinkers'].mode()[0], inplace=True)\n",
        "print(df.isnull().sum())\n",
        "\n",
        "\n"
      ]
    },
    {
      "cell_type": "code",
      "execution_count": 47,
      "metadata": {
        "collapsed": true,
        "id": "c8a65225",
        "outputId": "038b261e-d642-4995-ace0-d13ce5e743aa",
        "colab": {
          "base_uri": "https://localhost:8080/"
        }
      },
      "outputs": [
        {
          "output_type": "stream",
          "name": "stderr",
          "text": [
            "<ipython-input-47-82c6b4b13a2e>:1: FutureWarning: A value is trying to be set on a copy of a DataFrame or Series through chained assignment using an inplace method.\n",
            "The behavior will change in pandas 3.0. This inplace method will never work because the intermediate object on which we are setting values always behaves as a copy.\n",
            "\n",
            "For example, when doing 'df[col].method(value, inplace=True)', try using 'df.method({col: value}, inplace=True)' or df[col] = df[col].method(value) instead, to perform the operation inplace on the original object.\n",
            "\n",
            "\n",
            "  df['HIVTesting'].fillna(df['HIVTesting'].mode()[0], inplace=True)\n"
          ]
        },
        {
          "output_type": "stream",
          "name": "stdout",
          "text": [
            "State                            0\n",
            "Sex                              0\n",
            "GeneralHealth                    0\n",
            "PhysicalHealthDays               0\n",
            "MentalHealthDays                 0\n",
            "LastCheckupTime                  0\n",
            "PhysicalActivities               0\n",
            "SleepHours                       0\n",
            "RemovedTeeth                     0\n",
            "HadHeartAttack                   0\n",
            "HadAngina                        0\n",
            "HadStroke                        0\n",
            "HadAsthma                        0\n",
            "HadSkinCancer                    0\n",
            "HadCOPD                          0\n",
            "HadDepressiveDisorder            0\n",
            "HadKidneyDisease                 0\n",
            "HadArthritis                     0\n",
            "HadDiabetes                      0\n",
            "DeafOrHardOfHearing              0\n",
            "BlindOrVisionDifficulty          0\n",
            "DifficultyConcentrating          0\n",
            "DifficultyWalking                0\n",
            "DifficultyDressingBathing        0\n",
            "DifficultyErrands                0\n",
            "SmokerStatus                     0\n",
            "ECigaretteUsage                  0\n",
            "ChestScan                        0\n",
            "RaceEthnicityCategory            0\n",
            "AgeCategory                      0\n",
            "HeightInMeters                   0\n",
            "WeightInKilograms                0\n",
            "BMI                              0\n",
            "AlcoholDrinkers                  0\n",
            "HIVTesting                       0\n",
            "FluVaxLast12                 47121\n",
            "PneumoVaxEver                77040\n",
            "TetanusLast10Tdap            82516\n",
            "HighRiskLastYear             50623\n",
            "CovidPos                     50764\n",
            "dtype: int64\n"
          ]
        }
      ],
      "source": [
        "df['HIVTesting'].fillna(df['HIVTesting'].mode()[0], inplace=True)\n",
        "print(df.isnull().sum())\n",
        "\n"
      ]
    },
    {
      "cell_type": "code",
      "execution_count": 48,
      "metadata": {
        "collapsed": true,
        "id": "7ea9915c",
        "outputId": "c7edda92-75fd-4531-c535-8041e8331a04",
        "colab": {
          "base_uri": "https://localhost:8080/"
        }
      },
      "outputs": [
        {
          "output_type": "stream",
          "name": "stderr",
          "text": [
            "<ipython-input-48-c2d08069e4ee>:1: FutureWarning: A value is trying to be set on a copy of a DataFrame or Series through chained assignment using an inplace method.\n",
            "The behavior will change in pandas 3.0. This inplace method will never work because the intermediate object on which we are setting values always behaves as a copy.\n",
            "\n",
            "For example, when doing 'df[col].method(value, inplace=True)', try using 'df.method({col: value}, inplace=True)' or df[col] = df[col].method(value) instead, to perform the operation inplace on the original object.\n",
            "\n",
            "\n",
            "  df['FluVaxLast12'].fillna(df['FluVaxLast12'].mode()[0], inplace=True)\n"
          ]
        },
        {
          "output_type": "stream",
          "name": "stdout",
          "text": [
            "State                            0\n",
            "Sex                              0\n",
            "GeneralHealth                    0\n",
            "PhysicalHealthDays               0\n",
            "MentalHealthDays                 0\n",
            "LastCheckupTime                  0\n",
            "PhysicalActivities               0\n",
            "SleepHours                       0\n",
            "RemovedTeeth                     0\n",
            "HadHeartAttack                   0\n",
            "HadAngina                        0\n",
            "HadStroke                        0\n",
            "HadAsthma                        0\n",
            "HadSkinCancer                    0\n",
            "HadCOPD                          0\n",
            "HadDepressiveDisorder            0\n",
            "HadKidneyDisease                 0\n",
            "HadArthritis                     0\n",
            "HadDiabetes                      0\n",
            "DeafOrHardOfHearing              0\n",
            "BlindOrVisionDifficulty          0\n",
            "DifficultyConcentrating          0\n",
            "DifficultyWalking                0\n",
            "DifficultyDressingBathing        0\n",
            "DifficultyErrands                0\n",
            "SmokerStatus                     0\n",
            "ECigaretteUsage                  0\n",
            "ChestScan                        0\n",
            "RaceEthnicityCategory            0\n",
            "AgeCategory                      0\n",
            "HeightInMeters                   0\n",
            "WeightInKilograms                0\n",
            "BMI                              0\n",
            "AlcoholDrinkers                  0\n",
            "HIVTesting                       0\n",
            "FluVaxLast12                     0\n",
            "PneumoVaxEver                77040\n",
            "TetanusLast10Tdap            82516\n",
            "HighRiskLastYear             50623\n",
            "CovidPos                     50764\n",
            "dtype: int64\n"
          ]
        }
      ],
      "source": [
        "df['FluVaxLast12'].fillna(df['FluVaxLast12'].mode()[0], inplace=True)\n",
        "print(df.isnull().sum())\n",
        "\n"
      ]
    },
    {
      "cell_type": "code",
      "execution_count": 49,
      "metadata": {
        "collapsed": true,
        "id": "27188dbe",
        "outputId": "73ff99a7-cfb2-41ed-84a5-1134a2569b37",
        "colab": {
          "base_uri": "https://localhost:8080/"
        }
      },
      "outputs": [
        {
          "output_type": "stream",
          "name": "stderr",
          "text": [
            "<ipython-input-49-2051fd59c310>:1: FutureWarning: A value is trying to be set on a copy of a DataFrame or Series through chained assignment using an inplace method.\n",
            "The behavior will change in pandas 3.0. This inplace method will never work because the intermediate object on which we are setting values always behaves as a copy.\n",
            "\n",
            "For example, when doing 'df[col].method(value, inplace=True)', try using 'df.method({col: value}, inplace=True)' or df[col] = df[col].method(value) instead, to perform the operation inplace on the original object.\n",
            "\n",
            "\n",
            "  df['PneumoVaxEver'].fillna(df['PneumoVaxEver'].mode()[0], inplace=True)\n"
          ]
        },
        {
          "output_type": "stream",
          "name": "stdout",
          "text": [
            "State                            0\n",
            "Sex                              0\n",
            "GeneralHealth                    0\n",
            "PhysicalHealthDays               0\n",
            "MentalHealthDays                 0\n",
            "LastCheckupTime                  0\n",
            "PhysicalActivities               0\n",
            "SleepHours                       0\n",
            "RemovedTeeth                     0\n",
            "HadHeartAttack                   0\n",
            "HadAngina                        0\n",
            "HadStroke                        0\n",
            "HadAsthma                        0\n",
            "HadSkinCancer                    0\n",
            "HadCOPD                          0\n",
            "HadDepressiveDisorder            0\n",
            "HadKidneyDisease                 0\n",
            "HadArthritis                     0\n",
            "HadDiabetes                      0\n",
            "DeafOrHardOfHearing              0\n",
            "BlindOrVisionDifficulty          0\n",
            "DifficultyConcentrating          0\n",
            "DifficultyWalking                0\n",
            "DifficultyDressingBathing        0\n",
            "DifficultyErrands                0\n",
            "SmokerStatus                     0\n",
            "ECigaretteUsage                  0\n",
            "ChestScan                        0\n",
            "RaceEthnicityCategory            0\n",
            "AgeCategory                      0\n",
            "HeightInMeters                   0\n",
            "WeightInKilograms                0\n",
            "BMI                              0\n",
            "AlcoholDrinkers                  0\n",
            "HIVTesting                       0\n",
            "FluVaxLast12                     0\n",
            "PneumoVaxEver                    0\n",
            "TetanusLast10Tdap            82516\n",
            "HighRiskLastYear             50623\n",
            "CovidPos                     50764\n",
            "dtype: int64\n"
          ]
        }
      ],
      "source": [
        "df['PneumoVaxEver'].fillna(df['PneumoVaxEver'].mode()[0], inplace=True)\n",
        "print(df.isnull().sum())\n",
        "\n"
      ]
    },
    {
      "cell_type": "code",
      "execution_count": 50,
      "metadata": {
        "collapsed": true,
        "id": "b6fd294f",
        "outputId": "d63a8fe0-3722-478e-ee27-d6b0e88956c9",
        "colab": {
          "base_uri": "https://localhost:8080/"
        }
      },
      "outputs": [
        {
          "output_type": "stream",
          "name": "stderr",
          "text": [
            "<ipython-input-50-02140376f980>:1: FutureWarning: A value is trying to be set on a copy of a DataFrame or Series through chained assignment using an inplace method.\n",
            "The behavior will change in pandas 3.0. This inplace method will never work because the intermediate object on which we are setting values always behaves as a copy.\n",
            "\n",
            "For example, when doing 'df[col].method(value, inplace=True)', try using 'df.method({col: value}, inplace=True)' or df[col] = df[col].method(value) instead, to perform the operation inplace on the original object.\n",
            "\n",
            "\n",
            "  df['TetanusLast10Tdap'].fillna(df['TetanusLast10Tdap'].mode()[0], inplace=True)\n"
          ]
        },
        {
          "output_type": "stream",
          "name": "stdout",
          "text": [
            "State                            0\n",
            "Sex                              0\n",
            "GeneralHealth                    0\n",
            "PhysicalHealthDays               0\n",
            "MentalHealthDays                 0\n",
            "LastCheckupTime                  0\n",
            "PhysicalActivities               0\n",
            "SleepHours                       0\n",
            "RemovedTeeth                     0\n",
            "HadHeartAttack                   0\n",
            "HadAngina                        0\n",
            "HadStroke                        0\n",
            "HadAsthma                        0\n",
            "HadSkinCancer                    0\n",
            "HadCOPD                          0\n",
            "HadDepressiveDisorder            0\n",
            "HadKidneyDisease                 0\n",
            "HadArthritis                     0\n",
            "HadDiabetes                      0\n",
            "DeafOrHardOfHearing              0\n",
            "BlindOrVisionDifficulty          0\n",
            "DifficultyConcentrating          0\n",
            "DifficultyWalking                0\n",
            "DifficultyDressingBathing        0\n",
            "DifficultyErrands                0\n",
            "SmokerStatus                     0\n",
            "ECigaretteUsage                  0\n",
            "ChestScan                        0\n",
            "RaceEthnicityCategory            0\n",
            "AgeCategory                      0\n",
            "HeightInMeters                   0\n",
            "WeightInKilograms                0\n",
            "BMI                              0\n",
            "AlcoholDrinkers                  0\n",
            "HIVTesting                       0\n",
            "FluVaxLast12                     0\n",
            "PneumoVaxEver                    0\n",
            "TetanusLast10Tdap                0\n",
            "HighRiskLastYear             50623\n",
            "CovidPos                     50764\n",
            "dtype: int64\n"
          ]
        }
      ],
      "source": [
        "df['TetanusLast10Tdap'].fillna(df['TetanusLast10Tdap'].mode()[0], inplace=True)\n",
        "print(df.isnull().sum())\n",
        "\n"
      ]
    },
    {
      "cell_type": "code",
      "execution_count": 51,
      "metadata": {
        "collapsed": true,
        "id": "825321c6",
        "outputId": "a2adcb29-06d0-4da4-f861-c3d8b4de45a9",
        "colab": {
          "base_uri": "https://localhost:8080/"
        }
      },
      "outputs": [
        {
          "output_type": "stream",
          "name": "stderr",
          "text": [
            "<ipython-input-51-4d32d3be2cef>:1: FutureWarning: A value is trying to be set on a copy of a DataFrame or Series through chained assignment using an inplace method.\n",
            "The behavior will change in pandas 3.0. This inplace method will never work because the intermediate object on which we are setting values always behaves as a copy.\n",
            "\n",
            "For example, when doing 'df[col].method(value, inplace=True)', try using 'df.method({col: value}, inplace=True)' or df[col] = df[col].method(value) instead, to perform the operation inplace on the original object.\n",
            "\n",
            "\n",
            "  df['HighRiskLastYear'].fillna(df['HighRiskLastYear'].mode()[0], inplace=True)\n"
          ]
        },
        {
          "output_type": "stream",
          "name": "stdout",
          "text": [
            "State                            0\n",
            "Sex                              0\n",
            "GeneralHealth                    0\n",
            "PhysicalHealthDays               0\n",
            "MentalHealthDays                 0\n",
            "LastCheckupTime                  0\n",
            "PhysicalActivities               0\n",
            "SleepHours                       0\n",
            "RemovedTeeth                     0\n",
            "HadHeartAttack                   0\n",
            "HadAngina                        0\n",
            "HadStroke                        0\n",
            "HadAsthma                        0\n",
            "HadSkinCancer                    0\n",
            "HadCOPD                          0\n",
            "HadDepressiveDisorder            0\n",
            "HadKidneyDisease                 0\n",
            "HadArthritis                     0\n",
            "HadDiabetes                      0\n",
            "DeafOrHardOfHearing              0\n",
            "BlindOrVisionDifficulty          0\n",
            "DifficultyConcentrating          0\n",
            "DifficultyWalking                0\n",
            "DifficultyDressingBathing        0\n",
            "DifficultyErrands                0\n",
            "SmokerStatus                     0\n",
            "ECigaretteUsage                  0\n",
            "ChestScan                        0\n",
            "RaceEthnicityCategory            0\n",
            "AgeCategory                      0\n",
            "HeightInMeters                   0\n",
            "WeightInKilograms                0\n",
            "BMI                              0\n",
            "AlcoholDrinkers                  0\n",
            "HIVTesting                       0\n",
            "FluVaxLast12                     0\n",
            "PneumoVaxEver                    0\n",
            "TetanusLast10Tdap                0\n",
            "HighRiskLastYear                 0\n",
            "CovidPos                     50764\n",
            "dtype: int64\n"
          ]
        }
      ],
      "source": [
        "df['HighRiskLastYear'].fillna(df['HighRiskLastYear'].mode()[0], inplace=True)\n",
        "print(df.isnull().sum())\n",
        "\n"
      ]
    },
    {
      "cell_type": "code",
      "execution_count": 52,
      "metadata": {
        "collapsed": true,
        "id": "5b4b83f7",
        "outputId": "c04325a2-7708-49fe-8d08-4a22d8c53ab9",
        "colab": {
          "base_uri": "https://localhost:8080/"
        }
      },
      "outputs": [
        {
          "output_type": "stream",
          "name": "stderr",
          "text": [
            "<ipython-input-52-ad42f9d7f523>:1: FutureWarning: A value is trying to be set on a copy of a DataFrame or Series through chained assignment using an inplace method.\n",
            "The behavior will change in pandas 3.0. This inplace method will never work because the intermediate object on which we are setting values always behaves as a copy.\n",
            "\n",
            "For example, when doing 'df[col].method(value, inplace=True)', try using 'df.method({col: value}, inplace=True)' or df[col] = df[col].method(value) instead, to perform the operation inplace on the original object.\n",
            "\n",
            "\n",
            "  df['CovidPos'].fillna(df['CovidPos'].mode()[0], inplace=True)\n"
          ]
        },
        {
          "output_type": "stream",
          "name": "stdout",
          "text": [
            "State                        0\n",
            "Sex                          0\n",
            "GeneralHealth                0\n",
            "PhysicalHealthDays           0\n",
            "MentalHealthDays             0\n",
            "LastCheckupTime              0\n",
            "PhysicalActivities           0\n",
            "SleepHours                   0\n",
            "RemovedTeeth                 0\n",
            "HadHeartAttack               0\n",
            "HadAngina                    0\n",
            "HadStroke                    0\n",
            "HadAsthma                    0\n",
            "HadSkinCancer                0\n",
            "HadCOPD                      0\n",
            "HadDepressiveDisorder        0\n",
            "HadKidneyDisease             0\n",
            "HadArthritis                 0\n",
            "HadDiabetes                  0\n",
            "DeafOrHardOfHearing          0\n",
            "BlindOrVisionDifficulty      0\n",
            "DifficultyConcentrating      0\n",
            "DifficultyWalking            0\n",
            "DifficultyDressingBathing    0\n",
            "DifficultyErrands            0\n",
            "SmokerStatus                 0\n",
            "ECigaretteUsage              0\n",
            "ChestScan                    0\n",
            "RaceEthnicityCategory        0\n",
            "AgeCategory                  0\n",
            "HeightInMeters               0\n",
            "WeightInKilograms            0\n",
            "BMI                          0\n",
            "AlcoholDrinkers              0\n",
            "HIVTesting                   0\n",
            "FluVaxLast12                 0\n",
            "PneumoVaxEver                0\n",
            "TetanusLast10Tdap            0\n",
            "HighRiskLastYear             0\n",
            "CovidPos                     0\n",
            "dtype: int64\n"
          ]
        }
      ],
      "source": [
        "df['CovidPos'].fillna(df['CovidPos'].mode()[0], inplace=True)\n",
        "print(df.isnull().sum())"
      ]
    },
    {
      "cell_type": "code",
      "execution_count": 53,
      "metadata": {
        "id": "5f83f70f",
        "outputId": "f4a46cdf-480a-44d8-c721-09f3bfdc6de9",
        "colab": {
          "base_uri": "https://localhost:8080/"
        }
      },
      "outputs": [
        {
          "output_type": "stream",
          "name": "stdout",
          "text": [
            "Number of duplicate rows: 0\n"
          ]
        }
      ],
      "source": [
        "df.drop_duplicates(inplace=True)\n",
        "print(\"Number of duplicate rows:\", df.duplicated().sum())\n"
      ]
    },
    {
      "cell_type": "code",
      "execution_count": 54,
      "metadata": {
        "id": "fbffc2d6"
      },
      "outputs": [],
      "source": [
        "df.to_csv(\"cleaned_data.csv\", index=False)"
      ]
    },
    {
      "cell_type": "code",
      "execution_count": 55,
      "metadata": {
        "collapsed": true,
        "id": "e0d5ece3",
        "outputId": "197991b7-a5c8-4fe5-89f9-f9284a00f3ed",
        "colab": {
          "base_uri": "https://localhost:8080/",
          "height": 429
        }
      },
      "outputs": [
        {
          "output_type": "execute_result",
          "data": {
            "text/plain": [
              "     State     Sex GeneralHealth  PhysicalHealthDays  MentalHealthDays  \\\n",
              "0  Alabama  Female     Very good                 0.0               0.0   \n",
              "1  Alabama  Female     Excellent                 0.0               0.0   \n",
              "2  Alabama  Female     Very good                 2.0               3.0   \n",
              "3  Alabama  Female     Excellent                 0.0               0.0   \n",
              "4  Alabama  Female          Fair                 2.0               0.0   \n",
              "\n",
              "                                     LastCheckupTime PhysicalActivities  \\\n",
              "0  Within past year (anytime less than 12 months ...                 No   \n",
              "1  Within past year (anytime less than 12 months ...                 No   \n",
              "2  Within past year (anytime less than 12 months ...                Yes   \n",
              "3  Within past year (anytime less than 12 months ...                Yes   \n",
              "4  Within past year (anytime less than 12 months ...                Yes   \n",
              "\n",
              "   SleepHours  RemovedTeeth HadHeartAttack  ... HeightInMeters  \\\n",
              "0         8.0  None of them             No  ...           1.70   \n",
              "1         6.0  None of them             No  ...           1.60   \n",
              "2         5.0  None of them             No  ...           1.57   \n",
              "3         7.0  None of them             No  ...           1.65   \n",
              "4         9.0  None of them             No  ...           1.57   \n",
              "\n",
              "  WeightInKilograms    BMI AlcoholDrinkers HIVTesting FluVaxLast12  \\\n",
              "0             80.74  27.44              No         No          Yes   \n",
              "1             68.04  26.57              No         No           No   \n",
              "2             63.50  25.61              No         No           No   \n",
              "3             63.50  23.30              No         No          Yes   \n",
              "4             53.98  21.77             Yes         No           No   \n",
              "\n",
              "  PneumoVaxEver                                  TetanusLast10Tdap  \\\n",
              "0            No  Yes, received tetanus shot but not sure what type   \n",
              "1            No  No, did not receive any tetanus shot in the pa...   \n",
              "2            No  No, did not receive any tetanus shot in the pa...   \n",
              "3           Yes  No, did not receive any tetanus shot in the pa...   \n",
              "4           Yes  No, did not receive any tetanus shot in the pa...   \n",
              "\n",
              "  HighRiskLastYear CovidPos  \n",
              "0               No       No  \n",
              "1               No       No  \n",
              "2               No      Yes  \n",
              "3               No       No  \n",
              "4               No       No  \n",
              "\n",
              "[5 rows x 40 columns]"
            ],
            "text/html": [
              "\n",
              "  <div id=\"df-5cd4983c-c71b-429a-91b4-f3d22b7c9dd7\" class=\"colab-df-container\">\n",
              "    <div>\n",
              "<style scoped>\n",
              "    .dataframe tbody tr th:only-of-type {\n",
              "        vertical-align: middle;\n",
              "    }\n",
              "\n",
              "    .dataframe tbody tr th {\n",
              "        vertical-align: top;\n",
              "    }\n",
              "\n",
              "    .dataframe thead th {\n",
              "        text-align: right;\n",
              "    }\n",
              "</style>\n",
              "<table border=\"1\" class=\"dataframe\">\n",
              "  <thead>\n",
              "    <tr style=\"text-align: right;\">\n",
              "      <th></th>\n",
              "      <th>State</th>\n",
              "      <th>Sex</th>\n",
              "      <th>GeneralHealth</th>\n",
              "      <th>PhysicalHealthDays</th>\n",
              "      <th>MentalHealthDays</th>\n",
              "      <th>LastCheckupTime</th>\n",
              "      <th>PhysicalActivities</th>\n",
              "      <th>SleepHours</th>\n",
              "      <th>RemovedTeeth</th>\n",
              "      <th>HadHeartAttack</th>\n",
              "      <th>...</th>\n",
              "      <th>HeightInMeters</th>\n",
              "      <th>WeightInKilograms</th>\n",
              "      <th>BMI</th>\n",
              "      <th>AlcoholDrinkers</th>\n",
              "      <th>HIVTesting</th>\n",
              "      <th>FluVaxLast12</th>\n",
              "      <th>PneumoVaxEver</th>\n",
              "      <th>TetanusLast10Tdap</th>\n",
              "      <th>HighRiskLastYear</th>\n",
              "      <th>CovidPos</th>\n",
              "    </tr>\n",
              "  </thead>\n",
              "  <tbody>\n",
              "    <tr>\n",
              "      <th>0</th>\n",
              "      <td>Alabama</td>\n",
              "      <td>Female</td>\n",
              "      <td>Very good</td>\n",
              "      <td>0.0</td>\n",
              "      <td>0.0</td>\n",
              "      <td>Within past year (anytime less than 12 months ...</td>\n",
              "      <td>No</td>\n",
              "      <td>8.0</td>\n",
              "      <td>None of them</td>\n",
              "      <td>No</td>\n",
              "      <td>...</td>\n",
              "      <td>1.70</td>\n",
              "      <td>80.74</td>\n",
              "      <td>27.44</td>\n",
              "      <td>No</td>\n",
              "      <td>No</td>\n",
              "      <td>Yes</td>\n",
              "      <td>No</td>\n",
              "      <td>Yes, received tetanus shot but not sure what type</td>\n",
              "      <td>No</td>\n",
              "      <td>No</td>\n",
              "    </tr>\n",
              "    <tr>\n",
              "      <th>1</th>\n",
              "      <td>Alabama</td>\n",
              "      <td>Female</td>\n",
              "      <td>Excellent</td>\n",
              "      <td>0.0</td>\n",
              "      <td>0.0</td>\n",
              "      <td>Within past year (anytime less than 12 months ...</td>\n",
              "      <td>No</td>\n",
              "      <td>6.0</td>\n",
              "      <td>None of them</td>\n",
              "      <td>No</td>\n",
              "      <td>...</td>\n",
              "      <td>1.60</td>\n",
              "      <td>68.04</td>\n",
              "      <td>26.57</td>\n",
              "      <td>No</td>\n",
              "      <td>No</td>\n",
              "      <td>No</td>\n",
              "      <td>No</td>\n",
              "      <td>No, did not receive any tetanus shot in the pa...</td>\n",
              "      <td>No</td>\n",
              "      <td>No</td>\n",
              "    </tr>\n",
              "    <tr>\n",
              "      <th>2</th>\n",
              "      <td>Alabama</td>\n",
              "      <td>Female</td>\n",
              "      <td>Very good</td>\n",
              "      <td>2.0</td>\n",
              "      <td>3.0</td>\n",
              "      <td>Within past year (anytime less than 12 months ...</td>\n",
              "      <td>Yes</td>\n",
              "      <td>5.0</td>\n",
              "      <td>None of them</td>\n",
              "      <td>No</td>\n",
              "      <td>...</td>\n",
              "      <td>1.57</td>\n",
              "      <td>63.50</td>\n",
              "      <td>25.61</td>\n",
              "      <td>No</td>\n",
              "      <td>No</td>\n",
              "      <td>No</td>\n",
              "      <td>No</td>\n",
              "      <td>No, did not receive any tetanus shot in the pa...</td>\n",
              "      <td>No</td>\n",
              "      <td>Yes</td>\n",
              "    </tr>\n",
              "    <tr>\n",
              "      <th>3</th>\n",
              "      <td>Alabama</td>\n",
              "      <td>Female</td>\n",
              "      <td>Excellent</td>\n",
              "      <td>0.0</td>\n",
              "      <td>0.0</td>\n",
              "      <td>Within past year (anytime less than 12 months ...</td>\n",
              "      <td>Yes</td>\n",
              "      <td>7.0</td>\n",
              "      <td>None of them</td>\n",
              "      <td>No</td>\n",
              "      <td>...</td>\n",
              "      <td>1.65</td>\n",
              "      <td>63.50</td>\n",
              "      <td>23.30</td>\n",
              "      <td>No</td>\n",
              "      <td>No</td>\n",
              "      <td>Yes</td>\n",
              "      <td>Yes</td>\n",
              "      <td>No, did not receive any tetanus shot in the pa...</td>\n",
              "      <td>No</td>\n",
              "      <td>No</td>\n",
              "    </tr>\n",
              "    <tr>\n",
              "      <th>4</th>\n",
              "      <td>Alabama</td>\n",
              "      <td>Female</td>\n",
              "      <td>Fair</td>\n",
              "      <td>2.0</td>\n",
              "      <td>0.0</td>\n",
              "      <td>Within past year (anytime less than 12 months ...</td>\n",
              "      <td>Yes</td>\n",
              "      <td>9.0</td>\n",
              "      <td>None of them</td>\n",
              "      <td>No</td>\n",
              "      <td>...</td>\n",
              "      <td>1.57</td>\n",
              "      <td>53.98</td>\n",
              "      <td>21.77</td>\n",
              "      <td>Yes</td>\n",
              "      <td>No</td>\n",
              "      <td>No</td>\n",
              "      <td>Yes</td>\n",
              "      <td>No, did not receive any tetanus shot in the pa...</td>\n",
              "      <td>No</td>\n",
              "      <td>No</td>\n",
              "    </tr>\n",
              "  </tbody>\n",
              "</table>\n",
              "<p>5 rows × 40 columns</p>\n",
              "</div>\n",
              "    <div class=\"colab-df-buttons\">\n",
              "\n",
              "  <div class=\"colab-df-container\">\n",
              "    <button class=\"colab-df-convert\" onclick=\"convertToInteractive('df-5cd4983c-c71b-429a-91b4-f3d22b7c9dd7')\"\n",
              "            title=\"Convert this dataframe to an interactive table.\"\n",
              "            style=\"display:none;\">\n",
              "\n",
              "  <svg xmlns=\"http://www.w3.org/2000/svg\" height=\"24px\" viewBox=\"0 -960 960 960\">\n",
              "    <path d=\"M120-120v-720h720v720H120Zm60-500h600v-160H180v160Zm220 220h160v-160H400v160Zm0 220h160v-160H400v160ZM180-400h160v-160H180v160Zm440 0h160v-160H620v160ZM180-180h160v-160H180v160Zm440 0h160v-160H620v160Z\"/>\n",
              "  </svg>\n",
              "    </button>\n",
              "\n",
              "  <style>\n",
              "    .colab-df-container {\n",
              "      display:flex;\n",
              "      gap: 12px;\n",
              "    }\n",
              "\n",
              "    .colab-df-convert {\n",
              "      background-color: #E8F0FE;\n",
              "      border: none;\n",
              "      border-radius: 50%;\n",
              "      cursor: pointer;\n",
              "      display: none;\n",
              "      fill: #1967D2;\n",
              "      height: 32px;\n",
              "      padding: 0 0 0 0;\n",
              "      width: 32px;\n",
              "    }\n",
              "\n",
              "    .colab-df-convert:hover {\n",
              "      background-color: #E2EBFA;\n",
              "      box-shadow: 0px 1px 2px rgba(60, 64, 67, 0.3), 0px 1px 3px 1px rgba(60, 64, 67, 0.15);\n",
              "      fill: #174EA6;\n",
              "    }\n",
              "\n",
              "    .colab-df-buttons div {\n",
              "      margin-bottom: 4px;\n",
              "    }\n",
              "\n",
              "    [theme=dark] .colab-df-convert {\n",
              "      background-color: #3B4455;\n",
              "      fill: #D2E3FC;\n",
              "    }\n",
              "\n",
              "    [theme=dark] .colab-df-convert:hover {\n",
              "      background-color: #434B5C;\n",
              "      box-shadow: 0px 1px 3px 1px rgba(0, 0, 0, 0.15);\n",
              "      filter: drop-shadow(0px 1px 2px rgba(0, 0, 0, 0.3));\n",
              "      fill: #FFFFFF;\n",
              "    }\n",
              "  </style>\n",
              "\n",
              "    <script>\n",
              "      const buttonEl =\n",
              "        document.querySelector('#df-5cd4983c-c71b-429a-91b4-f3d22b7c9dd7 button.colab-df-convert');\n",
              "      buttonEl.style.display =\n",
              "        google.colab.kernel.accessAllowed ? 'block' : 'none';\n",
              "\n",
              "      async function convertToInteractive(key) {\n",
              "        const element = document.querySelector('#df-5cd4983c-c71b-429a-91b4-f3d22b7c9dd7');\n",
              "        const dataTable =\n",
              "          await google.colab.kernel.invokeFunction('convertToInteractive',\n",
              "                                                    [key], {});\n",
              "        if (!dataTable) return;\n",
              "\n",
              "        const docLinkHtml = 'Like what you see? Visit the ' +\n",
              "          '<a target=\"_blank\" href=https://colab.research.google.com/notebooks/data_table.ipynb>data table notebook</a>'\n",
              "          + ' to learn more about interactive tables.';\n",
              "        element.innerHTML = '';\n",
              "        dataTable['output_type'] = 'display_data';\n",
              "        await google.colab.output.renderOutput(dataTable, element);\n",
              "        const docLink = document.createElement('div');\n",
              "        docLink.innerHTML = docLinkHtml;\n",
              "        element.appendChild(docLink);\n",
              "      }\n",
              "    </script>\n",
              "  </div>\n",
              "\n",
              "\n",
              "<div id=\"df-b44159f6-b21f-4dca-a79c-729996d4446b\">\n",
              "  <button class=\"colab-df-quickchart\" onclick=\"quickchart('df-b44159f6-b21f-4dca-a79c-729996d4446b')\"\n",
              "            title=\"Suggest charts\"\n",
              "            style=\"display:none;\">\n",
              "\n",
              "<svg xmlns=\"http://www.w3.org/2000/svg\" height=\"24px\"viewBox=\"0 0 24 24\"\n",
              "     width=\"24px\">\n",
              "    <g>\n",
              "        <path d=\"M19 3H5c-1.1 0-2 .9-2 2v14c0 1.1.9 2 2 2h14c1.1 0 2-.9 2-2V5c0-1.1-.9-2-2-2zM9 17H7v-7h2v7zm4 0h-2V7h2v10zm4 0h-2v-4h2v4z\"/>\n",
              "    </g>\n",
              "</svg>\n",
              "  </button>\n",
              "\n",
              "<style>\n",
              "  .colab-df-quickchart {\n",
              "      --bg-color: #E8F0FE;\n",
              "      --fill-color: #1967D2;\n",
              "      --hover-bg-color: #E2EBFA;\n",
              "      --hover-fill-color: #174EA6;\n",
              "      --disabled-fill-color: #AAA;\n",
              "      --disabled-bg-color: #DDD;\n",
              "  }\n",
              "\n",
              "  [theme=dark] .colab-df-quickchart {\n",
              "      --bg-color: #3B4455;\n",
              "      --fill-color: #D2E3FC;\n",
              "      --hover-bg-color: #434B5C;\n",
              "      --hover-fill-color: #FFFFFF;\n",
              "      --disabled-bg-color: #3B4455;\n",
              "      --disabled-fill-color: #666;\n",
              "  }\n",
              "\n",
              "  .colab-df-quickchart {\n",
              "    background-color: var(--bg-color);\n",
              "    border: none;\n",
              "    border-radius: 50%;\n",
              "    cursor: pointer;\n",
              "    display: none;\n",
              "    fill: var(--fill-color);\n",
              "    height: 32px;\n",
              "    padding: 0;\n",
              "    width: 32px;\n",
              "  }\n",
              "\n",
              "  .colab-df-quickchart:hover {\n",
              "    background-color: var(--hover-bg-color);\n",
              "    box-shadow: 0 1px 2px rgba(60, 64, 67, 0.3), 0 1px 3px 1px rgba(60, 64, 67, 0.15);\n",
              "    fill: var(--button-hover-fill-color);\n",
              "  }\n",
              "\n",
              "  .colab-df-quickchart-complete:disabled,\n",
              "  .colab-df-quickchart-complete:disabled:hover {\n",
              "    background-color: var(--disabled-bg-color);\n",
              "    fill: var(--disabled-fill-color);\n",
              "    box-shadow: none;\n",
              "  }\n",
              "\n",
              "  .colab-df-spinner {\n",
              "    border: 2px solid var(--fill-color);\n",
              "    border-color: transparent;\n",
              "    border-bottom-color: var(--fill-color);\n",
              "    animation:\n",
              "      spin 1s steps(1) infinite;\n",
              "  }\n",
              "\n",
              "  @keyframes spin {\n",
              "    0% {\n",
              "      border-color: transparent;\n",
              "      border-bottom-color: var(--fill-color);\n",
              "      border-left-color: var(--fill-color);\n",
              "    }\n",
              "    20% {\n",
              "      border-color: transparent;\n",
              "      border-left-color: var(--fill-color);\n",
              "      border-top-color: var(--fill-color);\n",
              "    }\n",
              "    30% {\n",
              "      border-color: transparent;\n",
              "      border-left-color: var(--fill-color);\n",
              "      border-top-color: var(--fill-color);\n",
              "      border-right-color: var(--fill-color);\n",
              "    }\n",
              "    40% {\n",
              "      border-color: transparent;\n",
              "      border-right-color: var(--fill-color);\n",
              "      border-top-color: var(--fill-color);\n",
              "    }\n",
              "    60% {\n",
              "      border-color: transparent;\n",
              "      border-right-color: var(--fill-color);\n",
              "    }\n",
              "    80% {\n",
              "      border-color: transparent;\n",
              "      border-right-color: var(--fill-color);\n",
              "      border-bottom-color: var(--fill-color);\n",
              "    }\n",
              "    90% {\n",
              "      border-color: transparent;\n",
              "      border-bottom-color: var(--fill-color);\n",
              "    }\n",
              "  }\n",
              "</style>\n",
              "\n",
              "  <script>\n",
              "    async function quickchart(key) {\n",
              "      const quickchartButtonEl =\n",
              "        document.querySelector('#' + key + ' button');\n",
              "      quickchartButtonEl.disabled = true;  // To prevent multiple clicks.\n",
              "      quickchartButtonEl.classList.add('colab-df-spinner');\n",
              "      try {\n",
              "        const charts = await google.colab.kernel.invokeFunction(\n",
              "            'suggestCharts', [key], {});\n",
              "      } catch (error) {\n",
              "        console.error('Error during call to suggestCharts:', error);\n",
              "      }\n",
              "      quickchartButtonEl.classList.remove('colab-df-spinner');\n",
              "      quickchartButtonEl.classList.add('colab-df-quickchart-complete');\n",
              "    }\n",
              "    (() => {\n",
              "      let quickchartButtonEl =\n",
              "        document.querySelector('#df-b44159f6-b21f-4dca-a79c-729996d4446b button');\n",
              "      quickchartButtonEl.style.display =\n",
              "        google.colab.kernel.accessAllowed ? 'block' : 'none';\n",
              "    })();\n",
              "  </script>\n",
              "</div>\n",
              "\n",
              "    </div>\n",
              "  </div>\n"
            ],
            "application/vnd.google.colaboratory.intrinsic+json": {
              "type": "dataframe",
              "variable_name": "df"
            }
          },
          "metadata": {},
          "execution_count": 55
        }
      ],
      "source": [
        "import pandas as pd\n",
        "import seaborn as sns\n",
        "import matplotlib.pyplot as plt\n",
        "\n",
        "file_path = \"cleaned_data.csv\"\n",
        "df = pd.read_csv(file_path)\n",
        "\n",
        "df.head()\n"
      ]
    },
    {
      "cell_type": "code",
      "execution_count": 56,
      "metadata": {
        "collapsed": true,
        "id": "2989d45f",
        "outputId": "5b633452-9dda-4472-b7c7-aaa452e8f024",
        "colab": {
          "base_uri": "https://localhost:8080/",
          "height": 667
        }
      },
      "outputs": [
        {
          "output_type": "display_data",
          "data": {
            "text/plain": [
              "<Figure size 700x600 with 2 Axes>"
            ],
            "image/png": "[encoded data removed]"
          },
          "metadata": {}
        }
      ],
      "source": [
        "import pandas as pd\n",
        "import seaborn as sns\n",
        "import matplotlib.pyplot as plt\n",
        "\n",
        "file_path = \"cleaned_data.csv\"\n",
        "df = pd.read_csv(file_path)\n",
        "\n",
        "numerical_columns = df.select_dtypes(include=['number']).columns\n",
        "\n",
        "correlation_matrix = df[numerical_columns].corr()\n",
        "\n",
        "plt.figure(figsize=(7, 6))\n",
        "sns.heatmap(correlation_matrix, annot=True, cmap=\"coolwarm\", fmt=\".2f\", linewidths=0.5)\n",
        "plt.title(\"Correlation Heatmap - Relationship Between Features\")\n",
        "plt.show()\n"
      ]
    },
    {
      "cell_type": "code",
      "execution_count": 57,
      "metadata": {
        "collapsed": true,
        "id": "c23b636e",
        "outputId": "b4aedc9e-2399-4064-ca2f-cd1298cdc338",
        "colab": {
          "base_uri": "https://localhost:8080/"
        }
      },
      "outputs": [
        {
          "output_type": "stream",
          "name": "stderr",
          "text": [
            "<ipython-input-57-1b23b7ece037>:6: FutureWarning: Downcasting behavior in `replace` is deprecated and will be removed in a future version. To retain the old behavior, explicitly call `result.infer_objects(copy=False)`. To opt-in to the future behavior, set `pd.set_option('future.no_silent_downcasting', True)`\n",
            "  df.replace({\"Yes\": 1, \"No\": 0}, inplace=True)\n"
          ]
        },
        {
          "output_type": "stream",
          "name": "stdout",
          "text": [
            "     State     Sex GeneralHealth  PhysicalHealthDays  MentalHealthDays  \\\n",
            "0  Alabama  Female     Very good                 0.0               0.0   \n",
            "1  Alabama  Female     Excellent                 0.0               0.0   \n",
            "2  Alabama  Female     Very good                 2.0               3.0   \n",
            "3  Alabama  Female     Excellent                 0.0               0.0   \n",
            "4  Alabama  Female          Fair                 2.0               0.0   \n",
            "\n",
            "                                     LastCheckupTime  PhysicalActivities  \\\n",
            "0  Within past year (anytime less than 12 months ...                   0   \n",
            "1  Within past year (anytime less than 12 months ...                   0   \n",
            "2  Within past year (anytime less than 12 months ...                   1   \n",
            "3  Within past year (anytime less than 12 months ...                   1   \n",
            "4  Within past year (anytime less than 12 months ...                   1   \n",
            "\n",
            "   SleepHours  RemovedTeeth  HadHeartAttack  ...  HeightInMeters  \\\n",
            "0         8.0  None of them               0  ...            1.70   \n",
            "1         6.0  None of them               0  ...            1.60   \n",
            "2         5.0  None of them               0  ...            1.57   \n",
            "3         7.0  None of them               0  ...            1.65   \n",
            "4         9.0  None of them               0  ...            1.57   \n",
            "\n",
            "   WeightInKilograms    BMI  AlcoholDrinkers  HIVTesting  FluVaxLast12  \\\n",
            "0              80.74  27.44                0           0             1   \n",
            "1              68.04  26.57                0           0             0   \n",
            "2              63.50  25.61                0           0             0   \n",
            "3              63.50  23.30                0           0             1   \n",
            "4              53.98  21.77                1           0             0   \n",
            "\n",
            "   PneumoVaxEver                                  TetanusLast10Tdap  \\\n",
            "0              0  Yes, received tetanus shot but not sure what type   \n",
            "1              0  No, did not receive any tetanus shot in the pa...   \n",
            "2              0  No, did not receive any tetanus shot in the pa...   \n",
            "3              1  No, did not receive any tetanus shot in the pa...   \n",
            "4              1  No, did not receive any tetanus shot in the pa...   \n",
            "\n",
            "  HighRiskLastYear  CovidPos  \n",
            "0                0         0  \n",
            "1                0         0  \n",
            "2                0         1  \n",
            "3                0         0  \n",
            "4                0         0  \n",
            "\n",
            "[5 rows x 40 columns]\n"
          ]
        }
      ],
      "source": [
        "import pandas as pd\n",
        "\n",
        "file_path = \"cleaned_data.csv\"\n",
        "df = pd.read_csv(file_path)\n",
        "\n",
        "df.replace({\"Yes\": 1, \"No\": 0}, inplace=True)\n",
        "\n",
        "print(df.head())\n",
        "\n",
        "df.to_csv(\"cleaned_data_numeric.csv\", index=False)\n"
      ]
    },
    {
      "cell_type": "code",
      "execution_count": 58,
      "metadata": {
        "collapsed": true,
        "id": "f5466b03",
        "outputId": "9dbfb42e-dc95-49d4-e776-bd9195668a43",
        "colab": {
          "base_uri": "https://localhost:8080/"
        }
      },
      "outputs": [
        {
          "output_type": "stream",
          "name": "stdout",
          "text": [
            "      Sex GeneralHealth  PhysicalHealthDays  MentalHealthDays  \\\n",
            "0  Female     Very good                 0.0               0.0   \n",
            "1  Female     Excellent                 0.0               0.0   \n",
            "2  Female     Very good                 2.0               3.0   \n",
            "3  Female     Excellent                 0.0               0.0   \n",
            "4  Female          Fair                 2.0               0.0   \n",
            "\n",
            "                                     LastCheckupTime  PhysicalActivities  \\\n",
            "0  Within past year (anytime less than 12 months ...                   0   \n",
            "1  Within past year (anytime less than 12 months ...                   0   \n",
            "2  Within past year (anytime less than 12 months ...                   1   \n",
            "3  Within past year (anytime less than 12 months ...                   1   \n",
            "4  Within past year (anytime less than 12 months ...                   1   \n",
            "\n",
            "   SleepHours  HadHeartAttack  HadAngina  HadStroke  ...      AgeCategory  \\\n",
            "0         8.0               0          0          0  ...  Age 80 or older   \n",
            "1         6.0               0          0          0  ...  Age 80 or older   \n",
            "2         5.0               0          0          0  ...     Age 55 to 59   \n",
            "3         7.0               0          0          0  ...     Age 65 to 69   \n",
            "4         9.0               0          0          0  ...     Age 40 to 44   \n",
            "\n",
            "   HeightInMeters  WeightInKilograms    BMI  AlcoholDrinkers  HIVTesting  \\\n",
            "0            1.70              80.74  27.44                0           0   \n",
            "1            1.60              68.04  26.57                0           0   \n",
            "2            1.57              63.50  25.61                0           0   \n",
            "3            1.65              63.50  23.30                0           0   \n",
            "4            1.57              53.98  21.77                1           0   \n",
            "\n",
            "  FluVaxLast12  PneumoVaxEver HighRiskLastYear CovidPos  \n",
            "0            1              0                0        0  \n",
            "1            0              0                0        0  \n",
            "2            0              0                0        1  \n",
            "3            1              1                0        0  \n",
            "4            0              1                0        0  \n",
            "\n",
            "[5 rows x 32 columns]\n"
          ]
        }
      ],
      "source": [
        "columns_to_remove = [\n",
        "    \"State\", \"RemovedTeeth\", \"DeafOrHardOfHearing\", \"BlindOrVisionDifficulty\",\n",
        "    \"DifficultyConcentrating\", \"DifficultyWalking\", \"DifficultyDressingBathing\",\n",
        "    \"TetanusLast10Tdap\"\n",
        "]\n",
        "df.drop(columns=columns_to_remove, inplace=True, errors='ignore')\n",
        "\n",
        "print(df.head())\n",
        "\n",
        "df.to_csv(\"cleaned_data_updated.csv\", index=False)"
      ]
    },
    {
      "cell_type": "code",
      "execution_count": 59,
      "metadata": {
        "collapsed": true,
        "id": "c2618747",
        "outputId": "bd7afb3c-379d-4c85-ac44-4d707f7192bf",
        "colab": {
          "base_uri": "https://localhost:8080/"
        }
      },
      "outputs": [
        {
          "output_type": "stream",
          "name": "stdout",
          "text": [
            "   Sex  GeneralHealth  PhysicalHealthDays  MentalHealthDays  \\\n",
            "0    0              4                 0.0               0.0   \n",
            "1    0              0                 0.0               0.0   \n",
            "2    0              4                 2.0               3.0   \n",
            "3    0              0                 0.0               0.0   \n",
            "4    0              1                 2.0               0.0   \n",
            "\n",
            "                                     LastCheckupTime  PhysicalActivities  \\\n",
            "0  Within past year (anytime less than 12 months ...                   0   \n",
            "1  Within past year (anytime less than 12 months ...                   0   \n",
            "2  Within past year (anytime less than 12 months ...                   1   \n",
            "3  Within past year (anytime less than 12 months ...                   1   \n",
            "4  Within past year (anytime less than 12 months ...                   1   \n",
            "\n",
            "   SleepHours  HadHeartAttack  HadAngina  HadStroke  ...      AgeCategory  \\\n",
            "0         8.0               0          0          0  ...  Age 80 or older   \n",
            "1         6.0               0          0          0  ...  Age 80 or older   \n",
            "2         5.0               0          0          0  ...     Age 55 to 59   \n",
            "3         7.0               0          0          0  ...     Age 65 to 69   \n",
            "4         9.0               0          0          0  ...     Age 40 to 44   \n",
            "\n",
            "   HeightInMeters  WeightInKilograms    BMI  AlcoholDrinkers  HIVTesting  \\\n",
            "0            1.70              80.74  27.44                0           0   \n",
            "1            1.60              68.04  26.57                0           0   \n",
            "2            1.57              63.50  25.61                0           0   \n",
            "3            1.65              63.50  23.30                0           0   \n",
            "4            1.57              53.98  21.77                1           0   \n",
            "\n",
            "  FluVaxLast12  PneumoVaxEver  HighRiskLastYear  CovidPos  \n",
            "0            1              0                 0         0  \n",
            "1            0              0                 0         0  \n",
            "2            0              0                 0         1  \n",
            "3            1              1                 0         0  \n",
            "4            0              1                 0         0  \n",
            "\n",
            "[5 rows x 32 columns]\n"
          ]
        }
      ],
      "source": [
        "import pandas as pd\n",
        "from sklearn.preprocessing import LabelEncoder\n",
        "\n",
        "file_path = \"cleaned_data_updated.csv\"\n",
        "df = pd.read_csv(file_path)\n",
        "\n",
        "columns_to_encode = [\"Sex\", \"GeneralHealth\", \"SmokerStatus\", \"ECigaretteUsage\", \"RaceEthnicityCategory\"]\n",
        "\n",
        "label_encoders = {}\n",
        "for col in columns_to_encode:\n",
        "    le = LabelEncoder()\n",
        "    df[col] = le.fit_transform(df[col].astype(str))\n",
        "    label_encoders[col] = le\n",
        "\n",
        "print(df.head())\n",
        "\n",
        "df.to_csv(\"cleaned_data_numeric_updated.csv\", index=False)\n"
      ]
    },
    {
      "cell_type": "code",
      "execution_count": 60,
      "metadata": {
        "collapsed": true,
        "id": "093640f0",
        "outputId": "3671f00b-193c-4927-f18b-3436e94144a2",
        "colab": {
          "base_uri": "https://localhost:8080/"
        }
      },
      "outputs": [
        {
          "output_type": "stream",
          "name": "stdout",
          "text": [
            "Mapping for Sex:\n",
            "{'Female': 0, 'Male': 1} \n",
            "\n",
            "Mapping for GeneralHealth:\n",
            "{'Excellent': 0, 'Fair': 1, 'Good': 2, 'Poor': 3, 'Very good': 4} \n",
            "\n",
            "Mapping for SmokerStatus:\n",
            "{'Current smoker - now smokes every day': 0, 'Current smoker - now smokes some days': 1, 'Former smoker': 2, 'Never smoked': 3} \n",
            "\n",
            "Mapping for ECigaretteUsage:\n",
            "{'Never used e-cigarettes in my entire life': 0, 'Not at all (right now)': 1, 'Use them every day': 2, 'Use them some days': 3} \n",
            "\n",
            "Mapping for RaceEthnicityCategory:\n",
            "{'Black only, Non-Hispanic': 0, 'Hispanic': 1, 'Multiracial, Non-Hispanic': 2, 'Other race only, Non-Hispanic': 3, 'White only, Non-Hispanic': 4} \n",
            "\n"
          ]
        }
      ],
      "source": [
        "for col, le in label_encoders.items():\n",
        "    print(f\"Mapping for {col}:\")\n",
        "    mapping = dict(zip(le.classes_, le.transform(le.classes_)))\n",
        "    print(mapping, \"\\n\")\n",
        "\n"
      ]
    },
    {
      "cell_type": "code",
      "execution_count": 65,
      "metadata": {
        "collapsed": true,
        "id": "d62ea8fe",
        "outputId": "564e5d4e-5959-4301-97c7-824b61b7d87a",
        "colab": {
          "base_uri": "https://localhost:8080/",
          "height": 356
        }
      },
      "outputs": [
        {
          "output_type": "error",
          "ename": "ValueError",
          "evalue": "could not convert string to float: 'Within past year (anytime less than 12 months ago)'",
          "traceback": [
            "\u001b[0;31m---------------------------------------------------------------------------\u001b[0m",
            "\u001b[0;31mValueError\u001b[0m                                Traceback (most recent call last)",
            "\u001b[0;32m<ipython-input-65-5536138d4d34>\u001b[0m in \u001b[0;36m<cell line: 0>\u001b[0;34m()\u001b[0m\n\u001b[1;32m      7\u001b[0m \u001b[0;34m\u001b[0m\u001b[0m\n\u001b[1;32m      8\u001b[0m \u001b[0;31m# Calculate correlation matrix\u001b[0m\u001b[0;34m\u001b[0m\u001b[0;34m\u001b[0m\u001b[0m\n\u001b[0;32m----> 9\u001b[0;31m \u001b[0mcorrelation_matrix\u001b[0m \u001b[0;34m=\u001b[0m \u001b[0mdf\u001b[0m\u001b[0;34m.\u001b[0m\u001b[0mcorr\u001b[0m\u001b[0;34m(\u001b[0m\u001b[0;34m)\u001b[0m\u001b[0;34m\u001b[0m\u001b[0;34m\u001b[0m\u001b[0m\n\u001b[0m\u001b[1;32m     10\u001b[0m \u001b[0;34m\u001b[0m\u001b[0m\n\u001b[1;32m     11\u001b[0m \u001b[0;31m# Create heatmap\u001b[0m\u001b[0;34m\u001b[0m\u001b[0;34m\u001b[0m\u001b[0m\n",
            "\u001b[0;32m/usr/local/lib/python3.11/dist-packages/pandas/core/frame.py\u001b[0m in \u001b[0;36mcorr\u001b[0;34m(self, method, min_periods, numeric_only)\u001b[0m\n\u001b[1;32m  11047\u001b[0m         \u001b[0mcols\u001b[0m \u001b[0;34m=\u001b[0m \u001b[0mdata\u001b[0m\u001b[0;34m.\u001b[0m\u001b[0mcolumns\u001b[0m\u001b[0;34m\u001b[0m\u001b[0;34m\u001b[0m\u001b[0m\n\u001b[1;32m  11048\u001b[0m         \u001b[0midx\u001b[0m \u001b[0;34m=\u001b[0m \u001b[0mcols\u001b[0m\u001b[0;34m.\u001b[0m\u001b[0mcopy\u001b[0m\u001b[0;34m(\u001b[0m\u001b[0;34m)\u001b[0m\u001b[0;34m\u001b[0m\u001b[0;34m\u001b[0m\u001b[0m\n\u001b[0;32m> 11049\u001b[0;31m         \u001b[0mmat\u001b[0m \u001b[0;34m=\u001b[0m \u001b[0mdata\u001b[0m\u001b[0;34m.\u001b[0m\u001b[0mto_numpy\u001b[0m\u001b[0;34m(\u001b[0m\u001b[0mdtype\u001b[0m\u001b[0;34m=\u001b[0m\u001b[0mfloat\u001b[0m\u001b[0;34m,\u001b[0m \u001b[0mna_value\u001b[0m\u001b[0;34m=\u001b[0m\u001b[0mnp\u001b[0m\u001b[0;34m.\u001b[0m\u001b[0mnan\u001b[0m\u001b[0;34m,\u001b[0m \u001b[0mcopy\u001b[0m\u001b[0;34m=\u001b[0m\u001b[0;32mFalse\u001b[0m\u001b[0;34m)\u001b[0m\u001b[0;34m\u001b[0m\u001b[0;34m\u001b[0m\u001b[0m\n\u001b[0m\u001b[1;32m  11050\u001b[0m \u001b[0;34m\u001b[0m\u001b[0m\n\u001b[1;32m  11051\u001b[0m         \u001b[0;32mif\u001b[0m \u001b[0mmethod\u001b[0m \u001b[0;34m==\u001b[0m \u001b[0;34m\"pearson\"\u001b[0m\u001b[0;34m:\u001b[0m\u001b[0;34m\u001b[0m\u001b[0;34m\u001b[0m\u001b[0m\n",
            "\u001b[0;32m/usr/local/lib/python3.11/dist-packages/pandas/core/frame.py\u001b[0m in \u001b[0;36mto_numpy\u001b[0;34m(self, dtype, copy, na_value)\u001b[0m\n\u001b[1;32m   1991\u001b[0m         \u001b[0;32mif\u001b[0m \u001b[0mdtype\u001b[0m \u001b[0;32mis\u001b[0m \u001b[0;32mnot\u001b[0m \u001b[0;32mNone\u001b[0m\u001b[0;34m:\u001b[0m\u001b[0;34m\u001b[0m\u001b[0;34m\u001b[0m\u001b[0m\n\u001b[1;32m   1992\u001b[0m             \u001b[0mdtype\u001b[0m \u001b[0;34m=\u001b[0m \u001b[0mnp\u001b[0m\u001b[0;34m.\u001b[0m\u001b[0mdtype\u001b[0m\u001b[0;34m(\u001b[0m\u001b[0mdtype\u001b[0m\u001b[0;34m)\u001b[0m\u001b[0;34m\u001b[0m\u001b[0;34m\u001b[0m\u001b[0m\n\u001b[0;32m-> 1993\u001b[0;31m         \u001b[0mresult\u001b[0m \u001b[0;34m=\u001b[0m \u001b[0mself\u001b[0m\u001b[0;34m.\u001b[0m\u001b[0m_mgr\u001b[0m\u001b[0;34m.\u001b[0m\u001b[0mas_array\u001b[0m\u001b[0;34m(\u001b[0m\u001b[0mdtype\u001b[0m\u001b[0;34m=\u001b[0m\u001b[0mdtype\u001b[0m\u001b[0;34m,\u001b[0m \u001b[0mcopy\u001b[0m\u001b[0;34m=\u001b[0m\u001b[0mcopy\u001b[0m\u001b[0;34m,\u001b[0m \u001b[0mna_value\u001b[0m\u001b[0;34m=\u001b[0m\u001b[0mna_value\u001b[0m\u001b[0;34m)\u001b[0m\u001b[0;34m\u001b[0m\u001b[0;34m\u001b[0m\u001b[0m\n\u001b[0m\u001b[1;32m   1994\u001b[0m         \u001b[0;32mif\u001b[0m \u001b[0mresult\u001b[0m\u001b[0;34m.\u001b[0m\u001b[0mdtype\u001b[0m \u001b[0;32mis\u001b[0m \u001b[0;32mnot\u001b[0m \u001b[0mdtype\u001b[0m\u001b[0;34m:\u001b[0m\u001b[0;34m\u001b[0m\u001b[0;34m\u001b[0m\u001b[0m\n\u001b[1;32m   1995\u001b[0m             \u001b[0mresult\u001b[0m \u001b[0;34m=\u001b[0m \u001b[0mnp\u001b[0m\u001b[0;34m.\u001b[0m\u001b[0masarray\u001b[0m\u001b[0;34m(\u001b[0m\u001b[0mresult\u001b[0m\u001b[0;34m,\u001b[0m \u001b[0mdtype\u001b[0m\u001b[0;34m=\u001b[0m\u001b[0mdtype\u001b[0m\u001b[0;34m)\u001b[0m\u001b[0;34m\u001b[0m\u001b[0;34m\u001b[0m\u001b[0m\n",
            "\u001b[0;32m/usr/local/lib/python3.11/dist-packages/pandas/core/internals/managers.py\u001b[0m in \u001b[0;36mas_array\u001b[0;34m(self, dtype, copy, na_value)\u001b[0m\n\u001b[1;32m   1692\u001b[0m                 \u001b[0marr\u001b[0m\u001b[0;34m.\u001b[0m\u001b[0mflags\u001b[0m\u001b[0;34m.\u001b[0m\u001b[0mwriteable\u001b[0m \u001b[0;34m=\u001b[0m \u001b[0;32mFalse\u001b[0m\u001b[0;34m\u001b[0m\u001b[0;34m\u001b[0m\u001b[0m\n\u001b[1;32m   1693\u001b[0m         \u001b[0;32melse\u001b[0m\u001b[0;34m:\u001b[0m\u001b[0;34m\u001b[0m\u001b[0;34m\u001b[0m\u001b[0m\n\u001b[0;32m-> 1694\u001b[0;31m             \u001b[0marr\u001b[0m \u001b[0;34m=\u001b[0m \u001b[0mself\u001b[0m\u001b[0;34m.\u001b[0m\u001b[0m_interleave\u001b[0m\u001b[0;34m(\u001b[0m\u001b[0mdtype\u001b[0m\u001b[0;34m=\u001b[0m\u001b[0mdtype\u001b[0m\u001b[0;34m,\u001b[0m \u001b[0mna_value\u001b[0m\u001b[0;34m=\u001b[0m\u001b[0mna_value\u001b[0m\u001b[0;34m)\u001b[0m\u001b[0;34m\u001b[0m\u001b[0;34m\u001b[0m\u001b[0m\n\u001b[0m\u001b[1;32m   1695\u001b[0m             \u001b[0;31m# The underlying data was copied within _interleave, so no need\u001b[0m\u001b[0;34m\u001b[0m\u001b[0;34m\u001b[0m\u001b[0m\n\u001b[1;32m   1696\u001b[0m             \u001b[0;31m# to further copy if copy=True or setting na_value\u001b[0m\u001b[0;34m\u001b[0m\u001b[0;34m\u001b[0m\u001b[0m\n",
            "\u001b[0;32m/usr/local/lib/python3.11/dist-packages/pandas/core/internals/managers.py\u001b[0m in \u001b[0;36m_interleave\u001b[0;34m(self, dtype, na_value)\u001b[0m\n\u001b[1;32m   1751\u001b[0m             \u001b[0;32melse\u001b[0m\u001b[0;34m:\u001b[0m\u001b[0;34m\u001b[0m\u001b[0;34m\u001b[0m\u001b[0m\n\u001b[1;32m   1752\u001b[0m                 \u001b[0marr\u001b[0m \u001b[0;34m=\u001b[0m \u001b[0mblk\u001b[0m\u001b[0;34m.\u001b[0m\u001b[0mget_values\u001b[0m\u001b[0;34m(\u001b[0m\u001b[0mdtype\u001b[0m\u001b[0;34m)\u001b[0m\u001b[0;34m\u001b[0m\u001b[0;34m\u001b[0m\u001b[0m\n\u001b[0;32m-> 1753\u001b[0;31m             \u001b[0mresult\u001b[0m\u001b[0;34m[\u001b[0m\u001b[0mrl\u001b[0m\u001b[0;34m.\u001b[0m\u001b[0mindexer\u001b[0m\u001b[0;34m]\u001b[0m \u001b[0;34m=\u001b[0m \u001b[0marr\u001b[0m\u001b[0;34m\u001b[0m\u001b[0;34m\u001b[0m\u001b[0m\n\u001b[0m\u001b[1;32m   1754\u001b[0m             \u001b[0mitemmask\u001b[0m\u001b[0;34m[\u001b[0m\u001b[0mrl\u001b[0m\u001b[0;34m.\u001b[0m\u001b[0mindexer\u001b[0m\u001b[0;34m]\u001b[0m \u001b[0;34m=\u001b[0m \u001b[0;36m1\u001b[0m\u001b[0;34m\u001b[0m\u001b[0;34m\u001b[0m\u001b[0m\n\u001b[1;32m   1755\u001b[0m \u001b[0;34m\u001b[0m\u001b[0m\n",
            "\u001b[0;31mValueError\u001b[0m: could not convert string to float: 'Within past year (anytime less than 12 months ago)'"
          ]
        }
      ],
      "source": [
        "import pandas as pd\n",
        "import seaborn as sns\n",
        "import matplotlib.pyplot as plt\n",
        "\n",
        "file_path = \"cleaned_data_numeric_updated.csv\"\n",
        "df = pd.read_csv(file_path)\n",
        "\n",
        "# Calculate correlation matrix\n",
        "correlation_matrix = df.corr()\n",
        "\n",
        "# Create heatmap\n",
        "plt.figure(figsize=(10, 8))  # Adjust figsize if needed for better readability\n",
        "sns.heatmap(correlation_matrix, annot=True, cmap=\"coolwarm\", fmt=\".2f\", linewidths=0.5)\n",
        "plt.title(\"Correlation Matrix - Relationship Between Features\")\n",
        "plt.xticks(rotation=45, ha='right')  # Rotate x-axis labels for better visibility\n",
        "plt.yticks(rotation=0)  # Ensure y-axis labels are horizontal\n",
        "plt.tight_layout()  # Adjust subplot parameters for a tight layout\n",
        "plt.show()\n",
        "\n",
        "# Print correlation matrix (optional)\n",
        "# print(correlation_matrix)"
      ]
    },
    {
      "cell_type": "code",
      "execution_count": 63,
      "metadata": {
        "collapsed": true,
        "id": "5e2519d2",
        "outputId": "db0b1b85-2da9-4f9b-d545-c926c6e908a7",
        "colab": {
          "base_uri": "https://localhost:8080/",
          "height": 356
        }
      },
      "outputs": [
        {
          "output_type": "error",
          "ename": "ValueError",
          "evalue": "could not convert string to float: 'No, pre-diabetes or borderline diabetes'",
          "traceback": [
            "\u001b[0;31m---------------------------------------------------------------------------\u001b[0m",
            "\u001b[0;31mValueError\u001b[0m                                Traceback (most recent call last)",
            "\u001b[0;32m<ipython-input-63-cb755e7d15e0>\u001b[0m in \u001b[0;36m<cell line: 0>\u001b[0;34m()\u001b[0m\n\u001b[1;32m     29\u001b[0m \u001b[0mdf_cardio\u001b[0m \u001b[0;34m=\u001b[0m \u001b[0mdf\u001b[0m\u001b[0;34m[\u001b[0m\u001b[0mrelevant_columns\u001b[0m\u001b[0;34m]\u001b[0m\u001b[0;34m\u001b[0m\u001b[0;34m\u001b[0m\u001b[0m\n\u001b[1;32m     30\u001b[0m \u001b[0;34m\u001b[0m\u001b[0m\n\u001b[0;32m---> 31\u001b[0;31m \u001b[0mcorrelation_matrix\u001b[0m \u001b[0;34m=\u001b[0m \u001b[0mdf_cardio\u001b[0m\u001b[0;34m.\u001b[0m\u001b[0mcorr\u001b[0m\u001b[0;34m(\u001b[0m\u001b[0;34m)\u001b[0m\u001b[0;34m\u001b[0m\u001b[0;34m\u001b[0m\u001b[0m\n\u001b[0m\u001b[1;32m     32\u001b[0m \u001b[0;34m\u001b[0m\u001b[0m\n\u001b[1;32m     33\u001b[0m \u001b[0mplt\u001b[0m\u001b[0;34m.\u001b[0m\u001b[0mfigure\u001b[0m\u001b[0;34m(\u001b[0m\u001b[0mfigsize\u001b[0m\u001b[0;34m=\u001b[0m\u001b[0;34m(\u001b[0m\u001b[0;36m10\u001b[0m\u001b[0;34m,\u001b[0m \u001b[0;36m6\u001b[0m\u001b[0;34m)\u001b[0m\u001b[0;34m)\u001b[0m\u001b[0;34m\u001b[0m\u001b[0;34m\u001b[0m\u001b[0m\n",
            "\u001b[0;32m/usr/local/lib/python3.11/dist-packages/pandas/core/frame.py\u001b[0m in \u001b[0;36mcorr\u001b[0;34m(self, method, min_periods, numeric_only)\u001b[0m\n\u001b[1;32m  11047\u001b[0m         \u001b[0mcols\u001b[0m \u001b[0;34m=\u001b[0m \u001b[0mdata\u001b[0m\u001b[0;34m.\u001b[0m\u001b[0mcolumns\u001b[0m\u001b[0;34m\u001b[0m\u001b[0;34m\u001b[0m\u001b[0m\n\u001b[1;32m  11048\u001b[0m         \u001b[0midx\u001b[0m \u001b[0;34m=\u001b[0m \u001b[0mcols\u001b[0m\u001b[0;34m.\u001b[0m\u001b[0mcopy\u001b[0m\u001b[0;34m(\u001b[0m\u001b[0;34m)\u001b[0m\u001b[0;34m\u001b[0m\u001b[0;34m\u001b[0m\u001b[0m\n\u001b[0;32m> 11049\u001b[0;31m         \u001b[0mmat\u001b[0m \u001b[0;34m=\u001b[0m \u001b[0mdata\u001b[0m\u001b[0;34m.\u001b[0m\u001b[0mto_numpy\u001b[0m\u001b[0;34m(\u001b[0m\u001b[0mdtype\u001b[0m\u001b[0;34m=\u001b[0m\u001b[0mfloat\u001b[0m\u001b[0;34m,\u001b[0m \u001b[0mna_value\u001b[0m\u001b[0;34m=\u001b[0m\u001b[0mnp\u001b[0m\u001b[0;34m.\u001b[0m\u001b[0mnan\u001b[0m\u001b[0;34m,\u001b[0m \u001b[0mcopy\u001b[0m\u001b[0;34m=\u001b[0m\u001b[0;32mFalse\u001b[0m\u001b[0;34m)\u001b[0m\u001b[0;34m\u001b[0m\u001b[0;34m\u001b[0m\u001b[0m\n\u001b[0m\u001b[1;32m  11050\u001b[0m \u001b[0;34m\u001b[0m\u001b[0m\n\u001b[1;32m  11051\u001b[0m         \u001b[0;32mif\u001b[0m \u001b[0mmethod\u001b[0m \u001b[0;34m==\u001b[0m \u001b[0;34m\"pearson\"\u001b[0m\u001b[0;34m:\u001b[0m\u001b[0;34m\u001b[0m\u001b[0;34m\u001b[0m\u001b[0m\n",
            "\u001b[0;32m/usr/local/lib/python3.11/dist-packages/pandas/core/frame.py\u001b[0m in \u001b[0;36mto_numpy\u001b[0;34m(self, dtype, copy, na_value)\u001b[0m\n\u001b[1;32m   1991\u001b[0m         \u001b[0;32mif\u001b[0m \u001b[0mdtype\u001b[0m \u001b[0;32mis\u001b[0m \u001b[0;32mnot\u001b[0m \u001b[0;32mNone\u001b[0m\u001b[0;34m:\u001b[0m\u001b[0;34m\u001b[0m\u001b[0;34m\u001b[0m\u001b[0m\n\u001b[1;32m   1992\u001b[0m             \u001b[0mdtype\u001b[0m \u001b[0;34m=\u001b[0m \u001b[0mnp\u001b[0m\u001b[0;34m.\u001b[0m\u001b[0mdtype\u001b[0m\u001b[0;34m(\u001b[0m\u001b[0mdtype\u001b[0m\u001b[0;34m)\u001b[0m\u001b[0;34m\u001b[0m\u001b[0;34m\u001b[0m\u001b[0m\n\u001b[0;32m-> 1993\u001b[0;31m         \u001b[0mresult\u001b[0m \u001b[0;34m=\u001b[0m \u001b[0mself\u001b[0m\u001b[0;34m.\u001b[0m\u001b[0m_mgr\u001b[0m\u001b[0;34m.\u001b[0m\u001b[0mas_array\u001b[0m\u001b[0;34m(\u001b[0m\u001b[0mdtype\u001b[0m\u001b[0;34m=\u001b[0m\u001b[0mdtype\u001b[0m\u001b[0;34m,\u001b[0m \u001b[0mcopy\u001b[0m\u001b[0;34m=\u001b[0m\u001b[0mcopy\u001b[0m\u001b[0;34m,\u001b[0m \u001b[0mna_value\u001b[0m\u001b[0;34m=\u001b[0m\u001b[0mna_value\u001b[0m\u001b[0;34m)\u001b[0m\u001b[0;34m\u001b[0m\u001b[0;34m\u001b[0m\u001b[0m\n\u001b[0m\u001b[1;32m   1994\u001b[0m         \u001b[0;32mif\u001b[0m \u001b[0mresult\u001b[0m\u001b[0;34m.\u001b[0m\u001b[0mdtype\u001b[0m \u001b[0;32mis\u001b[0m \u001b[0;32mnot\u001b[0m \u001b[0mdtype\u001b[0m\u001b[0;34m:\u001b[0m\u001b[0;34m\u001b[0m\u001b[0;34m\u001b[0m\u001b[0m\n\u001b[1;32m   1995\u001b[0m             \u001b[0mresult\u001b[0m \u001b[0;34m=\u001b[0m \u001b[0mnp\u001b[0m\u001b[0;34m.\u001b[0m\u001b[0masarray\u001b[0m\u001b[0;34m(\u001b[0m\u001b[0mresult\u001b[0m\u001b[0;34m,\u001b[0m \u001b[0mdtype\u001b[0m\u001b[0;34m=\u001b[0m\u001b[0mdtype\u001b[0m\u001b[0;34m)\u001b[0m\u001b[0;34m\u001b[0m\u001b[0;34m\u001b[0m\u001b[0m\n",
            "\u001b[0;32m/usr/local/lib/python3.11/dist-packages/pandas/core/internals/managers.py\u001b[0m in \u001b[0;36mas_array\u001b[0;34m(self, dtype, copy, na_value)\u001b[0m\n\u001b[1;32m   1692\u001b[0m                 \u001b[0marr\u001b[0m\u001b[0;34m.\u001b[0m\u001b[0mflags\u001b[0m\u001b[0;34m.\u001b[0m\u001b[0mwriteable\u001b[0m \u001b[0;34m=\u001b[0m \u001b[0;32mFalse\u001b[0m\u001b[0;34m\u001b[0m\u001b[0;34m\u001b[0m\u001b[0m\n\u001b[1;32m   1693\u001b[0m         \u001b[0;32melse\u001b[0m\u001b[0;34m:\u001b[0m\u001b[0;34m\u001b[0m\u001b[0;34m\u001b[0m\u001b[0m\n\u001b[0;32m-> 1694\u001b[0;31m             \u001b[0marr\u001b[0m \u001b[0;34m=\u001b[0m \u001b[0mself\u001b[0m\u001b[0;34m.\u001b[0m\u001b[0m_interleave\u001b[0m\u001b[0;34m(\u001b[0m\u001b[0mdtype\u001b[0m\u001b[0;34m=\u001b[0m\u001b[0mdtype\u001b[0m\u001b[0;34m,\u001b[0m \u001b[0mna_value\u001b[0m\u001b[0;34m=\u001b[0m\u001b[0mna_value\u001b[0m\u001b[0;34m)\u001b[0m\u001b[0;34m\u001b[0m\u001b[0;34m\u001b[0m\u001b[0m\n\u001b[0m\u001b[1;32m   1695\u001b[0m             \u001b[0;31m# The underlying data was copied within _interleave, so no need\u001b[0m\u001b[0;34m\u001b[0m\u001b[0;34m\u001b[0m\u001b[0m\n\u001b[1;32m   1696\u001b[0m             \u001b[0;31m# to further copy if copy=True or setting na_value\u001b[0m\u001b[0;34m\u001b[0m\u001b[0;34m\u001b[0m\u001b[0m\n",
            "\u001b[0;32m/usr/local/lib/python3.11/dist-packages/pandas/core/internals/managers.py\u001b[0m in \u001b[0;36m_interleave\u001b[0;34m(self, dtype, na_value)\u001b[0m\n\u001b[1;32m   1751\u001b[0m             \u001b[0;32melse\u001b[0m\u001b[0;34m:\u001b[0m\u001b[0;34m\u001b[0m\u001b[0;34m\u001b[0m\u001b[0m\n\u001b[1;32m   1752\u001b[0m                 \u001b[0marr\u001b[0m \u001b[0;34m=\u001b[0m \u001b[0mblk\u001b[0m\u001b[0;34m.\u001b[0m\u001b[0mget_values\u001b[0m\u001b[0;34m(\u001b[0m\u001b[0mdtype\u001b[0m\u001b[0;34m)\u001b[0m\u001b[0;34m\u001b[0m\u001b[0;34m\u001b[0m\u001b[0m\n\u001b[0;32m-> 1753\u001b[0;31m             \u001b[0mresult\u001b[0m\u001b[0;34m[\u001b[0m\u001b[0mrl\u001b[0m\u001b[0;34m.\u001b[0m\u001b[0mindexer\u001b[0m\u001b[0;34m]\u001b[0m \u001b[0;34m=\u001b[0m \u001b[0marr\u001b[0m\u001b[0;34m\u001b[0m\u001b[0;34m\u001b[0m\u001b[0m\n\u001b[0m\u001b[1;32m   1754\u001b[0m             \u001b[0mitemmask\u001b[0m\u001b[0;34m[\u001b[0m\u001b[0mrl\u001b[0m\u001b[0;34m.\u001b[0m\u001b[0mindexer\u001b[0m\u001b[0;34m]\u001b[0m \u001b[0;34m=\u001b[0m \u001b[0;36m1\u001b[0m\u001b[0;34m\u001b[0m\u001b[0;34m\u001b[0m\u001b[0m\n\u001b[1;32m   1755\u001b[0m \u001b[0;34m\u001b[0m\u001b[0m\n",
            "\u001b[0;31mValueError\u001b[0m: could not convert string to float: 'No, pre-diabetes or borderline diabetes'"
          ]
        }
      ],
      "source": [
        "import pandas as pd\n",
        "import seaborn as sns\n",
        "import matplotlib.pyplot as plt\n",
        "\n",
        "file_path = \"cleaned_data_numeric_updated.csv\"\n",
        "df = pd.read_csv(file_path)\n",
        "\n",
        "cardio_columns = [\n",
        "    \"GeneralHealth\",\n",
        "    \"Age\",\n",
        "    \"PhysicalHealthDays\",\n",
        "    \"HadHeartAttack\",\n",
        "    \"HadAngina\",\n",
        "    \"HadCOPD\",\n",
        "    \"HadKidneyDisease\",\n",
        "    \"HadDiabetes\",\n",
        "    \"SmokerStatus\",\n",
        "    \"ECigaretteUsage\",\n",
        "    \"PhysicalActivity\",\n",
        "    \"HeightInMeters\",\n",
        "    \"WeightInKilograms\",\n",
        "    \"BMI\",\n",
        "    \"AlcoholDrinkers\",\n",
        "    \"HighRiskLastYear\",\n",
        "    \"CovidPos\"\n",
        "]\n",
        "\n",
        "relevant_columns = [col for col in cardio_columns if col in df.columns]\n",
        "df_cardio = df[relevant_columns]\n",
        "\n",
        "correlation_matrix = df_cardio.corr()\n",
        "\n",
        "plt.figure(figsize=(10, 6))\n",
        "sns.heatmap(correlation_matrix, annot=True, cmap=\"coolwarm\", fmt=\".2f\")\n",
        "plt.title(\"Correlation Matrix - Cardiovascular Attack Related Features\")\n",
        "plt.show()\n"
      ]
    }
  ]
}